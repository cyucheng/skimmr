{
 "cells": [
  {
   "cell_type": "markdown",
   "metadata": {
    "collapsed": true
   },
   "source": [
    "## Train Models\n",
    "\n",
    "### Train a logistic regression model with the engineered features\n",
    "\n",
    "Including LDA-based topic similarity, sentence position, sentence length, and readability metrics, I trained a logistic regression model that can be applied to new sentences to predict whether they should be highlighted or not. I used logistic regression because this is a binary classification problem and because features weights can later be inspected to get an idea of their importance.\n",
    "\n",
    "I also tested a couple of methods (synthetic oversampling [SMOTE] and undersampling) from the imblearn library to account for the imbalanced dataset (~2% highlighted vs ~98% non-highlighted sentences). These gave similar highlight sensitivity results and slightly more balanced precision and f1-scores than the logistic regression with sklearn's automatic class weight rebalancing.\n",
    "\n",
    "Finally, I tested a random forest model for classification. This approach led to the non-highlighted samples dominating the prediction (despite balancing class weights in sklearn), such that highlight recall was very low. \n",
    "\n",
    "Thus, the final model that is applied in the backend of the **skimr** web app is a logistic regression model.\n",
    "\n"
   ]
  },
  {
   "cell_type": "code",
   "execution_count": 2,
   "metadata": {
    "collapsed": false
   },
   "outputs": [
    {
     "name": "stdout",
     "output_type": "stream",
     "text": [
      "207\n"
     ]
    }
   ],
   "source": [
    "import matplotlib.pyplot as plt\n",
    "import csv\n",
    "from textblob import TextBlob, Word\n",
    "import pandas as pd\n",
    "import sklearn\n",
    "import pickle\n",
    "import numpy as np\n",
    "import scipy\n",
    "from scipy import spatial\n",
    "import nltk.data\n",
    "from sklearn.feature_extraction.text import CountVectorizer, TfidfTransformer\n",
    "from sklearn.naive_bayes import MultinomialNB\n",
    "from sklearn.svm import SVC, LinearSVC\n",
    "from sklearn.metrics import classification_report, f1_score, accuracy_score, confusion_matrix\n",
    "from sklearn.pipeline import Pipeline\n",
    "from sklearn.tree import DecisionTreeClassifier \n",
    "from sklearn.model_selection import learning_curve, GridSearchCV, StratifiedKFold, cross_val_score, train_test_split \n",
    "sent_tokenizer = nltk.data.load('tokenizers/punkt/english.pickle')\n",
    "from nltk.tokenize import RegexpTokenizer\n",
    "word_tokenizer = RegexpTokenizer('\\s+', gaps=True)\n",
    "from patsy import dmatrices\n",
    "from sklearn.linear_model import LogisticRegression\n",
    "from sklearn import metrics\n",
    "from sklearn.preprocessing import OneHotEncoder\n",
    "from sklearn.preprocessing import StandardScaler\n",
    "from sklearn.pipeline import make_pipeline\n",
    "from sklearn.metrics.pairwise import cosine_similarity\n",
    "\n",
    "import imblearn\n",
    "from imblearn.under_sampling import RandomUnderSampler\n",
    "from imblearn.over_sampling import SMOTE\n",
    "from collections import Counter\n",
    "\n",
    "from stop_words import get_stop_words\n",
    "stop_en = get_stop_words('en')\n",
    "\n",
    "from nltk.stem.porter import PorterStemmer\n",
    "p_stemmer = PorterStemmer()\n",
    "\n",
    "en_words = set(nltk.corpus.words.words())\n",
    "\n",
    "from gensim import corpora, models\n",
    "import gensim\n",
    "\n",
    "import timeit\n",
    "import re\n",
    "import string\n",
    "from string import whitespace, punctuation\n",
    "\n",
    "from nltk.corpus import stopwords\n",
    "stopw_en = stopwords.words('english')\n",
    "all_stopw = set(stopw_en) | set(stop_en)\n",
    "print(len(all_stopw))\n"
   ]
  },
  {
   "cell_type": "code",
   "execution_count": 2,
   "metadata": {
    "collapsed": true
   },
   "outputs": [],
   "source": [
    "import math\n",
    "\n",
    "from utils import get_char_count\n",
    "from utils import get_words\n",
    "from utils import get_sentences\n",
    "from utils import count_syllables\n",
    "from utils import count_complex_words\n",
    "\n",
    "\n",
    "class Readability:\n",
    "    analyzedVars = {}\n",
    "\n",
    "    def __init__(self, text):\n",
    "        self.analyze_text(text)\n",
    "\n",
    "    def analyze_text(self, text):\n",
    "        words = get_words(text)\n",
    "        char_count = get_char_count(words)\n",
    "        word_count = len(words)\n",
    "        sentence_count = len(get_sentences(text))\n",
    "        syllable_count = count_syllables(words)\n",
    "        complexwords_count = count_complex_words(text)\n",
    "        avg_words_p_sentence = word_count/sentence_count\n",
    "        \n",
    "        self.analyzedVars = {\n",
    "            'words': words,\n",
    "            'char_cnt': float(char_count),\n",
    "            'word_cnt': float(word_count),\n",
    "            'sentence_cnt': float(sentence_count),\n",
    "            'syllable_cnt': float(syllable_count),\n",
    "            'complex_word_cnt': float(complexwords_count),\n",
    "            'avg_words_p_sentence': float(avg_words_p_sentence)\n",
    "        }\n",
    "\n",
    "    def ARI(self):\n",
    "        score = 0.0 \n",
    "        if self.analyzedVars['word_cnt'] > 0.0:\n",
    "            score = 4.71 * (self.analyzedVars['char_cnt'] / self.analyzedVars['word_cnt']) + 0.5 * (self.analyzedVars['word_cnt'] / self.analyzedVars['sentence_cnt']) - 21.43\n",
    "        return score\n",
    "        \n",
    "    def FleschReadingEase(self):\n",
    "        score = 0.0 \n",
    "        if self.analyzedVars['word_cnt'] > 0.0:\n",
    "            score = 206.835 - (1.015 * (self.analyzedVars['avg_words_p_sentence'])) - (84.6 * (self.analyzedVars['syllable_cnt']/ self.analyzedVars['word_cnt']))\n",
    "        return round(score, 4)\n",
    "        \n",
    "    def FleschKincaidGradeLevel(self):\n",
    "        score = 0.0 \n",
    "        if self.analyzedVars['word_cnt'] > 0.0:\n",
    "            score = 0.39 * (self.analyzedVars['avg_words_p_sentence']) + 11.8 * (self.analyzedVars['syllable_cnt']/ self.analyzedVars['word_cnt']) - 15.59\n",
    "        return round(score, 4)\n",
    "        \n",
    "    def GunningFogIndex(self):\n",
    "        score = 0.0 \n",
    "        if self.analyzedVars['word_cnt'] > 0.0:\n",
    "            score = 0.4 * ((self.analyzedVars['avg_words_p_sentence']) + (100 * (self.analyzedVars['complex_word_cnt']/self.analyzedVars['word_cnt'])))\n",
    "        return round(score, 4)\n",
    "\n",
    "    def SMOGIndex(self):\n",
    "        score = 0.0 \n",
    "        if self.analyzedVars['word_cnt'] > 0.0:\n",
    "            score = (math.sqrt(self.analyzedVars['complex_word_cnt']*(30/self.analyzedVars['sentence_cnt'])) + 3)\n",
    "        return score\n",
    "\n",
    "    def ColemanLiauIndex(self):\n",
    "        score = 0.0 \n",
    "        if self.analyzedVars['word_cnt'] > 0.0:\n",
    "            score = (5.89*(self.analyzedVars['char_cnt']/self.analyzedVars['word_cnt']))-(30*(self.analyzedVars['sentence_cnt']/self.analyzedVars['word_cnt']))-15.8\n",
    "        return round(score, 4)\n",
    "\n",
    "    def LIX(self):\n",
    "        longwords = 0.0\n",
    "        score = 0.0 \n",
    "        if self.analyzedVars['word_cnt'] > 0.0:\n",
    "            for word in self.analyzedVars['words']:\n",
    "                if len(word) >= 7:\n",
    "                    longwords += 1.0\n",
    "            score = self.analyzedVars['word_cnt'] / self.analyzedVars['sentence_cnt'] + float(100 * longwords) / self.analyzedVars['word_cnt']\n",
    "        return score\n",
    "\n",
    "    def RIX(self):\n",
    "        longwords = 0.0\n",
    "        score = 0.0 \n",
    "        if self.analyzedVars['word_cnt'] > 0.0:\n",
    "            for word in self.analyzedVars['words']:\n",
    "                if len(word) >= 7:\n",
    "                    longwords += 1.0\n",
    "            score = longwords / self.analyzedVars['sentence_cnt']\n",
    "        return score\n",
    "\n",
    "if __name__ == \"__main__\":\n",
    "    text = \"\"\"We are close to wrapping up our 10 week Rails Course. This week we will cover a handful of topics commonly encountered in Rails projects. We then wrap up with part 2 of our Reddit on Rails exercise!  By now you should be hard at work on your personal projects. The students in the course just presented in front of the class with some live demos and a brief intro to to the problems their app were solving. Maybe set aside some time this week to show someone your progress, block off 5 minutes and describe what goal you are working towards, the current state of the project (is it almost done, just getting started, needs UI, etc.), and then show them a quick demo of the app. Explain what type of feedback you are looking for (conceptual, design, usability, etc.) and see what they have to say.  As we are wrapping up the course you need to be focused on learning as much as you can, but also making sure you have the tools to succeed after the class is over.\"\"\"\n",
    "\n",
    "    rd = Readability(text)"
   ]
  },
  {
   "cell_type": "code",
   "execution_count": 3,
   "metadata": {
    "collapsed": false
   },
   "outputs": [
    {
     "name": "stdout",
     "output_type": "stream",
     "text": [
      "7.216451612903228\n"
     ]
    }
   ],
   "source": [
    "# testing readability\n",
    "rd = Readability('We are close to wrapping up our 10 week Rails Course. This week we will cover a handful of topics commonly encountered in Rails projects. We then wrap up with part 2 of our Reddit on Rails exercise!  By now you should be hard at work on your personal projects. The students in the course just presented in front of the class with some live demos and a brief intro to to the problems their app were solving. Maybe set aside some time this week to show someone your progress, block off 5 minutes and describe what goal you are working towards, the current state of the project (is it almost done, just getting started, needs UI, etc.), and then show them a quick demo of the app. Explain what type of feedback you are looking for (conceptual, design, usability, etc.) and see what they have to say.  As we are wrapping up the course you need to be focused on learning as much as you can, but also making sure you have the tools to succeed after the class is over.')\n",
    "print(rd.ARI())"
   ]
  },
  {
   "cell_type": "markdown",
   "metadata": {},
   "source": [
    "### Load dictionary and data"
   ]
  },
  {
   "cell_type": "code",
   "execution_count": 11,
   "metadata": {
    "collapsed": false
   },
   "outputs": [],
   "source": [
    "# dict_all = pickle.load(open('/Users/clarencecheng/Dropbox/~Insight/skimr/datasets/dict_all_new','rb'))\n",
    "# data = pd.read_pickle('/Users/clarencecheng/Dropbox/~Insight/skimr/datasets/data_pd_new')\n",
    "# data.head()\n"
   ]
  },
  {
   "cell_type": "markdown",
   "metadata": {},
   "source": [
    "### CONVERT list of paragraphs in 'text' column into string containing all text\n"
   ]
  },
  {
   "cell_type": "code",
   "execution_count": null,
   "metadata": {
    "collapsed": true
   },
   "outputs": [],
   "source": [
    "set_tr = data\n",
    "\n",
    "n = 0\n",
    "sent_join = []\n",
    "for i in set_tr['text']:\n",
    "    sent = str(' '.join(i))\n",
    "    sent_join.append(sent)\n",
    "\n",
    "\n",
    "\n"
   ]
  },
  {
   "cell_type": "markdown",
   "metadata": {},
   "source": [
    "### DELETE HIGHLIGHTS FROM FULLTEXT SENTENCES\n"
   ]
  },
  {
   "cell_type": "code",
   "execution_count": null,
   "metadata": {
    "collapsed": true
   },
   "outputs": [],
   "source": [
    "n = 0\n",
    "fulls_noh = []\n",
    "for i in set_tr['highlights']:\n",
    "    full = sent_join[n]\n",
    "#     print(full)\n",
    "#     print(i)\n",
    "    full_noh = full.replace(i,'.')\n",
    "#     print(full_noh)\n",
    "    fulls_noh.append(full_noh)\n",
    "    n+=1\n",
    "set_tmp = set_tr\n",
    "set_tr = pd.DataFrame({'ids':set_tmp['ids'], 'highlights':set_tmp['highlights'], 'text':set_tmp['text'], 'textwohighlight':fulls_noh})\n",
    "\n",
    "print(len(set_tr['textwohighlight']))\n",
    "\n",
    "\n",
    "\n"
   ]
  },
  {
   "cell_type": "markdown",
   "metadata": {},
   "source": [
    "### Save set_tr"
   ]
  },
  {
   "cell_type": "code",
   "execution_count": null,
   "metadata": {
    "collapsed": true
   },
   "outputs": [],
   "source": [
    "\n",
    "# fset_tr = open('/Users/clarencecheng/Dropbox/~Insight/skimr/datasets/set_tr','wb')\n",
    "# pickle.dump(set_tr, fset_tr)\n"
   ]
  },
  {
   "cell_type": "markdown",
   "metadata": {},
   "source": [
    "### LOAD set_tr\n"
   ]
  },
  {
   "cell_type": "code",
   "execution_count": 7,
   "metadata": {
    "collapsed": false
   },
   "outputs": [
    {
     "name": "stdout",
     "output_type": "stream",
     "text": [
      "                                             highlights   ids  \\\n",
      "0     Until you appreciate what you currently have, ...     2   \n",
      "1     And let’s not feel terrified, but full of rene...     4   \n",
      "2     Hard work is doing the work other people don’t...     5   \n",
      "3     He’d made up his mind to skip the dog thing al...    10   \n",
      "4     Realizing that our actions, feelings and behav...    12   \n",
      "5     So, the advice I have is to find what your nor...    13   \n",
      "6     Cryptoeconomic approaches combine cryptography...    14   \n",
      "7     You can feel however you want about Durant’s d...    15   \n",
      "8      A good principle should be a tradeoff, a choice.    16   \n",
      "9     But do I think there are going to be 12 people...    17   \n",
      "10    Angry, unhappy people demand bad leaders, who ...    18   \n",
      "11    For clarity we remove technical terms and we p...    19   \n",
      "12    The fact that something takes longer and requi...    22   \n",
      "13    Prioritize placing buttons at the bottom of th...    23   \n",
      "14    Token networks remove this friction by alignin...    25   \n",
      "15    (We also didn’t see that he double-dribbled li...    26   \n",
      "16    One is so fundamental as to be trite. Executio...    27   \n",
      "17    I just look at Apple these days and see a comp...    28   \n",
      "18    Women are conditioned to be very aware of the ...    29   \n",
      "19               Because I enjoy the sound of laughter.    30   \n",
      "20                  Tie your story into a larger point.    31   \n",
      "21    “Once you make a decision, the universe conspi...    32   \n",
      "22    Creativity allows us to take the data we have,...    33   \n",
      "23    “When I had nothing to lose, I had everything....    34   \n",
      "24    We just need to pause a moment and recognize t...    35   \n",
      "25    We are less bored than our ancestors were, but...    36   \n",
      "26    Sometimes the questions are complicated and th...    38   \n",
      "27    So how do you actually win? By deploying const...    39   \n",
      "28    We are all apprentices in a craft where no one...    40   \n",
      "29    Interfaces are stories, and every designer is ...    41   \n",
      "...                                                 ...   ...   \n",
      "3171  A vast majority of startups have 5 to 10 gener...  4496   \n",
      "3172  It’s also a post, so it can be recommended, hi...  4498   \n",
      "3173  Personally and professionally this is an excit...  4499   \n",
      "3174                     The best ships are friendships  4502   \n",
      "3175                                             really  4503   \n",
      "3176  The platform’s growth has spurned a culture of...  4507   \n",
      "3177  Societies that hold girls to rigid expectation...  4509   \n",
      "3178  Twitter enables connections between accounts. ...  4512   \n",
      "3179  If the minimum wage had kept pace with product...  4514   \n",
      "3180  Podcasts are terrific. But for many people (my...  4515   \n",
      "3181                           Trendy names never work.  4517   \n",
      "3182           And oddly absent in all of this: Dr. Dre  4520   \n",
      "3183                      Why are you crying at 7:30am?  4522   \n",
      "3184  Snapchat captures such screenshot usage, but m...  4526   \n",
      "3185  If there’s anything drug addicts are good at, ...  4530   \n",
      "3186  important to remember that product design is a...  4531   \n",
      "3187                                          Chameleon  4532   \n",
      "3188  Don’t confuse shame and guilt. Guilt is health...  4533   \n",
      "3189  How can you experience the worst of humanity b...  4536   \n",
      "3190                                        credibility  4537   \n",
      "3191                                            cashier  4538   \n",
      "3192  Em 2015 a mulher tem que brigar para ser o que...  4539   \n",
      "3193  In the Top 500 most-saved articles from the fi...  4540   \n",
      "3194  While social norms and even state laws say a m...  4541   \n",
      "3195                                             circus  4543   \n",
      "3196  A desk is a dangerous place from which to view...  4546   \n",
      "3197      A crowd is now better at journalism than CNN.  4548   \n",
      "3198                 the opposite of science isn’t girl  4554   \n",
      "3199  Medium will be the first and best network for ...  4555   \n",
      "3200                Her struggles deserve your respect.  4558   \n",
      "\n",
      "                                                   text  \\\n",
      "0     [https://unsplash.com/?photo=pFqrYbhIAXs, 35 T...   \n",
      "1     [Not giving in to terrorism, , The purpose of ...   \n",
      "2     [Actual hard work, If you’re reading this, you...   \n",
      "3     [Border Collie Who Almost Became Trump’s White...   \n",
      "4     [, How to use Cognitive Behavioural Therapy to...   \n",
      "5     [I Don’t Care What You Want or Need, , I’m des...   \n",
      "6     [Cryptoeconomics 101, Much has been discussed ...   \n",
      "7     [So Kevin Durant Can Play Center Now?, Golden ...   \n",
      "8     [In the future, design principles won’t be abo...   \n",
      "9     [The Rise of Audio &amp; Voice, , This is a hu...   \n",
      "10    [Why Trump Was Inevitable — But Recovery Isn’t...   \n",
      "11    [UX Writing: How to do it like Google with thi...   \n",
      "12    [, Why I illustrate all our blog posts, as a C...   \n",
      "13    [All Thumbs, Why Reach Navigation Should Repla...   \n",
      "14    [Crypto Tokens: A Breakthrough in Open Network...   \n",
      "15    [NBA Shootaround, It Takes Two, Steph Curry an...   \n",
      "16    [What Really Happened with Vista, I generally ...   \n",
      "17    [, The Falling Apple, Revisited, Some thoughts...   \n",
      "18    [Whose Pain Counts?, Many years ago, I had sex...   \n",
      "19    [Upgrading from Node 6 to Node 8: a real-world...   \n",
      "20    [, Storytelling Should Be the Number One Skill...   \n",
      "21    [https://unsplash.com/?photo=3Z70SDuYs5g, Will...   \n",
      "22    [If You Want to Be Creative, Don’t Be Data Dri...   \n",
      "23    [https://unsplash.com/?photo=wxxAx26SXys, Live...   \n",
      "24    [Melania Trump isn’t a black and white issue, ...   \n",
      "25    [Illustration by Ana Vasquez, A Day at Google,...   \n",
      "26    [, 10 incredible Quotes to guide your life., Y...   \n",
      "27    [Advice For Millennials Entering Their First J...   \n",
      "28    [How to Go From Hobbyist to Professional Devel...   \n",
      "29    [Storyframes before wireframes: starting desig...   \n",
      "...                                                 ...   \n",
      "3171  [, Startup Advising Is Broken — Here’s What We...   \n",
      "3172  [Introducing Letters, At Medium, we are buildi...   \n",
      "3173  [, HODINKEE + Watchville join forces, North Te...   \n",
      "3174  [The problem: it’s really tedious and stressfu...   \n",
      "3175  [, VSCO Suite for Mac OS X, Concept to bring s...   \n",
      "3176  [Re-imagining Twitter, How Chris Sacca’s 8,500...   \n",
      "3177  [What’s killing our girls, My eldest daughter ...   \n",
      "3178  [The Internet of Tweets, Will.I.Am visiting Tw...   \n",
      "3179  [Youth Unemployment and Dr. King’s Dream, (U.S...   \n",
      "3180  [Introducing Spoken.co, (You can also listen t...   \n",
      "3181  [The 9 Habits of Highly Effective Restaurants,...   \n",
      "3182  [, Apple Eating Beats Revisited, Remember when...   \n",
      "3183  [, How to make peanut butter toast, There are ...   \n",
      "3184  [, The Power of the Screenshot, If you analyze...   \n",
      "3185  [No this is not my mug shot, this is not me. P...   \n",
      "3186  [The Time When Lady Gaga Told YouTube to Keep ...   \n",
      "3187  [27 iOS open source libraries to skyrocket you...   \n",
      "3188  [via Educate Empower Kids, The Naked People In...   \n",
      "3189  [, My Mom Has a Question, My parents and I jus...   \n",
      "3190  [Walk then talk, My guiding philosophy on deve...   \n",
      "3191  [Traveling in Japan, A quick collection of not...   \n",
      "3192  [“O Nerd Padrão é Imbecil e Preconceituoso”, E...   \n",
      "3193  [, Surprise! Our Attention Spans Aren’t Dead!,...   \n",
      "3194  [A Room With a View — and Baby Too, Making Spa...   \n",
      "3195  [How I May Have Saved the Life of the Person i...   \n",
      "3196  [Culture Is More Than a Ping Pong Table, Organ...   \n",
      "3197  [Bernie Sanders interviewed by Brianna Keilar....   \n",
      "3198  [Papas, please let your babies grow up to be p...   \n",
      "3199  [This is not a new strategy., In April 2012, I...   \n",
      "3200  [What If Don Draper Was a Woman?, Jessica Knol...   \n",
      "\n",
      "                                        textwohighlight  \n",
      "0     https://unsplash.com/?photo=pFqrYbhIAXs 35 Thi...  \n",
      "1     Not giving in to terrorism  The purpose of ter...  \n",
      "2     Actual hard work If you’re reading this, you p...  \n",
      "3     Border Collie Who Almost Became Trump’s White ...  \n",
      "4      How to use Cognitive Behavioural Therapy to l...  \n",
      "5     I Don’t Care What You Want or Need  I’m desper...  \n",
      "6     Cryptoeconomics 101 Much has been discussed ab...  \n",
      "7     So Kevin Durant Can Play Center Now? Golden St...  \n",
      "8     In the future, design principles won’t be abou...  \n",
      "9     The Rise of Audio &amp; Voice  This is a huge ...  \n",
      "10    Why Trump Was Inevitable — But Recovery Isn’t ...  \n",
      "11    UX Writing: How to do it like Google with this...  \n",
      "12     Why I illustrate all our blog posts, as a CEO...  \n",
      "13    All Thumbs, Why Reach Navigation Should Replac...  \n",
      "14    Crypto Tokens: A Breakthrough in Open Network ...  \n",
      "15    NBA Shootaround It Takes Two Steph Curry and K...  \n",
      "16    What Really Happened with Vista I generally ha...  \n",
      "17     The Falling Apple, Revisited Some thoughts on...  \n",
      "18    Whose Pain Counts? Many years ago, I had sex w...  \n",
      "19    Upgrading from Node 6 to Node 8: a real-world ...  \n",
      "20     Storytelling Should Be the Number One Skill Y...  \n",
      "21    https://unsplash.com/?photo=3Z70SDuYs5g Willpo...  \n",
      "22    If You Want to Be Creative, Don’t Be Data Driv...  \n",
      "23    https://unsplash.com/?photo=wxxAx26SXys Live L...  \n",
      "24    Melania Trump isn’t a black and white issue  W...  \n",
      "25    Illustration by Ana Vasquez A Day at Google, L...  \n",
      "26     10 incredible Quotes to guide your life. You ...  \n",
      "27    Advice For Millennials Entering Their First Jo...  \n",
      "28    How to Go From Hobbyist to Professional Develo...  \n",
      "29    Storyframes before wireframes: starting design...  \n",
      "...                                                 ...  \n",
      "3171   Startup Advising Is Broken — Here’s What We’r...  \n",
      "3172  Introducing Letters At Medium, we are building...  \n",
      "3173   HODINKEE + Watchville join forces North Techn...  \n",
      "3174  The problem: it’s really tedious and stressful...  \n",
      "3175   VSCO Suite for Mac OS X Concept to bring simp...  \n",
      "3176  Re-imagining Twitter How Chris Sacca’s 8,500 w...  \n",
      "3177  What’s killing our girls My eldest daughter is...  \n",
      "3178  The Internet of Tweets Will.I.Am visiting Twit...  \n",
      "3179  Youth Unemployment and Dr. King’s Dream (U.S. ...  \n",
      "3180  Introducing Spoken.co (You can also listen to ...  \n",
      "3181  The 9 Habits of Highly Effective Restaurants W...  \n",
      "3182   Apple Eating Beats Revisited Remember when ev...  \n",
      "3183   How to make peanut butter toast There are ste...  \n",
      "3184   The Power of the Screenshot If you analyzed m...  \n",
      "3185  No this is not my mug shot, this is not me. Ph...  \n",
      "3186  The Time When Lady Gaga Told YouTube to Keep i...  \n",
      "3187  27 iOS open source libraries to skyrocket your...  \n",
      "3188  via Educate Empower Kids The Naked People In Y...  \n",
      "3189   My Mom Has a Question My parents and I just g...  \n",
      "3190  Walk then talk My guiding philosophy on develo...  \n",
      "3191  Traveling in Japan A quick collection of notes...  \n",
      "3192  “O Nerd Padrão é Imbecil e Preconceituoso” Ess...  \n",
      "3193   Surprise! Our Attention Spans Aren’t Dead! Ho...  \n",
      "3194  A Room With a View — and Baby Too Making Space...  \n",
      "3195  How I May Have Saved the Life of the Person in...  \n",
      "3196  Culture Is More Than a Ping Pong Table Organiz...  \n",
      "3197  Bernie Sanders interviewed by Brianna Keilar. ...  \n",
      "3198  Papas, please let your babies grow up to be pr...  \n",
      "3199  This is not a new strategy. In April 2012, I w...  \n",
      "3200  What If Don Draper Was a Woman? Jessica Knoll,...  \n",
      "\n",
      "[3201 rows x 4 columns]\n"
     ]
    }
   ],
   "source": [
    "set_tr = pd.read_pickle('/Users/clarencecheng/Dropbox/~Insight/skimr/datasets/set_tr')\n",
    "print(set_tr)\n"
   ]
  },
  {
   "cell_type": "markdown",
   "metadata": {},
   "source": [
    "### Create 'dataset' for further analysis (and pickle)"
   ]
  },
  {
   "cell_type": "code",
   "execution_count": 38,
   "metadata": {
    "collapsed": false
   },
   "outputs": [
    {
     "name": "stdout",
     "output_type": "stream",
     "text": [
      "                                             highlights   ids  \\\n",
      "0     Until you appreciate what you currently have, ...     2   \n",
      "1     And let’s not feel terrified, but full of rene...     4   \n",
      "2     Hard work is doing the work other people don’t...     5   \n",
      "3     He’d made up his mind to skip the dog thing al...    10   \n",
      "4     Realizing that our actions, feelings and behav...    12   \n",
      "5     So, the advice I have is to find what your nor...    13   \n",
      "6     Cryptoeconomic approaches combine cryptography...    14   \n",
      "7     You can feel however you want about Durant’s d...    15   \n",
      "8      A good principle should be a tradeoff, a choice.    16   \n",
      "9     But do I think there are going to be 12 people...    17   \n",
      "10    Angry, unhappy people demand bad leaders, who ...    18   \n",
      "11    For clarity we remove technical terms and we p...    19   \n",
      "12    The fact that something takes longer and requi...    22   \n",
      "13    Prioritize placing buttons at the bottom of th...    23   \n",
      "14    Token networks remove this friction by alignin...    25   \n",
      "15    (We also didn’t see that he double-dribbled li...    26   \n",
      "16    One is so fundamental as to be trite. Executio...    27   \n",
      "17    I just look at Apple these days and see a comp...    28   \n",
      "18    Women are conditioned to be very aware of the ...    29   \n",
      "19               Because I enjoy the sound of laughter.    30   \n",
      "20                  Tie your story into a larger point.    31   \n",
      "21    “Once you make a decision, the universe conspi...    32   \n",
      "22    Creativity allows us to take the data we have,...    33   \n",
      "23    “When I had nothing to lose, I had everything....    34   \n",
      "24    We just need to pause a moment and recognize t...    35   \n",
      "25    We are less bored than our ancestors were, but...    36   \n",
      "26    Sometimes the questions are complicated and th...    38   \n",
      "27    So how do you actually win? By deploying const...    39   \n",
      "28    We are all apprentices in a craft where no one...    40   \n",
      "29    Interfaces are stories, and every designer is ...    41   \n",
      "...                                                 ...   ...   \n",
      "3171  A vast majority of startups have 5 to 10 gener...  4496   \n",
      "3172  It’s also a post, so it can be recommended, hi...  4498   \n",
      "3173  Personally and professionally this is an excit...  4499   \n",
      "3174                     The best ships are friendships  4502   \n",
      "3175                                             really  4503   \n",
      "3176  The platform’s growth has spurned a culture of...  4507   \n",
      "3177  Societies that hold girls to rigid expectation...  4509   \n",
      "3178  Twitter enables connections between accounts. ...  4512   \n",
      "3179  If the minimum wage had kept pace with product...  4514   \n",
      "3180  Podcasts are terrific. But for many people (my...  4515   \n",
      "3181                           Trendy names never work.  4517   \n",
      "3182           And oddly absent in all of this: Dr. Dre  4520   \n",
      "3183                      Why are you crying at 7:30am?  4522   \n",
      "3184  Snapchat captures such screenshot usage, but m...  4526   \n",
      "3185  If there’s anything drug addicts are good at, ...  4530   \n",
      "3186  important to remember that product design is a...  4531   \n",
      "3187                                          Chameleon  4532   \n",
      "3188  Don’t confuse shame and guilt. Guilt is health...  4533   \n",
      "3189  How can you experience the worst of humanity b...  4536   \n",
      "3190                                        credibility  4537   \n",
      "3191                                            cashier  4538   \n",
      "3192  Em 2015 a mulher tem que brigar para ser o que...  4539   \n",
      "3193  In the Top 500 most-saved articles from the fi...  4540   \n",
      "3194  While social norms and even state laws say a m...  4541   \n",
      "3195                                             circus  4543   \n",
      "3196  A desk is a dangerous place from which to view...  4546   \n",
      "3197      A crowd is now better at journalism than CNN.  4548   \n",
      "3198                 the opposite of science isn’t girl  4554   \n",
      "3199  Medium will be the first and best network for ...  4555   \n",
      "3200                Her struggles deserve your respect.  4558   \n",
      "\n",
      "                                                   text  \\\n",
      "0     [https://unsplash.com/?photo=pFqrYbhIAXs, 35 T...   \n",
      "1     [Not giving in to terrorism, , The purpose of ...   \n",
      "2     [Actual hard work, If you’re reading this, you...   \n",
      "3     [Border Collie Who Almost Became Trump’s White...   \n",
      "4     [, How to use Cognitive Behavioural Therapy to...   \n",
      "5     [I Don’t Care What You Want or Need, , I’m des...   \n",
      "6     [Cryptoeconomics 101, Much has been discussed ...   \n",
      "7     [So Kevin Durant Can Play Center Now?, Golden ...   \n",
      "8     [In the future, design principles won’t be abo...   \n",
      "9     [The Rise of Audio &amp; Voice, , This is a hu...   \n",
      "10    [Why Trump Was Inevitable — But Recovery Isn’t...   \n",
      "11    [UX Writing: How to do it like Google with thi...   \n",
      "12    [, Why I illustrate all our blog posts, as a C...   \n",
      "13    [All Thumbs, Why Reach Navigation Should Repla...   \n",
      "14    [Crypto Tokens: A Breakthrough in Open Network...   \n",
      "15    [NBA Shootaround, It Takes Two, Steph Curry an...   \n",
      "16    [What Really Happened with Vista, I generally ...   \n",
      "17    [, The Falling Apple, Revisited, Some thoughts...   \n",
      "18    [Whose Pain Counts?, Many years ago, I had sex...   \n",
      "19    [Upgrading from Node 6 to Node 8: a real-world...   \n",
      "20    [, Storytelling Should Be the Number One Skill...   \n",
      "21    [https://unsplash.com/?photo=3Z70SDuYs5g, Will...   \n",
      "22    [If You Want to Be Creative, Don’t Be Data Dri...   \n",
      "23    [https://unsplash.com/?photo=wxxAx26SXys, Live...   \n",
      "24    [Melania Trump isn’t a black and white issue, ...   \n",
      "25    [Illustration by Ana Vasquez, A Day at Google,...   \n",
      "26    [, 10 incredible Quotes to guide your life., Y...   \n",
      "27    [Advice For Millennials Entering Their First J...   \n",
      "28    [How to Go From Hobbyist to Professional Devel...   \n",
      "29    [Storyframes before wireframes: starting desig...   \n",
      "...                                                 ...   \n",
      "3171  [, Startup Advising Is Broken — Here’s What We...   \n",
      "3172  [Introducing Letters, At Medium, we are buildi...   \n",
      "3173  [, HODINKEE + Watchville join forces, North Te...   \n",
      "3174  [The problem: it’s really tedious and stressfu...   \n",
      "3175  [, VSCO Suite for Mac OS X, Concept to bring s...   \n",
      "3176  [Re-imagining Twitter, How Chris Sacca’s 8,500...   \n",
      "3177  [What’s killing our girls, My eldest daughter ...   \n",
      "3178  [The Internet of Tweets, Will.I.Am visiting Tw...   \n",
      "3179  [Youth Unemployment and Dr. King’s Dream, (U.S...   \n",
      "3180  [Introducing Spoken.co, (You can also listen t...   \n",
      "3181  [The 9 Habits of Highly Effective Restaurants,...   \n",
      "3182  [, Apple Eating Beats Revisited, Remember when...   \n",
      "3183  [, How to make peanut butter toast, There are ...   \n",
      "3184  [, The Power of the Screenshot, If you analyze...   \n",
      "3185  [No this is not my mug shot, this is not me. P...   \n",
      "3186  [The Time When Lady Gaga Told YouTube to Keep ...   \n",
      "3187  [27 iOS open source libraries to skyrocket you...   \n",
      "3188  [via Educate Empower Kids, The Naked People In...   \n",
      "3189  [, My Mom Has a Question, My parents and I jus...   \n",
      "3190  [Walk then talk, My guiding philosophy on deve...   \n",
      "3191  [Traveling in Japan, A quick collection of not...   \n",
      "3192  [“O Nerd Padrão é Imbecil e Preconceituoso”, E...   \n",
      "3193  [, Surprise! Our Attention Spans Aren’t Dead!,...   \n",
      "3194  [A Room With a View — and Baby Too, Making Spa...   \n",
      "3195  [How I May Have Saved the Life of the Person i...   \n",
      "3196  [Culture Is More Than a Ping Pong Table, Organ...   \n",
      "3197  [Bernie Sanders interviewed by Brianna Keilar....   \n",
      "3198  [Papas, please let your babies grow up to be p...   \n",
      "3199  [This is not a new strategy., In April 2012, I...   \n",
      "3200  [What If Don Draper Was a Woman?, Jessica Knol...   \n",
      "\n",
      "                                             textjoined  \\\n",
      "0     https://unsplash.com/?photo=pFqrYbhIAXs 35 Thi...   \n",
      "1     Not giving in to terrorism  The purpose of ter...   \n",
      "2     Actual hard work If you’re reading this, you p...   \n",
      "3     Border Collie Who Almost Became Trump’s White ...   \n",
      "4      How to use Cognitive Behavioural Therapy to l...   \n",
      "5     I Don’t Care What You Want or Need  I’m desper...   \n",
      "6     Cryptoeconomics 101 Much has been discussed ab...   \n",
      "7     So Kevin Durant Can Play Center Now? Golden St...   \n",
      "8     In the future, design principles won’t be abou...   \n",
      "9     The Rise of Audio &amp; Voice  This is a huge ...   \n",
      "10    Why Trump Was Inevitable — But Recovery Isn’t ...   \n",
      "11    UX Writing: How to do it like Google with this...   \n",
      "12     Why I illustrate all our blog posts, as a CEO...   \n",
      "13    All Thumbs, Why Reach Navigation Should Replac...   \n",
      "14    Crypto Tokens: A Breakthrough in Open Network ...   \n",
      "15    NBA Shootaround It Takes Two Steph Curry and K...   \n",
      "16    What Really Happened with Vista I generally ha...   \n",
      "17     The Falling Apple, Revisited Some thoughts on...   \n",
      "18    Whose Pain Counts? Many years ago, I had sex w...   \n",
      "19    Upgrading from Node 6 to Node 8: a real-world ...   \n",
      "20     Storytelling Should Be the Number One Skill Y...   \n",
      "21    https://unsplash.com/?photo=3Z70SDuYs5g Willpo...   \n",
      "22    If You Want to Be Creative, Don’t Be Data Driv...   \n",
      "23    https://unsplash.com/?photo=wxxAx26SXys Live L...   \n",
      "24    Melania Trump isn’t a black and white issue  W...   \n",
      "25    Illustration by Ana Vasquez A Day at Google, L...   \n",
      "26     10 incredible Quotes to guide your life. You ...   \n",
      "27    Advice For Millennials Entering Their First Jo...   \n",
      "28    How to Go From Hobbyist to Professional Develo...   \n",
      "29    Storyframes before wireframes: starting design...   \n",
      "...                                                 ...   \n",
      "3171   Startup Advising Is Broken — Here’s What We’r...   \n",
      "3172  Introducing Letters At Medium, we are building...   \n",
      "3173   HODINKEE + Watchville join forces North Techn...   \n",
      "3174  The problem: it’s really tedious and stressful...   \n",
      "3175   VSCO Suite for Mac OS X Concept to bring simp...   \n",
      "3176  Re-imagining Twitter How Chris Sacca’s 8,500 w...   \n",
      "3177  What’s killing our girls My eldest daughter is...   \n",
      "3178  The Internet of Tweets Will.I.Am visiting Twit...   \n",
      "3179  Youth Unemployment and Dr. King’s Dream (U.S. ...   \n",
      "3180  Introducing Spoken.co (You can also listen to ...   \n",
      "3181  The 9 Habits of Highly Effective Restaurants W...   \n",
      "3182   Apple Eating Beats Revisited Remember when ev...   \n",
      "3183   How to make peanut butter toast There are ste...   \n",
      "3184   The Power of the Screenshot If you analyzed m...   \n",
      "3185  No this is not my mug shot, this is not me. Ph...   \n",
      "3186  The Time When Lady Gaga Told YouTube to Keep i...   \n",
      "3187  27 iOS open source libraries to skyrocket your...   \n",
      "3188  via Educate Empower Kids The Naked People In Y...   \n",
      "3189   My Mom Has a Question My parents and I just g...   \n",
      "3190  Walk then talk My guiding philosophy on develo...   \n",
      "3191  Traveling in Japan A quick collection of notes...   \n",
      "3192  “O Nerd Padrão é Imbecil e Preconceituoso” Ess...   \n",
      "3193   Surprise! Our Attention Spans Aren’t Dead! Ho...   \n",
      "3194  A Room With a View — and Baby Too Making Space...   \n",
      "3195  How I May Have Saved the Life of the Person in...   \n",
      "3196  Culture Is More Than a Ping Pong Table Organiz...   \n",
      "3197  Bernie Sanders interviewed by Brianna Keilar. ...   \n",
      "3198  Papas, please let your babies grow up to be pr...   \n",
      "3199  This is not a new strategy. In April 2012, I w...   \n",
      "3200  What If Don Draper Was a Woman? Jessica Knoll,...   \n",
      "\n",
      "                                        textwohighlight  \n",
      "0     https://unsplash.com/?photo=pFqrYbhIAXs 35 Thi...  \n",
      "1     Not giving in to terrorism  The purpose of ter...  \n",
      "2     Actual hard work If you’re reading this, you p...  \n",
      "3     Border Collie Who Almost Became Trump’s White ...  \n",
      "4      How to use Cognitive Behavioural Therapy to l...  \n",
      "5     I Don’t Care What You Want or Need  I’m desper...  \n",
      "6     Cryptoeconomics 101 Much has been discussed ab...  \n",
      "7     So Kevin Durant Can Play Center Now? Golden St...  \n",
      "8     In the future, design principles won’t be abou...  \n",
      "9     The Rise of Audio &amp; Voice  This is a huge ...  \n",
      "10    Why Trump Was Inevitable — But Recovery Isn’t ...  \n",
      "11    UX Writing: How to do it like Google with this...  \n",
      "12     Why I illustrate all our blog posts, as a CEO...  \n",
      "13    All Thumbs, Why Reach Navigation Should Replac...  \n",
      "14    Crypto Tokens: A Breakthrough in Open Network ...  \n",
      "15    NBA Shootaround It Takes Two Steph Curry and K...  \n",
      "16    What Really Happened with Vista I generally ha...  \n",
      "17     The Falling Apple, Revisited Some thoughts on...  \n",
      "18    Whose Pain Counts? Many years ago, I had sex w...  \n",
      "19    Upgrading from Node 6 to Node 8: a real-world ...  \n",
      "20     Storytelling Should Be the Number One Skill Y...  \n",
      "21    https://unsplash.com/?photo=3Z70SDuYs5g Willpo...  \n",
      "22    If You Want to Be Creative, Don’t Be Data Driv...  \n",
      "23    https://unsplash.com/?photo=wxxAx26SXys Live L...  \n",
      "24    Melania Trump isn’t a black and white issue  W...  \n",
      "25    Illustration by Ana Vasquez A Day at Google, L...  \n",
      "26     10 incredible Quotes to guide your life. You ...  \n",
      "27    Advice For Millennials Entering Their First Jo...  \n",
      "28    How to Go From Hobbyist to Professional Develo...  \n",
      "29    Storyframes before wireframes: starting design...  \n",
      "...                                                 ...  \n",
      "3171   Startup Advising Is Broken — Here’s What We’r...  \n",
      "3172  Introducing Letters At Medium, we are building...  \n",
      "3173   HODINKEE + Watchville join forces North Techn...  \n",
      "3174  The problem: it’s really tedious and stressful...  \n",
      "3175   VSCO Suite for Mac OS X Concept to bring simp...  \n",
      "3176  Re-imagining Twitter How Chris Sacca’s 8,500 w...  \n",
      "3177  What’s killing our girls My eldest daughter is...  \n",
      "3178  The Internet of Tweets Will.I.Am visiting Twit...  \n",
      "3179  Youth Unemployment and Dr. King’s Dream (U.S. ...  \n",
      "3180  Introducing Spoken.co (You can also listen to ...  \n",
      "3181  The 9 Habits of Highly Effective Restaurants W...  \n",
      "3182   Apple Eating Beats Revisited Remember when ev...  \n",
      "3183   How to make peanut butter toast There are ste...  \n",
      "3184   The Power of the Screenshot If you analyzed m...  \n",
      "3185  No this is not my mug shot, this is not me. Ph...  \n",
      "3186  The Time When Lady Gaga Told YouTube to Keep i...  \n",
      "3187  27 iOS open source libraries to skyrocket your...  \n",
      "3188  via Educate Empower Kids The Naked People In Y...  \n",
      "3189   My Mom Has a Question My parents and I just g...  \n",
      "3190  Walk then talk My guiding philosophy on develo...  \n",
      "3191  Traveling in Japan A quick collection of notes...  \n",
      "3192  “O Nerd Padrão é Imbecil e Preconceituoso” Ess...  \n",
      "3193   Surprise! Our Attention Spans Aren’t Dead! Ho...  \n",
      "3194  A Room With a View — and Baby Too Making Space...  \n",
      "3195  How I May Have Saved the Life of the Person in...  \n",
      "3196  Culture Is More Than a Ping Pong Table Organiz...  \n",
      "3197  Bernie Sanders interviewed by Brianna Keilar. ...  \n",
      "3198  Papas, please let your babies grow up to be pr...  \n",
      "3199  This is not a new strategy. In April 2012, I w...  \n",
      "3200  What If Don Draper Was a Woman? Jessica Knoll,...  \n",
      "\n",
      "[3201 rows x 5 columns]\n"
     ]
    }
   ],
   "source": [
    "\n",
    "dataset = pd.DataFrame({'highlights':set_tr['highlights'], 'ids':set_tr['ids'], 'text':set_tr['text'], \\\n",
    "                        'textwohighlight':fulls_noh, 'textjoined':sent_join})\n",
    "print(dataset)\n",
    "\n",
    "dataset.to_pickle('/Users/clarencecheng/Dropbox/~Insight/skimr/datasets/dataset_hl_ids_txt_wohl_joined')"
   ]
  },
  {
   "cell_type": "markdown",
   "metadata": {},
   "source": [
    "### LOAD LDA vectors for articles\n",
    "\n"
   ]
  },
  {
   "cell_type": "code",
   "execution_count": 10,
   "metadata": {
    "collapsed": false
   },
   "outputs": [
    {
     "name": "stdout",
     "output_type": "stream",
     "text": [
      "[(0, '0.011*\"compani\" + 0.010*\"product\" + 0.008*\"busi\" + 0.007*\"build\" + 0.007*\"team\"'), (1, '0.030*\"design\" + 0.010*\"user\" + 0.007*\"code\" + 0.006*\"web\" + 0.006*\"color\"'), (2, '0.013*\"write\" + 0.013*\"read\" + 0.008*\"learn\" + 0.008*\"love\" + 0.007*\"life\"'), (3, '0.034*\"via\" + 0.028*\"music\" + 0.025*\"game\" + 0.020*\"univ\" + 0.019*\"data\"'), (4, '0.007*\"us\" + 0.006*\"learn\" + 0.006*\"world\" + 0.005*\"system\" + 0.005*\"human\"'), (5, '0.153*\"de\" + 0.103*\"e\" + 0.044*\"um\" + 0.040*\"da\" + 0.039*\"para\"'), (6, '0.055*\"white\" + 0.033*\"black\" + 0.016*\"photo\" + 0.016*\"hou\" + 0.016*\"presid\"'), (7, '0.016*\"life\" + 0.008*\"success\" + 0.007*\"feel\" + 0.007*\"becom\" + 0.006*\"learn\"'), (8, '0.009*\"food\" + 0.007*\"home\" + 0.006*\"eat\" + 0.006*\"hou\" + 0.006*\"live\"'), (9, '0.007*\"trump\" + 0.007*\"us\" + 0.007*\"said\" + 0.005*\"men\" + 0.005*\"never\"')]\n",
      "[0.10107509328751951, 0, 0.10852728610649451, 0, 0.075517989451679202, 0, 0, 0.67870291423836493, 0, 0.022212525354884893]\n",
      "Dictionary(17433 unique tokens: ['give', 'success', 'wast', 'five', 'spend']...)\n"
     ]
    }
   ],
   "source": [
    "ldamodel = pickle.load(open('/Users/clarencecheng/Dropbox/~Insight/skimr/datasets/lda_10topic20pass','rb'))\n",
    "print(ldamodel.print_topics( num_topics=10, num_words=5))\n",
    "\n",
    "all_lda_vecs = pickle.load(open('/Users/clarencecheng/Dropbox/~Insight/skimr/datasets/all_lda_vecs','rb'))\n",
    "print(all_lda_vecs[0])\n",
    "\n",
    "commonwords_2 = pickle.load(open('/Users/clarencecheng/Dropbox/~Insight/skimr/datasets/commonwords2','rb'))\n",
    "# wordlist = pickle.load(open('/Users/clarencecheng/Dropbox/~Insight/skimr/datasets/wordlist','rb')\n",
    "\n",
    "dictionary = pickle.load(open('/Users/clarencecheng/Dropbox/~Insight/skimr/datasets/lda_dictionary_new2','rb'))\n",
    "print(dictionary)"
   ]
  },
  {
   "cell_type": "markdown",
   "metadata": {},
   "source": [
    "### Convert lda topic tuple output to a vector\n",
    "\n"
   ]
  },
  {
   "cell_type": "code",
   "execution_count": 8,
   "metadata": {
    "collapsed": true
   },
   "outputs": [],
   "source": [
    "def lda_to_vec(lda_input):\n",
    "    num_topics = 10\n",
    "    vec = [0]*num_topics\n",
    "    for i in lda_input:\n",
    "        col = i[0]\n",
    "        val = i[1]\n",
    "        vec[col] = val\n",
    "    return vec"
   ]
  },
  {
   "cell_type": "markdown",
   "metadata": {},
   "source": [
    "### Clean text for LDA\n",
    "\n"
   ]
  },
  {
   "cell_type": "code",
   "execution_count": 9,
   "metadata": {
    "collapsed": true
   },
   "outputs": [],
   "source": [
    "def clean_text(sent):\n",
    "    # remove punctuation\n",
    "    translator = str.maketrans('', '', string.punctuation)\n",
    "    txt2 = re.sub(u'\\u2014','',sent) # remove em dashes\n",
    "    txt3 = re.sub(r'\\d+', '', txt2) # remove digits\n",
    "    txt4 = txt3.translate(translator) # remove punctuation\n",
    "    # split text into words\n",
    "    tokens = word_tokenizer.tokenize(txt4.lower())\n",
    "    # strip single and double quotes from ends of words\n",
    "    tokens_strip = [i.strip('”“’‘') for i in tokens]\n",
    "    # keep only english words\n",
    "    tokens_en = [i for i in tokens_strip if i in en_words]\n",
    "    # remove nltk/stop_word stop words\n",
    "    nostop_tokens = [i for i in tokens_en if not i in all_stopw]\n",
    "    # strip single and double quotes from ends of words\n",
    "    nostop_strip = [i.strip('”“’‘') for i in nostop_tokens]\n",
    "    # stem words\n",
    "    stemmed = [p_stemmer.stem(i) for i in nostop_strip]\n",
    "    # strip single and double quotes from ends of words\n",
    "    stemmed_strip = [i.strip('”“’‘') for i in stemmed]\n",
    "    # stem words\n",
    "    stemmed2 = [p_stemmer.stem(i) for i in stemmed_strip]\n",
    "    # strip single and double quotes from ends of words\n",
    "    stemmed2_strip = [i.strip('”“’‘') for i in stemmed2]\n",
    "    # remove common words post-stemming\n",
    "    stemmed_nocommon = [i for i in stemmed2_strip if not i in commonwords_2]\n",
    "    return stemmed_nocommon\n",
    "\n"
   ]
  },
  {
   "cell_type": "markdown",
   "metadata": {},
   "source": [
    "### test if all highlights are in main texts\n",
    "\n"
   ]
  },
  {
   "cell_type": "code",
   "execution_count": null,
   "metadata": {
    "collapsed": true
   },
   "outputs": [],
   "source": [
    "# for h in dataset['highlights']:\n",
    "    \n",
    "\n",
    "#     # sentence is tokenized from highlight or full text\n",
    "    \n",
    "#     # break text into sentences and get total sents in full text\n",
    "#     full_sents = sent_tokenizer.tokenize(text)\n",
    "#     num_sents = len(full_sents)\n",
    "\n",
    "#     # break text into words and get total words in full text\n",
    "#     full_words = word_tokenizer.tokenize(text)\n",
    "#     num_words = len(full_words)\n",
    "\n",
    "#     try:\n",
    "#         pos = text.index(sentence)\n",
    "\n",
    "#         # total words in full text before highlight position\n",
    "#         b4_words = word_tokenizer.tokenize(text[:pos])\n",
    "#         b4_wlen = len(b4_words)\n",
    "\n",
    "#         # sentences in full text before highlight position\n",
    "#         b4_sents = sent_tokenizer.tokenize(text[:pos])\n",
    "#         b4_slen = len(b4_sents)\n",
    "\n",
    "#         frc_w = b4_wlen / num_words\n",
    "#         frc_s = b4_slen / num_sents\n",
    "#     except ValueError:\n",
    "#         print('\\nsentence not in text!\\n')\n",
    "    \n",
    "#     return frc_w, frc_s\n"
   ]
  },
  {
   "cell_type": "markdown",
   "metadata": {},
   "source": [
    "### Function to calculate position of sentence within article (frac of sentences into text)\n",
    "\n"
   ]
  },
  {
   "cell_type": "code",
   "execution_count": 29,
   "metadata": {
    "collapsed": false
   },
   "outputs": [],
   "source": [
    "def sent_pos(sentence, text, idval):\n",
    "\n",
    "    # sentence is tokenized from highlight or full text\n",
    "    \n",
    "    # remove 1-word sentences?\n",
    "    \n",
    "    # break text into sentences and get total sents in full text\n",
    "    full_sents = sent_tokenizer.tokenize(text)\n",
    "    num_sents = len(full_sents)\n",
    "\n",
    "    # break text into words and get total words in full text\n",
    "    full_words = word_tokenizer.tokenize(text)\n",
    "    num_words = len(full_words)\n",
    "\n",
    "#     try:\n",
    "    pos = text.find(sentence)\n",
    "\n",
    "    if pos >= 0:\n",
    "\n",
    "        # total words in full text before highlight position\n",
    "        b4_words = word_tokenizer.tokenize(text[:pos])\n",
    "        b4_wlen = len(b4_words)\n",
    "\n",
    "        # sentences in full text before highlight position\n",
    "        b4_sents = sent_tokenizer.tokenize(text[:pos])\n",
    "        b4_slen = len(b4_sents)\n",
    "\n",
    "        frc_w = b4_wlen / num_words\n",
    "        frc_s = b4_slen / num_sents\n",
    "\n",
    "    elif pos < 0:\n",
    "#             print('\\nsentence not in text!\\n')\n",
    "        print(str(idval) + ' ' + str(sentence))\n",
    "        frc_w = -1\n",
    "        frc_s = -1\n",
    "            \n",
    "#     except ValueError:\n",
    "#         print('\\nvalueerror: sentence not in text!\\n')\n",
    "    \n",
    "    return frc_w, frc_s\n",
    "\n"
   ]
  },
  {
   "cell_type": "markdown",
   "metadata": {},
   "source": [
    "### Calculate values for logistic regression features\n",
    "\n",
    "for each id (corresponds to a highlight and a full-text), \n",
    "tokenize highlight into sentences\n",
    "tokenize full-text w/o highlights into non-highlighted sentences\n",
    "\n",
    "for each sentence in highlight and full-text, \n",
    "calculate:\n",
    "  sentence length\n",
    "  readability (various)\n",
    "  LDA vector of sentence -> cos similarity to LDA vector of article\n",
    "put in array:\n",
    "  id     sentence length     readability (various)     LDA similarity\n",
    "\n",
    "*NOTE: Calculated some features at a time by commenting out the appropriate lines below; this is why there are separate pickle files for different sets of feature calculations. Not critical, because all features are combined into one dataframe downstream anyway.*\n"
   ]
  },
  {
   "cell_type": "code",
   "execution_count": 72,
   "metadata": {
    "collapsed": false,
    "scrolled": true
   },
   "outputs": [
    {
     "name": "stdout",
     "output_type": "stream",
     "text": [
      "analyzing row: 0 \n",
      "analyzing row: 10 \n",
      "analyzing row: 20 \n",
      "36 Or, as Bertrand Russell — who lived through the invention of electric lights, radio, and television — put it: “.” The Google office, crammed as it was with games and toys and dessert bars for grown-ups, was an unlikely alternativ\n",
      "analyzing row: 30 \n",
      "analyzing row: 40 \n",
      "analyzing row: 50 \n",
      "analyzing row: 60 \n",
      "analyzing row: 70 \n",
      "107 I spent several long weekends that winter at my parents’ house on Long Island, dragging garbage cans to a dumpster parked in the yard — ., and my mother required help distinguishing the one from the othe\n",
      "analyzing row: 80 \n",
      "analyzing row: 90 \n",
      "124 This is because .. You can read more on this in Harry Robert’s article, Single-direction margin declaration\n",
      "analyzing row: 100 \n",
      "144 Once you have those things ., designing the product becomes a lot easie\n",
      "analyzing row: 110 \n",
      "164 .. Bottom line: you want to keep goin\n",
      "analyzing row: 120 \n",
      "analyzing row: 130 \n",
      "analyzing row: 140 \n",
      "212 But enough preamble, here’s how this historic resignation is going to unfold: JANUARY 20th–MARCH 31st: .. His first 60 days in office have been a nightmar\n",
      "analyzing row: 150 \n",
      "analyzing row: 160 \n",
      "analyzing row: 170 \n",
      "analyzing row: 180 \n",
      "analyzing row: 190 \n",
      "analyzing row: 200 \n",
      "analyzing row: 210 \n",
      "analyzing row: 220 \n",
      "315 We found that .. To gain access to Waymo’s design server, Mr. Levandowski searched for and installed specialized software onto his company-issued lapto\n",
      "analyzing row: 230 \n",
      "analyzing row: 240 \n",
      "analyzing row: 250 \n",
      "analyzing row: 260 \n",
      "analyzing row: 270 \n",
      "analyzing row: 280 \n",
      "analyzing row: 290 \n",
      "407  How I Gained 103,886 Email Subscribers With Just One Article “.” — H. Hackson Brown, J\n",
      "analyzing row: 300 \n",
      "analyzing row: 310 \n",
      "analyzing row: 320 \n",
      "analyzing row: 330 \n",
      "analyzing row: 340 \n",
      "analyzing row: 350 \n",
      "analyzing row: 360 \n",
      "analyzing row: 370 \n",
      "analyzing row: 380 \n",
      "analyzing row: 390 \n",
      "535 After a quick introduction, he asked me, .How would you reverse a linked-list?” I paused in an attempt to contain my nervousness, before giving him my vague and clearly fabricated answe\n",
      "535 .Amateurs sit and wait for inspiration, the rest of us just get up and go to work.” ― Stephen King On these days I would usually force myself to code for at least 30 minute\n",
      "535 An entertaining .zombie shooter” game I built with a few friends A week later they sent me a coding challeng\n",
      "535 I cold-emailed a few of my .dream” companies and let them know that I had just received an offer, but that I would rather work for the\n",
      "analyzing row: 400 \n",
      "analyzing row: 410 \n",
      "analyzing row: 420 \n",
      "analyzing row: 430 \n",
      "analyzing row: 440 \n",
      "601 .. We’re approaching a time where software will drive the vehicle that transports your family to soccer practic\n",
      "analyzing row: 450 \n",
      "analyzing row: 460 \n",
      "analyzing row: 470 \n",
      "analyzing row: 480 \n",
      "644 Here are the two rules I use for every 1:1, many times a week:  ., among your team desks or in the caf\n",
      "analyzing row: 490 \n",
      "analyzing row: 500 \n",
      "analyzing row: 510 \n",
      "680 .. A network of small, electric aircraft that take off and land vertically (called VTOL aircraft for Vertical Take-off and Landing, and pronounced vee-tol), will enable rapid, reliable transportation between suburbs and cities and, ultimately, within citie\n",
      "analyzing row: 520 \n",
      "analyzing row: 530 \n",
      "analyzing row: 540 \n",
      "analyzing row: 550 \n",
      "analyzing row: 560 \n",
      "analyzing row: 570 \n",
      "analyzing row: 580 \n",
      "analyzing row: 590 \n",
      "analyzing row: 600 \n",
      "808 The 100% correct way .. (That’s a bold full-stop for effect\n",
      "analyzing row: 610 \n",
      "analyzing row: 620 \n",
      "analyzing row: 630 \n",
      "analyzing row: 640 \n",
      "analyzing row: 650 \n",
      "866 While it’s harder to get your startup off the ground without much of a budget, we’re big believers in constraints; .. Below, you’ll find 28 tools to help you bring your idea to life—everything from products that will help you build and design an app on the cheap, to plug-ins and services that will make it easier to market and promote your ide\n",
      "analyzing row: 660 \n",
      "analyzing row: 670 \n",
      "analyzing row: 680 \n",
      "909 Take ownership of your financial future — .. Don’t make the same mistake as countless others before yo\n",
      "analyzing row: 690 \n",
      "917 “.,” she say\n",
      "analyzing row: 700 \n",
      "931 ., but also because by that point in the movie he’d already killed dozens and dozens of peopl\n",
      "analyzing row: 710 \n",
      "948 .. Click one button and you’ll be given the option to take a screenshot of an entire webpage or a specific portion of i\n",
      "analyzing row: 720 \n",
      "analyzing row: 730 \n",
      "971 .. It’s the difference between happiness and total pani\n",
      "analyzing row: 740 \n",
      "984 One of our favorite features of this tool is the branding ., allowing you to stick to specific styles for design cohesion no matter what you need to creat\n",
      "analyzing row: 750 \n",
      "analyzing row: 760 \n",
      "analyzing row: 770 \n",
      "analyzing row: 780 \n",
      "analyzing row: 790 \n",
      "analyzing row: 800 \n",
      "analyzing row: 810 \n",
      "1065 But here is the thing — .. Much wors\n",
      "analyzing row: 820 \n",
      "analyzing row: 830 \n",
      "analyzing row: 840 \n",
      "analyzing row: 850 \n",
      "analyzing row: 860 \n",
      "analyzing row: 870 \n",
      "analyzing row: 880 \n",
      "1154 .. That close bond with our most loyal readers is the heart of our journalistic and business strateg\n",
      "analyzing row: 890 \n",
      "1174 “You may have more experience or muscle in working together and supporting folks through a challenging time (sporting hobbies for example) and it can be about the team win vs. individual success.” “.” — Dawn Sharifan, Slack’s Director of People Operations But there can be drawbacks to putting too much stock into asking candidates about outside interests during the interview proces\n",
      "analyzing row: 900 \n",
      "analyzing row: 910 \n",
      "analyzing row: 920 \n",
      "analyzing row: 930 \n",
      "analyzing row: 940 \n",
      "1228 This is an early thesis: .. On other popular social platforms, like Snapchat and Facebook, conversations are usually one-on-one and very linea\n",
      "analyzing row: 950 \n",
      "analyzing row: 960 \n",
      "1260 Now, .. A fresh breeze, some complimentary bottled water, an apple, pear, some grapes, a banana and a kiwi, and a little bag of extras on the way ou\n",
      "analyzing row: 970 \n",
      "analyzing row: 980 \n",
      "analyzing row: 990 \n",
      "1294 Remember the headlights at night analogy.. (Turns out E.L. Doctorow has some great quotes on writing\n",
      "analyzing row: 1000 \n",
      "1300 .. Because it doesn’t matter how good your site or app is if users can’t find their way around i\n",
      "1306 .. Because something so constant, so slight, so under-the-radar is just … ther\n",
      "analyzing row: 1010 \n",
      "analyzing row: 1020 \n",
      "analyzing row: 1030 \n",
      "analyzing row: 1040 \n",
      "analyzing row: 1050 \n",
      "analyzing row: 1060 \n",
      "analyzing row: 1070 \n",
      "analyzing row: 1080 \n",
      "analyzing row: 1090 \n",
      "analyzing row: 1100 \n",
      "1417 Instead, the family’s singular focus was illustrated by their motto det bedste er ikke for godt, “.\n",
      "analyzing row: 1110 \n",
      "1438 ..  1\n",
      "analyzing row: 1120 \n",
      "analyzing row: 1130 \n",
      "analyzing row: 1140 \n",
      "analyzing row: 1150 \n",
      "1489 Like the joke before the .. That box became the most important thing in the world for m\n",
      "analyzing row: 1160 \n",
      "1508 .. With this short morning routine, your life will quickly chang\n",
      "analyzing row: 1170 \n",
      "analyzing row: 1180 \n",
      "1526 Link: http://getguesstimate.com/models/193 At the end of this you don’t just understand the ‘best’ and ‘worst’ scenarios, but you also get everything in between and .. There’s the mean, the median, and several of the percentile\n",
      "analyzing row: 1190 \n",
      "analyzing row: 1200 \n",
      "analyzing row: 1210 \n",
      "analyzing row: 1220 \n",
      "analyzing row: 1230 \n",
      "analyzing row: 1240 \n",
      "1609 Dear Mom and Dad, First, .. Second, congrats on out-humble-bragging the worl\n",
      "analyzing row: 1250 \n",
      "analyzing row: 1260 \n",
      "analyzing row: 1270 \n",
      "analyzing row: 1280 \n",
      "analyzing row: 1290 \n",
      "1668 For these reasons, .. As @artypapers says: tweetstorm https://twitter.com/artypapers/status/664846647797481472 \n",
      "analyzing row: 1300 \n",
      "analyzing row: 1310 \n",
      "analyzing row: 1320 \n",
      "1709 There’s no a.ing i\n",
      "analyzing row: 1330 \n",
      "analyzing row: 1340 \n",
      "1732 ., from Adobe, offers a new way to design and prototype websites and mobile app\n",
      "analyzing row: 1350 \n",
      "analyzing row: 1360 \n",
      "analyzing row: 1370 \n",
      "analyzing row: 1380 \n",
      "analyzing row: 1390 \n",
      "1801 To submit yours, go to slackin.xyz Tweet about it now - let others discover these Slack Groups Startups GlobalFocus Asia#startup#LaunchMakerHuntFoundedX.Bootstrapped ChatProduct Hunt Global#FemaleFoundersEquity DirectoryYoung Startups#OPS Asia 🌏 Focus Asia US &amp; Canada 🌎Birmingham - Magic City TechBoston - Boston TechChicago - chicagotechDenton - TechMillGreenville (South Carolina) - Hack GreenvilleJacksonville - Email jaxtechslack@gmail.com for an inviteKnoxville, TN - Knox FoundersLos Angeles (LA) — LA TechMadison — Madison SlackNew York — NYCTech, The Hack UpstateOttawa - Ottawa Startup ChatPhiladelphia - Philly StartupsPortland — The Portland StartupsSeattle — techseattleToronto — startup6ix, techmasters.chatVancouver - startup604 Europe 🌍Amsterdam - AMSxTechBelgium - Belgium StartupsBerlin - Startup Berlin, Berlin TechsFinland - Email Finnish Startups for an inviteFrance - #startupersUK &amp; Ireland - Irish Tech CommunityLeicester - Leicester StartupsLondon - techlondon.ioNorthern Ireland - NiTechRussia - Creative RussiaSwitzerland - Switzerland Startups Australia 🌏Aussie Startups Africa 🌍ZA Tech Design Team SketchDesigner HangoutDesign TalksMobile CreativeUIUX DesignDribbblePeopleUX Guide Software/development By topic/technology stack Android - Android United, Android ChatDevOps - DevOps ChatElixir - ElixirFront-end - #FrontEndDeveloper, #FEDsGo - GophersiOS — iOS DevelopersJS - WeLearnJS, Ember Community (Ember), Angular Buddies (Angular), Reactiflux (React)Ghost - Ghost SlackNode.js - Socket.ioPHP - Larachat (Laravel)Python - Python Community SlackRuby - Ruby Developers, RoRSAP - #SAPSASS - SASSChatWatchKit - Five Min WatchKitWordpress - Wordpress By location GlobalHackerx#developers Atlanta - Tech404Australia/New Zealand — DEVANZBelgrade - JSBelgradeKnoxville - KnoxDevsSouth America - Node Enjoying the list so fa\n",
      "analyzing row: 1400 \n",
      "1813 Starbucks Android Material Design by Chase Bratton, Product Designer @ Starbucks The evolution of Starbucks digital products for Google’s new design .. I’m happy to announce that Starbucks has released an updated version of our Android app aligning to Material Desig\n",
      "1813 An Exercise in Restraint Since Google I/O 2014, the Starbucks product design team has been thinking through how to implement the new .. Our goal was to ensure that the app avoided looking too “templated” when updating to Material Desig\n",
      "analyzing row: 1410 \n",
      "analyzing row: 1420 \n",
      "1834 THE BOOKS: “.” by Robert Greene This book is like a curated version of 1000 biographies all under the guise, “how to become a master at what you love\n",
      "analyzing row: 1430 \n",
      "analyzing row: 1440 \n",
      "analyzing row: 1450 \n",
      "analyzing row: 1460 \n",
      "analyzing row: 1470 \n",
      "analyzing row: 1480 \n",
      "analyzing row: 1490 \n",
      "1915 .. We rarely choose things in absolute term\n",
      "analyzing row: 1500 \n",
      "1928 All of this leads to my seemingly counter-intuitive advice: .. Apple may hate me being honest in this regard, but they shouldn’t: it behooves neither the app makers nor Apple to have a bunch of apps featured that aren’t going to provide long-term value to user\n",
      "1942 That isn’t surprising: .. It’s become clearer and clearer that the “consensus” that’s so often talked about in the Bitcoin Core community really means the views of a tiny handful of people, regardless of what anyone else in the wider community might think, how much work they have done, or how many users their products hav\n",
      "analyzing row: 1510 \n",
      "analyzing row: 1520 \n",
      "analyzing row: 1530 \n",
      "1977 Indian Moms are .reat UX desi.ners A week a.o, I was at my home; packi\n",
      "1977 I just asked my mother to .ive an old b\n",
      "1977 and .ave it to me after filli\n",
      "1977 it with stuff I needed so that I could simply keep the stuff and .ive that b\n",
      "1977 the ba., I found a tiny little piece of paper inside the b\n",
      "1977 The piece of paper had my sister’s name, phone number, colle.e name and addres\n",
      "1977 To .ive you some context, my sister had lost her previous b\n",
      "1977 historical data, if you will) and was thou.htful enou.h to put an identification card in the ba., in case it’s lost a.ai\n",
      "1977 to eat because it just adds a to the amount of wei.ht that I have to carr\n",
      "1977 Plus, I can always buy stuff from pantry if I am hun.r\n",
      "1977 And invariably, my stomach starts .rowli\n",
      "1977 and no one is in si.ht to buy stuff fro\n",
      "1977 I could just .o on and on but I .uess you .et what I am tryi\n",
      "1977 The kind of experience you .et when you deal with your mother is probably the best experience you can .et anywhere in the worl\n",
      "1977 Try to .uess as much information as you ca\n",
      "1977 Make sure you predict what will .o wro\n",
      "1977 Goo.le, with the knowled.e of your tickets in your inbox throu.h Gmail, reminds you that you already have these tickets when you search for some mor\n",
      "1977 They did it once and found that people only booked the fli.hts with cheapest fare\n",
      "1977 So they let .o of extra space to accommodate more people at reduced rates for everyon\n",
      "1977 Just check Snapchat on your birthday, all messa.es have a .ift as icon in place of blue or red square\n",
      "1977 You also .et some different photo filters exclusive for your location and tim\n",
      "1977 How can you not feel special with thin.s like thes\n",
      "1977 Thanks mom, for everythin.. Obli.atory selfie with my mom and siste\n",
      "1977 this post, don’t for.et to shower some love by hitti\n",
      "analyzing row: 1540 \n",
      "1984  The 39 Best Products to Make Good Daily Habits .― Mahatma Gandhi These websites and apps will help you form good everyday habits and make your life bette\n",
      "1989 “It lacks .,” she sai\n",
      "analyzing row: 1550 \n",
      "2002 What I do for money And how much I make as a small-scale farmer I’m a big fan of ., and when I was starting my small farm business was aided a lot by other people being really up front about how their set-up works for making mone\n",
      "analyzing row: 1560 \n",
      "2013 I’m a ., who not too long ago, was waiting tables 40+ hours per week in my hometow\n",
      "2017 The success of Facebook’s and Instagram’s core products attest to our basic desire to .. Several tech companies have made more overt attempts to capitalize on this impulse—by reminding you of your activity a year ago today (TimeHop, Heyday, Facebook On This Day, Memoir) or summarizing an entire year of your life (Facebook Year in Review, Spotify Year in Music\n",
      "analyzing row: 1570 \n",
      "2020 (I had been doing this for 17 ..) I never wanted to get up and start the da\n",
      "analyzing row: 1580 \n",
      "analyzing row: 1590 \n",
      "2049 ., que serve ao duplo propósito de atrair o espectador com uma vida que ele não pode ter, enquanto o faz se sentir como um derrotado por não conseguir alcançar esse patama\n",
      "analyzing row: 1600 \n",
      "2063 So I want to get this message out there to all the “techies:” .. I’m tired of all this you/we bullshit that I just did in the previous two paragraph\n",
      "2068 ..  \n",
      "analyzing row: 1610 \n",
      "2082 But startups that are a little bigger will be using something like ., I also enjoy using Invision, it allows me to get instant feedback from my team, investors, and even early users on things that might need more work, or clarificatio\n",
      "analyzing row: 1620 \n",
      "2089 I did months of functional strength work, then was able to skip, in .d to running for three minutes, then walking a few, which felt joyful, yet painfu\n",
      "analyzing row: 1630 \n",
      "2107 preview of said script .. We can now test a mock with a large variety of datasets in a matter of minutes without changing our process muc\n",
      "analyzing row: 1640 \n",
      "2114 ..  \n",
      "analyzing row: 1650 \n",
      "analyzing row: 1660 \n",
      "2145 Together we fixed up the room a bit better — I bought a small ., a large mirror and hung up the picture you see in the photo, among other small thing\n",
      "analyzing row: 1670 \n",
      "2164 There’s a great insight Matt Mullenweg once shared which really puts into perspective why as startup founders we should launch as early as possible: “.” Therefore, the ideal approach for creating a successful startup is to put it out there as soon as possible and then iterate from there based on the new information that comes from usage and from doing customer developmen\n",
      "analyzing row: 1680 \n",
      "analyzing row: 1690 \n",
      "analyzing row: 1700 \n",
      "analyzing row: 1710 \n",
      "2215 .. That encouragement will help keep the Net as it was born: a platform that encourages sharing, now with the simple ability for authors to say, “Of course, share this too\n",
      "analyzing row: 1720 \n",
      "2221 .. Our efforts should have been focused on validating interest in our product and generating tractio\n",
      "analyzing row: 1730 \n",
      "analyzing row: 1740 \n",
      "analyzing row: 1750 \n",
      "2262 : pcap_loop: a packet arrived on interface 1, but there’s no Interface Description Block for that interface Well it was still ., so I wasn’t sure what I expecte\n",
      "analyzing row: 1760 \n",
      "analyzing row: 1770 \n",
      "2300 What excites me most about the “Just Ask” model is that .. How can I create something that someone will watch and say, “I would feel better if I had paid for that.” That’s a different sort of content, and it especially encourages small-scale niche conten\n",
      "analyzing row: 1780 \n",
      "analyzing row: 1790 \n",
      "2334 He also found that.. That is not relevant to the academic library, but it’s irresistible to kno\n",
      "analyzing row: 1800 \n",
      "analyzing row: 1810 \n",
      "analyzing row: 1820 \n",
      "analyzing row: 1830 \n",
      "2410 1) “This has to be perfect.” American journalist, activist, author of six best-selling books Maria Shriver once said, “..” Often, we strive for perfection because we seek approval and praise from other\n",
      "analyzing row: 1840 \n",
      "analyzing row: 1850 \n",
      "analyzing row: 1860 \n",
      "2477 Um sistema que exige perfeição em troca de igualdade, é insustentável e injusto…muito injusto S. Espero que ainda estejam aí, porque com certeza o racismo ainda est\n",
      "analyzing row: 1870 \n",
      "analyzing row: 1880 \n",
      "analyzing row: 1890 \n",
      "analyzing row: 1900 \n",
      "analyzing row: 1910 \n",
      "analyzing row: 1920 \n",
      "2560 As the protagonist raises a tart to their mouth, we approach a mirror and we see, the big reveal, that WE ARE A MAN .. \n",
      "analyzing row: 1930 \n",
      "analyzing row: 1940 \n",
      "analyzing row: 1950 \n",
      "analyzing row: 1960 \n",
      "analyzing row: 1970 \n",
      "analyzing row: 1980 \n",
      "analyzing row: 1990 \n",
      "2659 .This one is practiced so often by college educated CSJWs it makes me wonder how tough their professors were on the\n",
      "analyzing row: 2000 \n",
      "2677 In this case you can either ., or create a boolean prop which might look a little something like this: &lt;Button theme=\"secondary\" rounded&gt;Hello&lt;/Button&gt; Just like HTML’s binary attributes, you don’t need to do rounded={true\n",
      "analyzing row: 2010 \n",
      "analyzing row: 2020 \n",
      "analyzing row: 2030 \n",
      "analyzing row: 2040 \n",
      "analyzing row: 2050 \n",
      "analyzing row: 2060 \n",
      "2786 .. Be creative every da\n",
      "analyzing row: 2070 \n",
      "2791 dzenbot/.. - A drop-in UITableView/UICollectionView superclass category for showing empty datasets whenever the…github.com \n",
      "analyzing row: 2080 \n",
      "analyzing row: 2090 \n",
      "analyzing row: 2100 \n",
      "2847 As Antoine De Saint-Exupery said: “.” The message is clearly spelled out and the screen is void of unnecessary clutter Tips: Be severe when deciding what stays and what goe\n",
      "analyzing row: 2110 \n",
      "analyzing row: 2120 \n",
      "analyzing row: 2130 \n",
      "analyzing row: 2140 \n",
      "analyzing row: 2150 \n",
      "2933 Your pipeline will look as below (read more details here):  I recommend you start with: 1 hobby dyno at $7/month for staging 2 standard-1X dynos for production at $25/month each Cost: $57/month Database Hosting If you’re using PostgreSQL, just use .’s service for thi\n",
      "2933 Cost: $7/month Alternatives: You can plug other tools in one click on .. See the full list her\n",
      "analyzing row: 2160 \n",
      "analyzing row: 2170 \n",
      "analyzing row: 2180 \n",
      "analyzing row: 2190 \n",
      "analyzing row: 2200 \n",
      "analyzing row: 2210 \n",
      "analyzing row: 2220 \n",
      "3047 ., with the possible exception of the Election of 1860, where everyone was pretty much focused on one thin\n",
      "analyzing row: 2230 \n",
      "analyzing row: 2240 \n",
      "analyzing row: 2250 \n",
      "analyzing row: 2260 \n",
      "analyzing row: 2270 \n",
      "analyzing row: 2280 \n",
      "analyzing row: 2290 \n",
      "analyzing row: 2300 \n",
      "3168 About a year ago Joe and I left our jobs because we wanted to explore a question: .In other words, what would it look like if, instead of creating with print in mind and exporting to an ebook (which is what authors and publishers do today) you started from scratch, and created a fundamentally new book experience that is designed for the screen, and takes advantage of everything computers can d\n",
      "analyzing row: 2310 \n",
      "analyzing row: 2320 \n",
      "analyzing row: 2330 \n",
      "analyzing row: 2340 \n",
      "analyzing row: 2350 \n",
      "analyzing row: 2360 \n",
      "analyzing row: 2370 \n",
      "3289 .When talking to users, it’s important to keep this in mind: they always say one thing but do it differentl\n",
      "analyzing row: 2380 \n",
      "analyzing row: 2390 \n",
      "analyzing row: 2400 \n",
      "analyzing row: 2410 \n",
      "3342 (Photo: Jeff Djevdet) So many questions, so few answers .. I’d treated it with the care and emotional investment of a fathe\n",
      "analyzing row: 2420 \n",
      "analyzing row: 2430 \n",
      "analyzing row: 2440 \n",
      "3387 .. It’s hard enough to find time to see him during the season even when I’m in Chicag\n",
      "analyzing row: 2450 \n",
      "3403 Many think he doesn’t stand a chance of winning, but today’s result only reinforces my belief that he’ll come close if not outright win... Anti Intellectualism is a Threat to Democracy A democracy cannot function when people fail to even acknowledge fact\n",
      "analyzing row: 2460 \n",
      "3415 However, .. After carefully considering their options, they choose a path, take action, and don’t look bac\n",
      "3423 I’ve decided to make this a public .men\n",
      "3423 Making a public .ment has proven to improve people’s ability to stick to changes and new habit\n",
      "analyzing row: 2470 \n",
      "analyzing row: 2480 \n",
      "analyzing row: 2490 \n",
      "3456 .. It’s hard to move forward with your plans when you’re constantly bombarded by the negativity of people around yo\n",
      "analyzing row: 2500 \n",
      "analyzing row: 2510 \n",
      "analyzing row: 2520 \n",
      "3507 For a consumer to get excited about something, to be compelled to click an ad or watch a video, .. And in order for you to win, they really need to consume i\n",
      "analyzing row: 2530 \n",
      "analyzing row: 2540 \n",
      "analyzing row: 2550 \n",
      "analyzing row: 2560 \n",
      "analyzing row: 2570 \n",
      "analyzing row: 2580 \n",
      "analyzing row: 2590 \n",
      "analyzing row: 2600 \n",
      "3614 .. It’s definitely uncomfortable territory for m\n",
      "analyzing row: 2610 \n",
      "analyzing row: 2620 \n",
      "analyzing row: 2630 \n",
      "analyzing row: 2640 \n",
      "analyzing row: 2650 \n",
      "analyzing row: 2660 \n",
      "analyzing row: 2670 \n",
      "3705 If you’re Carol, you’re not a happy .. Bob, the introducer Bob, Mr. “I fire off intros without asking if people want them,” escapes mostly unscathed from this exchang\n",
      "analyzing row: 2680 \n",
      "analyzing row: 2690 \n",
      "analyzing row: 2700 \n",
      "3744 .. At this point your beloved Rick has lost interes\n",
      "analyzing row: 2710 \n",
      "analyzing row: 2720 \n",
      "3782 T. And in such a world full of “centralized networks,” a writer is able to attract 31,204,577 views simply by answering other people’s questions on Quor\n",
      "analyzing row: 2730 \n",
      "analyzing row: 2740 \n",
      "analyzing row: 2750 \n",
      "3815 We also established a small set of design principles that supported reading as the key tenet: .. Let readers read at their own pac\n",
      "analyzing row: 2760 \n",
      "analyzing row: 2770 \n",
      "analyzing row: 2780 \n",
      "3869 .. Because each article is on its own page (versus on an aggregated timeline), and it’s all beautifully designed by the Medium team, there seems to be more inherent reverence for a user’s writing—there’s a gravity and weight to each word written that is oftentimes absent in most of the We\n",
      "analyzing row: 2790 \n",
      "analyzing row: 2800 \n",
      "analyzing row: 2810 \n",
      "3907 .” — Bull Snake  “I’m suspicious of government overreach myself — a lot of us are in these part\n",
      "analyzing row: 2820 \n",
      "3922 .. Our perception of time is really driven by our perception of the unfamiliar, vivid and ne\n",
      "analyzing row: 2830 \n",
      "analyzing row: 2840 \n",
      "3961 .It’s obvious if you read their posts and tweet\n",
      "analyzing row: 2850 \n",
      "analyzing row: 2860 \n",
      "4003 Alok once said to me that ., and I think that’s righ\n",
      "analyzing row: 2870 \n",
      "4025 ., and a good stat to look at to highlight this is the fact that @SlackHQ gained over 3,300 followers yesterday (more than 7x any other day in the previous month\n",
      "analyzing row: 2880 \n",
      "4041 Offline application shells are a major performance win and are also demonstrated well in Jake Archibald’s offline Wikipedia app, .’s Progressive web app or Voice Memos by Paul Lewi\n",
      "analyzing row: 2890 \n",
      "analyzing row: 2900 \n",
      "analyzing row: 2910 \n",
      "analyzing row: 2920 \n",
      "analyzing row: 2930 \n",
      "analyzing row: 2940 \n",
      "4133 Today I’m proud to present ., an open source CSS plugin for Sketc\n",
      "4133 By integrating it into ., it let me focus on coding the rest of the plugin (which was a lot more fun than coding a CSS parser would’ve been\n",
      "4133 With ., a complete palette change can be as simple as changing one lin\n",
      "analyzing row: 2950 \n",
      "analyzing row: 2960 \n",
      "analyzing row: 2970 \n",
      "4171 Why I’m Leaving San Francisco A long read think piece meditation on the sharing economy, tech startup culture, and trying to make a life with someone you love .. Costs too fucking much to live here so I’m going somewhere els\n",
      "4180 Have you BEEN to .\n",
      "analyzing row: 2980 \n",
      "analyzing row: 2990 \n",
      "analyzing row: 3000 \n",
      "analyzing row: 3010 \n",
      "analyzing row: 3020 \n",
      "analyzing row: 3030 \n",
      "analyzing row: 3040 \n",
      "analyzing row: 3050 \n",
      "4291 It could be that I’m enjoying the work I’m doing so much and am accountable to only myself; however, I think it has more to do with the fact that I’ve learned so much about how creating good habits and a morning routine are critical for lifetime success.. One of my goals for the beginning of this year was to get into a good morning routine in order to set myself up for the da\n",
      "analyzing row: 3060 \n",
      "analyzing row: 3070 \n",
      "analyzing row: 3080 \n",
      "analyzing row: 3090 \n",
      "analyzing row: 3100 \n",
      "analyzing row: 3110 \n",
      "4398 How they’re madePencil &amp; paper, Keynote/PowerPoint Source: cargocollective.com WIREFRAMES Wireframes are rough physical or .ital sketche\n",
      "analyzing row: 3120 \n",
      "4416 50 Shades of Red (., 2015) by Marius Vieth It reminded me how we often describe creativity with a sense of fracture; it’s ‘ground-breaking’, ‘mould-shattering\n",
      "analyzing row: 3130 \n",
      "4426 The other big thing that we have here is ., which we think is equally importan\n",
      "4426 One is .. Why do we believe that that’s an important core componen\n",
      "4428 Sejera isn’t your average friendly .. She’s a trained “facility dog” who works with Skrabucha in Family Support Services, The O’Farrell School’s one-stop shop for everything from counseling to applying for food stamps to buying towels donated from Bed Bath &amp; Beyon\n",
      "4428 Skrabucha had to meet with Sejera’s original handler twice a week for four months to transition the ., and Sejera herself went through two years of training with Paws’itive Teams, an organization that trains dogs for a variety of services, from helping veterans suffering from PTSD to accompanying children who have to testify in court, against an abuser for exampl\n",
      "analyzing row: 3140 \n",
      "4438 So the phrase was passed down and became truth: “The home console killed the arcade.” Instead, this phrase more accurately should be: “The arcades were left to die.” ., left with little option but to reproduce gaming content already available on home consoles, no longer became the draw for new content to customers who could play the same content at hom\n",
      "4450 I lived in a dorm, as a graduate assistant, and was responsible for helping sixty .ager GAs, drumming on residents’ doors early on a Saturday, wanting to go to the dining hall en mass\n",
      "analyzing row: 3150 \n",
      "analyzing row: 3160 \n",
      "4491 Neither my life nor my summer was ruined (though I did break up with my newly unemployed boyfriend), but that incident drilled something into me that’s been impossible to shake until very recently: .. Now, I’m not talking about happiness over responsible decision-makin\n",
      "analyzing row: 3170 \n",
      "analyzing row: 3180 \n",
      "4520 (Not stated: the role Trent Reznor has played in all this...) So what about the $3 billion price ta\n",
      "4532 CocoaPods: pod '.Framework' ViccAlexander/.. - Flat Color Framework for iOS (Obj-C &amp; Swift)github.com \n",
      "analyzing row: 3190 \n",
      "4537 Along the way, I actually learned a whole lot more about Android’s innards that helped build my .. To this day I’m still floored by the results — it’s been downloaded over a million times and more importantly, hundreds of developers have published extensions on Google Pla\n",
      "4543 Of course I took the Batman stamps…I have very conflicted feelings about the ., but our whole household loves Batma\n",
      "analyzing row: 3200 \n",
      "2746.6176740369992 seconds elapsed\n"
     ]
    }
   ],
   "source": [
    "tic = timeit.default_timer()\n",
    "\n",
    "# print(set_tr.head(10))\n",
    "n = 0\n",
    "\n",
    "articleids = []\n",
    "hlorno = []\n",
    "\n",
    "all_ARI = []\n",
    "all_FRE = []\n",
    "all_FKG = []\n",
    "all_GFI = []\n",
    "all_SMG = []\n",
    "all_CLI = []\n",
    "all_LIX = []\n",
    "all_RIX = []\n",
    "alllens = []\n",
    "all_ldadists = []\n",
    "all_wposes = []\n",
    "all_sposes = []\n",
    "\n",
    "h_ARI = []\n",
    "h_FRE = []\n",
    "h_FKG = []\n",
    "h_GFI = []\n",
    "h_SMG = []\n",
    "h_CLI = []\n",
    "h_LIX = []\n",
    "h_RIX = []\n",
    "hllens = []\n",
    "h_ldadists = []\n",
    "h_wposes = []\n",
    "h_sposes = []\n",
    "\n",
    "f_ARI = []\n",
    "f_FRE = []\n",
    "f_FKG = []\n",
    "f_GFI = []\n",
    "f_SMG = []\n",
    "f_CLI = []\n",
    "f_LIX = []\n",
    "f_RIX = []\n",
    "ftlens = []\n",
    "f_ldadists = []\n",
    "f_wposes = []\n",
    "f_sposes = []\n",
    "\n",
    "for i, row in dataset.iterrows():\n",
    "\n",
    "    idval = row.ids\n",
    "    if i%10 == 0:\n",
    "        print('analyzing row: '+str(i)+' ')\n",
    "    # Get topic vector for the whole article\n",
    "    lda_art = all_lda_vecs[i]\n",
    "#     lda_art = np.asarray(all_lda_vecs[i])\n",
    "#     print(lda_art)\n",
    "    \n",
    "    hlsents = sent_tokenizer.tokenize(row.highlights)\n",
    "    for h in hlsents:\n",
    "        # \n",
    "        # get LDA metric\n",
    "        h_clean = clean_text(h)\n",
    "        h_corpus = dictionary.doc2bow(h_clean)\n",
    "        sent_lda = ldamodel[h_corpus]\n",
    "        vec_lda = lda_to_vec(sent_lda)\n",
    "        h_lda = 1-spatial.distance.cosine(vec_lda, lda_art)\n",
    "        np_vec_lda = np.asarray(vec_lda)\n",
    "        h_ldadists.append(h_lda)\n",
    "        all_ldadists.append(h_lda)\n",
    "        \n",
    "        # get fraction position\n",
    "        h_wpos, h_spos = sent_pos(h, row.textjoined, idval)\n",
    "#         if n <= 5:\n",
    "#             print('wordpos: '+str(h_wpos))\n",
    "#             print('sentpos: '+str(h_spos))\n",
    "        h_wposes.append( float(h_wpos) )\n",
    "        h_sposes.append( float(h_spos) )\n",
    "        all_wposes.append( float(h_wpos) )\n",
    "        all_sposes.append( float(h_spos) )\n",
    "        \n",
    "        # get length\n",
    "        hlwords = word_tokenizer.tokenize(h)\n",
    "        hllen = len(hlwords)\n",
    "        hllens.append(int(hllen))\n",
    "        alllens.append(int(hllen))\n",
    "\n",
    "        # get readability\n",
    "        h_rd = Readability(h)\n",
    "        h_ARI.append( float(h_rd.ARI()) )\n",
    "        h_FRE.append( float(h_rd.FleschReadingEase()) )\n",
    "        h_FKG.append( float(h_rd.FleschKincaidGradeLevel()) )\n",
    "        h_GFI.append( float(h_rd.GunningFogIndex()) )\n",
    "        h_SMG.append( float(h_rd.SMOGIndex()) )\n",
    "        h_CLI.append( float(h_rd.ColemanLiauIndex()) )\n",
    "        h_LIX.append( float(h_rd.LIX()) )\n",
    "        h_RIX.append( float(h_rd.RIX()) )\n",
    "        all_ARI.append( float(h_rd.ARI()) )\n",
    "        all_FRE.append( float(h_rd.FleschReadingEase()) )\n",
    "        all_FKG.append( float(h_rd.FleschKincaidGradeLevel()) )\n",
    "        all_GFI.append( float(h_rd.GunningFogIndex()) )\n",
    "        all_SMG.append( float(h_rd.SMOGIndex()) )\n",
    "        all_CLI.append( float(h_rd.ColemanLiauIndex()) )\n",
    "        all_LIX.append( float(h_rd.LIX()) )\n",
    "        all_RIX.append( float(h_rd.RIX()) )\n",
    "\n",
    "        # get label and id\n",
    "        articleids.append(int(i))\n",
    "        hlorno.append(1)\n",
    "\n",
    "    # count lengths of non-highlighted sentences\n",
    "    ftsents = sent_tokenizer.tokenize(row.textwohighlight)\n",
    "    for f in ftsents:\n",
    "        # get LDA metric\n",
    "        f_clean = clean_text(f)\n",
    "        f_corpus = dictionary.doc2bow(f_clean)\n",
    "        sent_lda = ldamodel[f_corpus]\n",
    "        vec_lda = lda_to_vec(sent_lda)\n",
    "        f_lda = 1-spatial.distance.cosine(vec_lda, lda_art)\n",
    "        np_vec_lda = np.asarray(vec_lda)\n",
    "        f_ldadists.append(f_lda)\n",
    "        all_ldadists.append(f_lda)\n",
    "\n",
    "        # get fraction position\n",
    "        f_wpos, f_spos = sent_pos(f[:-2], row.textjoined, idval)\n",
    "#         if n <= 5:\n",
    "#             print('wordpos: '+str(f_wpos))\n",
    "#             print('sentpos: '+str(f_spos))\n",
    "        f_wposes.append( float(f_wpos) )\n",
    "        f_sposes.append( float(f_spos) )\n",
    "        all_wposes.append( float(f_wpos) )\n",
    "        all_sposes.append( float(f_spos) )\n",
    "        \n",
    "        # get length\n",
    "        ftwords = word_tokenizer.tokenize(f)\n",
    "        ftlen = len(ftwords)\n",
    "        ftlens.append(int(ftlen))\n",
    "        alllens.append(int(ftlen))\n",
    "\n",
    "        # get readability\n",
    "        f_rd = Readability(f)\n",
    "        f_ARI.append( float(f_rd.ARI()) )\n",
    "        f_FRE.append( float(f_rd.FleschReadingEase()) )\n",
    "        f_FKG.append( float(f_rd.FleschKincaidGradeLevel()) )\n",
    "        f_GFI.append( float(f_rd.GunningFogIndex()) )\n",
    "        f_SMG.append( float(f_rd.SMOGIndex()) )\n",
    "        f_CLI.append( float(f_rd.ColemanLiauIndex()) )\n",
    "        f_LIX.append( float(f_rd.LIX()) )\n",
    "        f_RIX.append( float(f_rd.RIX()) )\n",
    "        all_ARI.append( float(f_rd.ARI()) )\n",
    "        all_FRE.append( float(f_rd.FleschReadingEase()) )\n",
    "        all_FKG.append( float(f_rd.FleschKincaidGradeLevel()) )\n",
    "        all_GFI.append( float(f_rd.GunningFogIndex()) )\n",
    "        all_SMG.append( float(f_rd.SMOGIndex()) )\n",
    "        all_CLI.append( float(f_rd.ColemanLiauIndex()) )\n",
    "        all_LIX.append( float(f_rd.LIX()) )\n",
    "        all_RIX.append( float(f_rd.RIX()) )\n",
    "\n",
    "        # get label and id\n",
    "        articleids.append(int(i))\n",
    "        hlorno.append(0)\n",
    "    \n",
    "    n += 1\n",
    "#     if n == 5:\n",
    "#         break\n",
    "\n",
    "# print(len(articleids))\n",
    "# print(len(hlorno))\n",
    "# print(len(alllens))\n",
    "# print(len(all_rds))\n",
    "# print(len(all_ldadists))\n",
    "# print(len(hllens))\n",
    "# print(len(ftlens))\n",
    "# print(len(h_rds))\n",
    "# print(len(f_rds))\n",
    "# print(len(h_ldadists))\n",
    "# print(len(f_ldadists))\n",
    "\n",
    "toc = timeit.default_timer()\n",
    "print(str(toc - tic) + ' seconds elapsed')\n"
   ]
  },
  {
   "cell_type": "code",
   "execution_count": 73,
   "metadata": {
    "collapsed": false
   },
   "outputs": [
    {
     "name": "stdout",
     "output_type": "stream",
     "text": [
      "0\n",
      "0\n",
      "143\n",
      "143\n",
      "143\n",
      "143\n"
     ]
    }
   ],
   "source": [
    "# # time required for position + readability analysis:\n",
    "# # 2985.0007762390014 seconds elapsed\n",
    "# # 2746.6176740369992 seconds elapsed for just position\n",
    "\n",
    "# # count number of sentences excluded from position analysis\n",
    "# print(h_wposes.count(-1))\n",
    "# print(h_sposes.count(-1))\n",
    "# print(f_wposes.count(-1))\n",
    "# print(f_sposes.count(-1))\n",
    "# print(all_wposes.count(-1))\n",
    "# print(all_sposes.count(-1))"
   ]
  },
  {
   "cell_type": "code",
   "execution_count": 75,
   "metadata": {
    "collapsed": false
   },
   "outputs": [
    {
     "name": "stdout",
     "output_type": "stream",
     "text": [
      "281331\n"
     ]
    }
   ],
   "source": [
    "# time required for length + LDA analysis:\n",
    "# 398.4295387339953 seconds elapsed\n"
   ]
  },
  {
   "cell_type": "code",
   "execution_count": 54,
   "metadata": {
    "collapsed": false
   },
   "outputs": [
    {
     "data": {
      "image/png": "[encoded data removed]",
      "text/plain": [
       "<matplotlib.figure.Figure at 0x131047a20>"
      ]
     },
     "metadata": {},
     "output_type": "display_data"
    }
   ],
   "source": [
    "plt.pie([276120,5211], explode=(0,0.2), labels=['non-highlighted (276120)','highlighted (5211)'], shadow=False, startangle=90)\n",
    "plt.axis('equal')\n",
    "plt.show()\n"
   ]
  },
  {
   "cell_type": "code",
   "execution_count": 76,
   "metadata": {
    "collapsed": false
   },
   "outputs": [],
   "source": [
    "analyzed_data_h = pd.DataFrame({ \\\n",
    "'h_wposes':h_wposes, \\\n",
    "'h_sposes':h_sposes, \\\n",
    "'h_ARI':h_ARI, \\\n",
    "'h_FRE':h_FRE, \\\n",
    "'h_FKG':h_FKG, \\\n",
    "'h_GFI':h_GFI, \\\n",
    "'h_SMG':h_SMG, \\\n",
    "'h_CLI':h_CLI, \\\n",
    "'h_LIX':h_LIX, \\\n",
    "'h_RIX':h_RIX, \\\n",
    "})\n",
    "\n",
    "analyzed_data_all = pd.DataFrame({ \\\n",
    "'all_wposes':all_wposes, \\\n",
    "'all_sposes':all_sposes, \\\n",
    "'all_ARI':all_ARI, \\\n",
    "'all_FRE':all_FRE, \\\n",
    "'all_FKG':all_FKG, \\\n",
    "'all_GFI':all_GFI, \\\n",
    "'all_SMG':all_SMG, \\\n",
    "'all_CLI':all_CLI, \\\n",
    "'all_LIX':all_LIX, \\\n",
    "'all_RIX':all_RIX, \\\n",
    "})\n",
    "\n",
    "analyzed_data_f = pd.DataFrame({ \\\n",
    "'f_wposes':f_wposes, \\\n",
    "'f_sposes':f_sposes, \\\n",
    "'f_ARI':f_ARI, \\\n",
    "'f_FRE':f_FRE, \\\n",
    "'f_FKG':f_FKG, \\\n",
    "'f_GFI':f_GFI, \\\n",
    "'f_SMG':f_SMG, \\\n",
    "'f_CLI':f_CLI, \\\n",
    "'f_LIX':f_LIX, \\\n",
    "'f_RIX':f_RIX, \\\n",
    "})\n",
    "\n",
    "analyzed_data_h.to_pickle('/Users/clarencecheng/Dropbox/~Insight/skimr/datasets/analyzed_data_h')\n",
    "analyzed_data_f.to_pickle('/Users/clarencecheng/Dropbox/~Insight/skimr/datasets/analyzed_data_f')\n",
    "analyzed_data_all.to_pickle('/Users/clarencecheng/Dropbox/~Insight/skimr/datasets/analyzed_data_all')\n",
    "\n",
    "\n"
   ]
  },
  {
   "cell_type": "markdown",
   "metadata": {},
   "source": [
    "### Save article ids and highlight-or-not label after analyzing for FRE and position (without length and LDA)\n"
   ]
  },
  {
   "cell_type": "code",
   "execution_count": 52,
   "metadata": {
    "collapsed": true
   },
   "outputs": [],
   "source": [
    "# articleids_w_FRE_pos_list = articleids\n",
    "# hlorno_w_FRE_pos_list = hlorno\n",
    "\n",
    "# articleids_w_FRE_pos = pd.DataFrame({'articleids':articleids_w_FRE_pos_list})\n",
    "# hlorno_w_FRE_pos = pd.DataFrame({'hlorno':hlorno_w_FRE_pos_list})\n",
    "# articleids_w_FRE_pos.to_pickle('/Users/clarencecheng/Dropbox/~Insight/skimr/datasets/articleids_w_FRE_pos')\n",
    "# hlorno_w_FRE_pos.to_pickle('/Users/clarencecheng/Dropbox/~Insight/skimr/datasets/hlorno_w_FRE_pos')"
   ]
  },
  {
   "cell_type": "markdown",
   "metadata": {},
   "source": [
    "### Save article ids and highlight-or-not label after analyzing for length and LDA\n"
   ]
  },
  {
   "cell_type": "code",
   "execution_count": null,
   "metadata": {
    "collapsed": true
   },
   "outputs": [],
   "source": [
    "# articleids_w_len_lda_list = articleids\n",
    "# hlorno_w_len_lda_list = hlorno\n",
    "\n",
    "# articleids_w_len_lda = pd.DataFrame({'articleids':articleids_w_len_lda_list})\n",
    "# hlorno_w_len_lda = pd.DataFrame({'hlorno':hlorno_w_len_lda_list})\n",
    "# articleids_w_len_lda.to_pickle('/Users/clarencecheng/Dropbox/~Insight/skimr/datasets/articleids_w_len_lda')\n",
    "# hlorno_w_len_lda.to_pickle('/Users/clarencecheng/Dropbox/~Insight/skimr/datasets/hlorno_w_len_lda')"
   ]
  },
  {
   "cell_type": "code",
   "execution_count": 58,
   "metadata": {
    "collapsed": false
   },
   "outputs": [
    {
     "name": "stdout",
     "output_type": "stream",
     "text": [
      "True\n",
      "True\n"
     ]
    }
   ],
   "source": [
    "# print(articleids_w_len_lda_list == articleids_w_FRE_pos_list)\n",
    "# print(hlorno_w_FRE_pos_list == hlorno_w_len_lda_list)"
   ]
  },
  {
   "cell_type": "code",
   "execution_count": 80,
   "metadata": {
    "collapsed": false
   },
   "outputs": [
    {
     "data": {
      "image/png": "[encoded data removed]",
      "text/plain": [
       "<matplotlib.figure.Figure at 0x1310723c8>"
      ]
     },
     "metadata": {},
     "output_type": "display_data"
    },
    {
     "data": {
      "image/png": "[encoded data removed]",
      "text/plain": [
       "<matplotlib.figure.Figure at 0x128585c50>"
      ]
     },
     "metadata": {},
     "output_type": "display_data"
    }
   ],
   "source": [
    "from statistics import mode\n",
    "\n",
    "# print(max(hllens))\n",
    "# print(scipy.stats.mode(hllens))\n",
    "# print(max(ftlens))\n",
    "# print(scipy.stats.mode(ftlens))\n",
    "\n",
    "# print(max(h_rds))\n",
    "# print(scipy.stats.mode(h_rds))\n",
    "# print(max(f_rds))\n",
    "# print(scipy.stats.mode(f_rds))\n",
    "\n",
    "\n",
    "plt.hist(hllens, bins=50, range=(-10,140))\n",
    "plt.title(\"All unique highlighted sentences\")\n",
    "plt.xlabel(\"Number of words\")\n",
    "plt.ylabel(\"Frequency\")\n",
    "plt.show()\n",
    "\n",
    "plt.hist(ftlens, bins=50, range=(-10,140))\n",
    "plt.title(\"All unique non-highlighted sentences\")\n",
    "plt.xlabel(\"Number of words\")\n",
    "plt.ylabel(\"Frequency\")\n",
    "plt.show()\n",
    "\n",
    "# print(len(hllens))\n",
    "# print(len(ftlens))\n",
    "# print(len(alllens))\n",
    "\n",
    "\n",
    "\n",
    "# plt.hist(h_ldadists, bins=50)#, normed=1)\n",
    "# plt.title(\"All unique highlighted sentences\")\n",
    "# plt.xlabel(\"LDA distance\")\n",
    "# plt.ylabel(\"Frequency\")\n",
    "# plt.show()\n",
    "\n",
    "# plt.hist(f_ldadists, bins=50)#, normed=1)\n",
    "# plt.title(\"All unique non-highlighted sentences\")\n",
    "# plt.xlabel(\"LDA distance\")\n",
    "# plt.ylabel(\"Frequency\")\n",
    "# plt.show()\n",
    "\n",
    "# print(len(h_ldadists))\n",
    "# print(len(f_ldadists))\n",
    "# print(len(all_ldadists))\n",
    "\n",
    "\n",
    "# plt.hist(h_wposes, bins=25, range=(0,1), normed=1)\n",
    "# plt.title(\"All unique highlighted sentences\")\n",
    "# plt.xlabel(\"Fraction words into full text\")\n",
    "# plt.ylabel(\"Frequency\")\n",
    "# plt.show()\n",
    "\n",
    "# plt.hist(h_sposes, bins=25, range=(0,1), normed=1)\n",
    "# plt.title(\"All unique highlighted sentences\")\n",
    "# plt.xlabel(\"Fraction sentences into full text\")\n",
    "# plt.ylabel(\"Frequency\")\n",
    "# plt.show()\n",
    "\n",
    "# plt.hist(f_wposes, bins=25, range=(0,1), normed=1)\n",
    "# plt.title(\"All unique non-highlighted sentences\")\n",
    "# plt.xlabel(\"Fraction words into full text\")\n",
    "# plt.ylabel(\"Frequency\")\n",
    "# plt.show()\n",
    "\n",
    "# plt.hist(f_sposes, bins=25, range=(0,1), normed=1)\n",
    "# plt.title(\"All unique non-highlighted sentences\")\n",
    "# plt.xlabel(\"Fraction sentences into full text\")\n",
    "# plt.ylabel(\"Frequency\")\n",
    "# plt.show()\n",
    "\n",
    "# print(len(h_wposes))\n",
    "# print(len(h_sposes))\n",
    "# print(len(f_wposes))\n",
    "# print(len(f_sposes))\n",
    "# print(len(all_wposes))\n",
    "\n",
    "# plt.hist(h_sposes, bins=25, range=(0,1), normed=1)\n",
    "# plt.title(\"All unique highlighted sentences\")\n",
    "# plt.xlabel(\"Fraction sentences into full text\")\n",
    "# plt.ylabel(\"Frequency\")\n",
    "# plt.show()\n",
    "# plt.hist(f_sposes, bins=25, range=(0,1), normed=1)\n",
    "# plt.title(\"All unique non-highlighted sentences\")\n",
    "# plt.xlabel(\"Fraction sentences into full text\")\n",
    "# plt.ylabel(\"Frequency\")\n",
    "# plt.show()\n",
    "# plt.hist(all_sposes, bins=25, range=(0,1), normed=1)\n",
    "# plt.title(\"All unique sentences\")\n",
    "# plt.xlabel(\"Fraction sentences into full text\")\n",
    "# plt.ylabel(\"Frequency\")\n",
    "# plt.show()\n",
    "\n"
   ]
  },
  {
   "cell_type": "markdown",
   "metadata": {},
   "source": [
    "### Put into pandas dataframe to submit to logistic regression\n",
    "\n"
   ]
  },
  {
   "cell_type": "code",
   "execution_count": 81,
   "metadata": {
    "collapsed": false
   },
   "outputs": [
    {
     "name": "stdout",
     "output_type": "stream",
     "text": [
      "              ARI      CLI      FKG       FRE      GFI   LDAdist        LIX  \\\n",
      "0        8.620000  11.3423   7.6338   63.4862  11.3538  0.978843  28.384615   \n",
      "1       14.007500  18.5125   7.7733   60.7050   8.1333  0.981704  28.666667   \n",
      "2        7.295294   7.7276   6.3106   80.0976   9.1529  0.185355  40.529412   \n",
      "3       -0.087273   1.2845   1.5727  103.3791   4.4000  0.980338  11.000000   \n",
      "4        4.410000   5.6171   4.1986   89.8964   8.4571  0.978843  21.142857   \n",
      "5        0.340000   2.4633  -4.2133  141.3000   8.0444  0.088626  20.111111   \n",
      "6        3.338182   5.5682   2.6455   95.6882   4.4000  0.978844  20.090909   \n",
      "7       16.609767   4.1858  14.3521   68.7528  19.0605  0.155225  52.302326   \n",
      "8       -2.660000  -4.2033  -6.5533  147.3900   1.2000  0.445979   3.000000   \n",
      "9        4.678947   3.3911   7.3463   76.2342  11.8105  0.172752  24.263158   \n",
      "10       8.397368   8.0411   9.8305   58.4237  11.8105  0.976764  34.789474   \n",
      "11      -0.090000   1.7600   2.8800   83.3200  10.0000  0.212839   5.000000   \n",
      "12       1.410000   4.0100   3.7550   82.3900   8.2000  0.981702  33.000000   \n",
      "13     -16.220000 -39.9100 -15.2000  205.8200   0.4000  0.445979   1.000000   \n",
      "14       9.234706  10.1529   9.0871   60.1918  13.8588  0.202789  46.411765   \n",
      "15      11.859231   8.4185  11.3423   60.0527  16.5538  0.164257  52.923077   \n",
      "16       0.270000   1.3333  -1.0767  124.1550   4.8000  0.194811  12.000000   \n",
      "17       5.625000   5.1117   5.8522   85.1650   9.4222  0.174978  29.111111   \n",
      "18      10.475200   7.2668   7.8480   83.3240  14.8000  0.179529  37.000000   \n",
      "19       7.849412   8.4206   7.6988   70.1447  11.5059  0.169103  28.764706   \n",
      "20       5.998750   6.6212   6.1375   79.5575  11.4000  0.895860  28.500000   \n",
      "21      10.082500  13.6042   8.7567   53.6550  11.4667  0.169100  45.333333   \n",
      "22       6.414211   5.5611   5.4832   89.5921   7.6000  0.977669  29.526316   \n",
      "23      18.068125  21.7144  12.7750   31.9700  18.9000  0.139409  59.750000   \n",
      "24      11.591875  13.6156  13.5125   26.6825  16.4000  0.174981  34.750000   \n",
      "25      12.859474  13.6211  11.6937   45.0658  16.0211  0.785448  45.315789   \n",
      "26     -16.220000 -39.9100 -15.2000  205.8200   0.4000  0.445979   1.000000   \n",
      "27      20.512500  13.3075  18.1167   29.2950  23.2889  0.970737  72.111111   \n",
      "28      -0.087273   1.2845   1.5727  103.3791   4.4000  0.978846  20.090909   \n",
      "29      -3.858000  -2.9520   0.5200  100.2400   2.0000  0.445979   5.000000   \n",
      "...           ...      ...      ...       ...      ...       ...        ...   \n",
      "281301   6.649000  10.0610   6.0100   69.7850   8.0000  0.124723  30.000000   \n",
      "281302  29.463158  11.6770  24.4435   21.3379  25.6070  0.982657  81.561404   \n",
      "281303  25.331887   8.9721  22.0008   31.7268  24.2189  0.876314  75.641509   \n",
      "281304  21.059412  15.1929  20.2288   10.5897  24.1882  0.885722  69.294118   \n",
      "281305  20.819565   7.6200  17.4848   51.6363  21.0087  0.962248  59.043478   \n",
      "281306  16.880800  15.2772  14.9280   32.5640  19.6000  0.977757  61.000000   \n",
      "281307  14.833448  10.3814  12.4028   57.7931  15.7379  0.665232  49.689655   \n",
      "281308  20.291538  11.2195  17.7738   37.0962  20.7282  0.169233  64.641026   \n",
      "281309   9.900000  11.5033   9.1800   34.5900  14.5333  0.732380  36.333333   \n",
      "281310  18.576400  17.3976  15.4000   29.1800  14.8000  0.976069  57.000000   \n",
      "281311  33.621364  11.3214  27.3136   16.7905  30.0364  0.689548  85.696970   \n",
      "281312   3.910000   5.4523   7.6338   63.4862  11.3538  0.195252  28.384615   \n",
      "281313   7.652500  10.5675   6.6200   54.7250  11.6000  0.111985  54.000000   \n",
      "281314   3.400714   4.3550   2.5129  101.9821   5.6000  0.208495  14.000000   \n",
      "281315  26.580192  11.1475  23.0708   22.2742  25.4154  0.967257  75.076923   \n",
      "281316   6.763636   9.8518   9.0818   49.5427  11.6727  0.302241  38.272727   \n",
      "281317  14.195455   7.2079  14.4436   50.2855  19.2606  0.044852  45.121212   \n",
      "281318   9.504231   5.4735   9.0731   76.3219  13.4769  0.188102  33.692308   \n",
      "281319   1.765000   3.2050   6.6200   54.7250  11.6000  0.973335  29.000000   \n",
      "281320  10.335000  11.0017  10.4411   52.2650  13.8667  0.550717  34.666667   \n",
      "281321  18.721538   9.2562  16.8662   43.6038  20.7282  0.093440  56.948718   \n",
      "281322  13.875556  10.3574  10.2363   69.7633  13.7630  0.034595  41.814815   \n",
      "281323   8.397368   8.0411   6.7253   80.6868  11.8105  0.964383  34.789474   \n",
      "281324  10.195000   7.4917  11.9617   52.0500  16.2667  0.947481  36.500000   \n",
      "281325  10.417000  14.7730  11.9100   27.4850  16.0000  0.986691  40.000000   \n",
      "281326  -2.122500  -0.4075  -0.6700  114.1150   3.2000  0.272988   8.000000   \n",
      "281327  20.322439  10.0451  15.9415   53.7956  20.3024  0.885810  60.512195   \n",
      "281328  21.912128   8.3749  19.5613   38.5300  23.9064  0.915502  64.021277   \n",
      "281329   0.000000   0.0000   0.0000    0.0000   0.0000  0.449594   0.000000   \n",
      "281330   0.340909   1.8200   1.5727  103.3791   4.4000  0.284824  11.000000   \n",
      "\n",
      "         RIX        SMG  highlightornot  length   sentPos   wordPos  \n",
      "0        2.0  10.745967               1      13  0.069811  0.073383  \n",
      "1        2.0   8.477226               0      12  0.000000  0.000000  \n",
      "2        4.0   8.477226               0      16  0.001887  0.001610  \n",
      "3        0.0   3.000000               0      11  0.003774  0.003756  \n",
      "4        1.0   8.477226               0      14  0.005660  0.005232  \n",
      "5        1.0   8.477226               0       8  0.007547  0.007110  \n",
      "6        1.0   3.000000               0      11  0.009434  0.008184  \n",
      "7        4.0  10.745967               0      43  0.011321  0.009659  \n",
      "8        0.0   3.000000               0       3  0.013208  0.015428  \n",
      "9        1.0  10.745967               0      19  0.015094  0.015830  \n",
      "10       3.0  10.745967               0      19  0.016981  0.018379  \n",
      "11       0.0   8.477226               0       5  0.018868  0.020928  \n",
      "12       2.0   8.477226               0       8  0.020755  0.021599  \n",
      "13       0.0   3.000000               0       1  0.000000  0.000000  \n",
      "14       5.0  12.486833               0      16  0.024528  0.022807  \n",
      "15       7.0  13.954451               0      25  0.026415  0.024953  \n",
      "16       0.0   3.000000               0      11  0.028302  0.028307  \n",
      "17       2.0   8.477226               0      18  0.030189  0.029783  \n",
      "18       3.0  12.486833               0      24  0.032075  0.032197  \n",
      "19       2.0  10.745967               0      17  0.033962  0.035417  \n",
      "20       2.0  10.745967               0      16  0.035849  0.037698  \n",
      "21       4.0  10.745967               0      12  0.037736  0.039844  \n",
      "22       2.0   3.000000               0      19  0.039623  0.041454  \n",
      "23       7.0  15.247449               0      15  0.041509  0.044003  \n",
      "24       3.0  13.954451               0      16  0.043396  0.046016  \n",
      "25       5.0  13.954451               0      19  0.045283  0.048162  \n",
      "26       0.0   3.000000               0       1  0.000000  0.000000  \n",
      "27      13.0  18.491933               0      34  0.049057  0.050845  \n",
      "28       1.0   3.000000               0      10  0.050943  0.055406  \n",
      "29       0.0   3.000000               0       5  0.052830  0.056748  \n",
      "...      ...        ...             ...     ...       ...       ...  \n",
      "281301   2.0   8.477226               0      10  0.523810  0.505956  \n",
      "281302  14.0  13.954451               0      57  0.539683  0.512226  \n",
      "281303  12.0  13.954451               0      52  0.555556  0.547962  \n",
      "281304  12.0  19.431677               0      34  0.571429  0.580564  \n",
      "281305   6.0  12.486833               0      45  0.587302  0.601881  \n",
      "281306   9.0  16.416408               0      25  0.603175  0.630094  \n",
      "281307   6.0  12.486833               0      29  0.619048  0.645768  \n",
      "281308  10.0  15.247449               0      39  0.634921  0.663950  \n",
      "281309   1.0   8.477226               0       3  0.650794  0.688401  \n",
      "281310   8.0  12.486833               0      25  0.666667  0.690282  \n",
      "281311  13.0  16.416408               0      64  0.682540  0.705956  \n",
      "281312   2.0  10.745967               0      13  0.698413  0.746082  \n",
      "281313   2.0   8.477226               0       4  0.714286  0.754232  \n",
      "281314   0.0   3.000000               0      13  0.730159  0.756740  \n",
      "281315  12.0  16.416408               0      52  0.746032  0.764890  \n",
      "281316   3.0  10.745967               0      11  0.761905  0.797492  \n",
      "281317   4.0  15.247449               0      33  0.777778  0.804389  \n",
      "281318   2.0  10.745967               0      26  0.793651  0.825078  \n",
      "281319   1.0   8.477226               0       4  0.809524  0.841379  \n",
      "281320   3.0  12.486833               0      18  0.825397  0.843887  \n",
      "281321   7.0  15.247449               0      39  0.841270  0.855172  \n",
      "281322   4.0  10.745967               0      27  0.857143  0.879624  \n",
      "281323   3.0  10.745967               0      19  0.873016  0.896552  \n",
      "281324   3.0  13.954451               0      24  0.888889  0.908464  \n",
      "281325   3.0  12.486833               0      10  0.904762  0.923511  \n",
      "281326   0.0   3.000000               0       8  0.920635  0.929781  \n",
      "281327   8.0  13.954451               0      41  0.936508  0.934796  \n",
      "281328   8.0  16.416408               0      47  0.952381  0.960502  \n",
      "281329   0.0   0.000000               0       1  0.000000  0.000000  \n",
      "281330   0.0   3.000000               0      11  0.984127  0.993103  \n",
      "\n",
      "[281331 rows x 13 columns]\n"
     ]
    }
   ],
   "source": [
    "dataset_submit = pd.DataFrame({ \\\n",
    "'highlightornot':hlorno, \\\n",
    "'length':alllens, \\\n",
    "'LDAdist':all_ldadists, \\\n",
    "'wordPos':all_wposes, \\\n",
    "'sentPos':all_sposes, \\\n",
    "'ARI':all_ARI, \\\n",
    "'FRE':all_FRE, \\\n",
    "'FKG':all_FKG, \\\n",
    "'GFI':all_GFI, \\\n",
    "'SMG':all_SMG, \\\n",
    "'CLI':all_CLI, \\\n",
    "'LIX':all_LIX, \\\n",
    "'RIX':all_RIX, \\\n",
    "                             })\n",
    "dataset_submit.to_pickle('/Users/clarencecheng/Dropbox/~Insight/skimr/datasets/dataset_submit_len_lda_wpos_wpos_readmets')\n",
    "\n",
    "dataset_submit = pd.read_pickle('/Users/clarencecheng/Dropbox/~Insight/skimr/datasets/dataset_submit_len_lda_wpos_wpos_readmets')\n",
    "\n",
    "print(dataset_submit)"
   ]
  },
  {
   "cell_type": "markdown",
   "metadata": {},
   "source": [
    "### Describe statistical model with patsy"
   ]
  },
  {
   "cell_type": "code",
   "execution_count": 3,
   "metadata": {
    "collapsed": false
   },
   "outputs": [],
   "source": [
    "dataset_submit = pd.read_pickle('/Users/clarencecheng/Dropbox/~Insight/skimr/datasets/dataset_submit_len_lda_wpos_wpos_readmets')\n",
    "\n",
    "# create dataframe\n",
    "y, X = dmatrices('highlightornot ~ length + LDAdist + wordPos + sentPos + ARI + FRE + FKG + GFI + SMG + CLI + LIX + RIX', \\\n",
    "                 dataset_submit, return_type=\"dataframe\")\n",
    "# ytest, Xtest = dmatrices('length ~ length + FRE', set_tr_submit, return_type=\"dataframe\")\n",
    "# print( Xtest.columns)\n",
    "# print(ytest)\n",
    "\n",
    "# flatten y into a 1-D array\n",
    "y = np.ravel(y)"
   ]
  },
  {
   "cell_type": "markdown",
   "metadata": {
    "collapsed": true
   },
   "source": [
    "### Split into train and test sets\n"
   ]
  },
  {
   "cell_type": "code",
   "execution_count": 84,
   "metadata": {
    "collapsed": false
   },
   "outputs": [],
   "source": [
    "X_train, X_test, y_train, y_test = train_test_split(X, y, test_size=0.2, random_state=0)\n",
    "\n",
    "\n"
   ]
  },
  {
   "cell_type": "code",
   "execution_count": 180,
   "metadata": {
    "collapsed": false
   },
   "outputs": [],
   "source": [
    "file = open('/Users/clarencecheng/Dropbox/~Insight/skimr/datasets/Xtrain_len_lda_wpos_wpos_readmets','wb')\n",
    "pickle.dump(X_train,file)\n",
    "file = open('/Users/clarencecheng/Dropbox/~Insight/skimr/datasets/Xtest_len_lda_wpos_wpos_readmets','wb')\n",
    "pickle.dump(X_test,file)\n",
    "file = open('/Users/clarencecheng/Dropbox/~Insight/skimr/datasets/ytrain_len_lda_wpos_wpos_readmets','wb')\n",
    "pickle.dump(y_train,file)\n",
    "file = open('/Users/clarencecheng/Dropbox/~Insight/skimr/datasets/ytest_len_lda_wpos_wpos_readmets','wb')\n",
    "pickle.dump(y_test,file)\n",
    "\n"
   ]
  },
  {
   "cell_type": "markdown",
   "metadata": {},
   "source": [
    "### Include data preprocessing to scale all features! (i.e. calculate z-scores)\n"
   ]
  },
  {
   "cell_type": "code",
   "execution_count": 153,
   "metadata": {
    "collapsed": false
   },
   "outputs": [
    {
     "name": "stdout",
     "output_type": "stream",
     "text": [
      "225064\n",
      "56267\n",
      "225064\n",
      "56267\n"
     ]
    }
   ],
   "source": [
    "pipe = make_pipeline(StandardScaler(), LogisticRegression(class_weight='balanced', penalty='l2'))\n",
    "\n",
    "# ## fit\n",
    "# pipe.fit(X, y)\n",
    "# ## predict\n",
    "# pipe.predict_proba(X)\n",
    "# ## to get back mean/std\n",
    "# scaler = pipe.steps[0][1]\n",
    "# scaler.mean_\n",
    "# # Out[12]: array([ 0.0313, -0.0334,  0.0145, ..., -0.0247,  0.0191,  0.0439])\n",
    "# scaler.std_\n",
    "# # Out[13]: array([ 1.    ,  1.0553,  0.9805, ...,  1.0033,  1.0097,  0.9884])\n",
    "    \n",
    "    \n",
    "# pipe = LogisticRegression(class_weight='balanced', penalty='l2')\n",
    "pipe.fit(X_train, y_train)\n",
    "# print(X_train)\n",
    "print(len(y_train))\n",
    "print(len(y_test))\n",
    "print(len(X_train))\n",
    "print(len(X_test))"
   ]
  },
  {
   "cell_type": "markdown",
   "metadata": {},
   "source": [
    "### save/load model\n"
   ]
  },
  {
   "cell_type": "code",
   "execution_count": 3,
   "metadata": {
    "collapsed": false
   },
   "outputs": [],
   "source": [
    "# fpipe = open('/Users/clarencecheng/Dropbox/~Insight/skimr/datasets/model_len_lda_wpos_wpos_readmets','wb')\n",
    "# pickle.dump(pipe, fpipe)\n",
    "\n",
    "# load model\n",
    "pipe = pd.read_pickle('/Users/clarencecheng/Dropbox/~Insight/skimr/datasets/model_len_lda_wpos_wpos_readmets')\n",
    "X_train = pd.read_pickle('/Users/clarencecheng/Dropbox/~Insight/skimr/datasets/Xtrain_len_lda_wpos_wpos_readmets')\n",
    "X_test = pd.read_pickle('/Users/clarencecheng/Dropbox/~Insight/skimr/datasets/Xtest_len_lda_wpos_wpos_readmets')\n",
    "y_train = pd.read_pickle('/Users/clarencecheng/Dropbox/~Insight/skimr/datasets/ytrain_len_lda_wpos_wpos_readmets')\n",
    "y_test = pd.read_pickle('/Users/clarencecheng/Dropbox/~Insight/skimr/datasets/ytest_len_lda_wpos_wpos_readmets')\n",
    "\n"
   ]
  },
  {
   "cell_type": "markdown",
   "metadata": {},
   "source": [
    "## Evaluate logistic regression model"
   ]
  },
  {
   "cell_type": "code",
   "execution_count": 4,
   "metadata": {
    "collapsed": false
   },
   "outputs": [
    {
     "data": {
      "text/plain": [
       "0.45945597696655172"
      ]
     },
     "execution_count": 4,
     "metadata": {},
     "output_type": "execute_result"
    }
   ],
   "source": [
    "# check the accuracy on the training set\n",
    "pipe.score(X_train, y_train)"
   ]
  },
  {
   "cell_type": "code",
   "execution_count": 5,
   "metadata": {
    "collapsed": false
   },
   "outputs": [
    {
     "data": {
      "text/plain": [
       "0.45785273783923081"
      ]
     },
     "execution_count": 5,
     "metadata": {},
     "output_type": "execute_result"
    }
   ],
   "source": [
    "# check the accuracy on the test set\n",
    "pipe.score(X_test, y_test)"
   ]
  },
  {
   "cell_type": "code",
   "execution_count": 6,
   "metadata": {
    "collapsed": false
   },
   "outputs": [
    {
     "name": "stdout",
     "output_type": "stream",
     "text": [
      "[ 1.  0.  1. ...,  1.  0.  1.]\n",
      "30734\n",
      "56267\n"
     ]
    }
   ],
   "source": [
    "# predict class labels for the test set\n",
    "predicted = pipe.predict(X_test)\n",
    "print(predicted)\n",
    "test = np.nonzero(predicted)\n",
    "print(len(test[0]))\n",
    "print(len(predicted))"
   ]
  },
  {
   "cell_type": "markdown",
   "metadata": {},
   "source": [
    "### Examine feature weights (feature coefficients)\n"
   ]
  },
  {
   "cell_type": "code",
   "execution_count": 13,
   "metadata": {
    "collapsed": false
   },
   "outputs": [
    {
     "name": "stdout",
     "output_type": "stream",
     "text": [
      "[[ 0.        ]\n",
      " [-0.75450588]\n",
      " [ 0.00378554]\n",
      " [-0.14955534]\n",
      " [ 0.17832368]\n",
      " [-0.06008622]\n",
      " [ 0.69844673]\n",
      " [ 1.1656712 ]\n",
      " [ 0.01445301]\n",
      " [ 0.10138341]\n",
      " [ 0.12576411]\n",
      " [ 0.16656827]\n",
      " [-0.75734814]]\n",
      "Index(['Intercept', 'length', 'LDAdist', 'wordPos', 'sentPos', 'ARI', 'FRE',\n",
      "       'FKG', 'GFI', 'SMG', 'CLI', 'LIX', 'RIX'],\n",
      "      dtype='object')\n"
     ]
    },
    {
     "ename": "TypeError",
     "evalue": "'NoneType' object is not subscriptable",
     "output_type": "error",
     "traceback": [
      "\u001b[0;31m---------------------------------------------------------------------------\u001b[0m",
      "\u001b[0;31mTypeError\u001b[0m                                 Traceback (most recent call last)",
      "\u001b[0;32m<ipython-input-13-d81dd4bcf4d7>\u001b[0m in \u001b[0;36m<module>\u001b[0;34m()\u001b[0m\n\u001b[1;32m      2\u001b[0m \u001b[0mprint\u001b[0m\u001b[0;34m(\u001b[0m\u001b[0mnp\u001b[0m\u001b[0;34m.\u001b[0m\u001b[0mtranspose\u001b[0m\u001b[0;34m(\u001b[0m\u001b[0mpipe\u001b[0m\u001b[0;34m.\u001b[0m\u001b[0msteps\u001b[0m\u001b[0;34m[\u001b[0m\u001b[0;36m1\u001b[0m\u001b[0;34m]\u001b[0m\u001b[0;34m[\u001b[0m\u001b[0;36m1\u001b[0m\u001b[0;34m]\u001b[0m\u001b[0;34m.\u001b[0m\u001b[0mcoef_\u001b[0m\u001b[0;34m)\u001b[0m\u001b[0;34m)\u001b[0m\u001b[0;34m\u001b[0m\u001b[0m\n\u001b[1;32m      3\u001b[0m \u001b[0mprint\u001b[0m\u001b[0;34m(\u001b[0m\u001b[0mX_test\u001b[0m\u001b[0;34m.\u001b[0m\u001b[0mcolumns\u001b[0m\u001b[0;34m)\u001b[0m\u001b[0;34m\u001b[0m\u001b[0m\n\u001b[0;32m----> 4\u001b[0;31m \u001b[0mtmp\u001b[0m \u001b[0;34m=\u001b[0m \u001b[0mX_test\u001b[0m\u001b[0;34m.\u001b[0m\u001b[0mcolumns\u001b[0m\u001b[0;34m.\u001b[0m\u001b[0mname\u001b[0m\u001b[0;34m[\u001b[0m\u001b[0;36m2\u001b[0m\u001b[0;34m:\u001b[0m\u001b[0;34m]\u001b[0m\u001b[0;34m\u001b[0m\u001b[0m\n\u001b[0m\u001b[1;32m      5\u001b[0m \u001b[0mprint\u001b[0m\u001b[0;34m(\u001b[0m\u001b[0mtmp\u001b[0m\u001b[0;34m)\u001b[0m\u001b[0;34m\u001b[0m\u001b[0m\n\u001b[1;32m      6\u001b[0m \u001b[0;31m# [[ 0.        ]\u001b[0m\u001b[0;34m\u001b[0m\u001b[0;34m\u001b[0m\u001b[0m\n",
      "\u001b[0;31mTypeError\u001b[0m: 'NoneType' object is not subscriptable"
     ]
    }
   ],
   "source": [
    "print(np.transpose(pipe.steps[1][1].coef_))\n",
    "print(X_test.columns)\n",
    "tmp = X_test.columns.name[2:]\n",
    "print(tmp)\n",
    "# [[ 0.        ]\n",
    "#  [-0.75450588]\n",
    "#  [ 0.00378554]\n",
    "#  [-0.14955534]\n",
    "#  [ 0.17832368]\n",
    "#  [-0.06008622]\n",
    "#  [ 0.69844673]\n",
    "#  [ 1.1656712 ]\n",
    "#  [ 0.01445301]\n",
    "#  [ 0.10138341]\n",
    "#  [ 0.12576411]\n",
    "#  [ 0.16656827]\n",
    "#  [-0.75734814]]\n",
    "# Index(['Intercept', 'length', 'LDAdist', 'wordPos', 'sentPos', 'ARI', 'FRE',\n",
    "#        'FKG', 'GFI', 'SMG', 'CLI', 'LIX', 'RIX'],\n",
    "#       dtype='object')\n",
    "\n",
    "\n",
    "# WHEN ONLY USE LOGISTIC REGRESSION (NO Z-SCORE PREPROCESSING)\n",
    "# print(np.transpose(pipe.coef_))\n",
    "# [[-0.83983031]\n",
    "#  [-0.0366619 ]\n",
    "#  [ 0.01134218]\n",
    "#  [-0.49050534]\n",
    "#  [ 0.59117833]\n",
    "#  [-0.00489886]\n",
    "#  [ 0.01644136]\n",
    "#  [ 0.11783003]\n",
    "#  [ 0.00142764]\n",
    "#  [ 0.0216104 ]\n",
    "#  [ 0.0138162 ]\n",
    "#  [ 0.00623342]\n",
    "#  [-0.09777468]]\n",
    "# Index(['Intercept', 'length', 'LDAdist', 'wordPos', 'sentPos', 'ARI', 'FRE',\n",
    "#        'FKG', 'GFI', 'SMG', 'CLI', 'LIX', 'RIX'],\n",
    "#       dtype='object')"
   ]
  },
  {
   "cell_type": "markdown",
   "metadata": {},
   "source": [
    "### ROC curve and evaluation metrics"
   ]
  },
  {
   "cell_type": "code",
   "execution_count": 7,
   "metadata": {
    "collapsed": false
   },
   "outputs": [
    {
     "name": "stdout",
     "output_type": "stream",
     "text": [
      "[[ 0.48381601  0.51618399]\n",
      " [ 0.65055944  0.34944056]\n",
      " [ 0.48048208  0.51951792]\n",
      " ..., \n",
      " [ 0.4651526   0.5348474 ]\n",
      " [ 0.6783202   0.3216798 ]\n",
      " [ 0.48697564  0.51302436]]\n"
     ]
    }
   ],
   "source": [
    "# generate class probabilities\n",
    "probs = pipe.predict_proba(X_test)\n",
    "print (probs)"
   ]
  },
  {
   "cell_type": "code",
   "execution_count": 8,
   "metadata": {
    "collapsed": false
   },
   "outputs": [
    {
     "name": "stdout",
     "output_type": "stream",
     "text": [
      "0.457852737839\n",
      "0.55262283331\n"
     ]
    }
   ],
   "source": [
    "# generate evaluation metrics\n",
    "print( metrics.accuracy_score(y_test, predicted))\n",
    "print( metrics.roc_auc_score(y_test, probs[:, 1]))"
   ]
  },
  {
   "cell_type": "code",
   "execution_count": 17,
   "metadata": {
    "collapsed": false
   },
   "outputs": [
    {
     "data": {
      "image/png": "[encoded data removed]",
      "text/plain": [
       "<matplotlib.figure.Figure at 0x11af5f5c0>"
      ]
     },
     "metadata": {},
     "output_type": "display_data"
    }
   ],
   "source": [
    "# plot ROC curve for test set\n",
    "\n",
    "from sklearn.metrics import roc_curve, auc\n",
    "\n",
    "auc_score = metrics.roc_auc_score(y_test, probs[:, 1])\n",
    "fpr, tpr, thres = metrics.roc_curve(y_test, probs[:,1])\n",
    "\n",
    "plt.figure()\n",
    "lw = 2\n",
    "plt.plot(fpr, tpr, color='navy',\n",
    "         lw=lw, label='AUC = %0.2f' % auc_score)\n",
    "plt.plot([0, 1], [0, 1], color='darkorange', lw=lw, linestyle='--')\n",
    "plt.xlim([0.0, 1.0])\n",
    "plt.ylim([0.0, 1.05])\n",
    "plt.xlabel('False Positive Rate')\n",
    "plt.ylabel('True Positive Rate')\n",
    "plt.title('Receiver operating characteristic curve, test set')\n",
    "plt.legend(loc=\"lower right\")\n",
    "plt.show()\n"
   ]
  },
  {
   "cell_type": "code",
   "execution_count": 16,
   "metadata": {
    "collapsed": false
   },
   "outputs": [
    {
     "name": "stdout",
     "output_type": "stream",
     "text": [
      "[[ 0.51904363  0.48095637]\n",
      " [ 0.44721335  0.55278665]\n",
      " [ 0.5820432   0.4179568 ]\n",
      " ..., \n",
      " [ 0.46717142  0.53282858]\n",
      " [ 0.50611333  0.49388667]\n",
      " [ 0.50718894  0.49281106]]\n"
     ]
    },
    {
     "data": {
      "image/png": "[encoded data removed]",
      "text/plain": [
       "<matplotlib.figure.Figure at 0x1037b40b8>"
      ]
     },
     "metadata": {},
     "output_type": "display_data"
    }
   ],
   "source": [
    "# Plot ROC curve for training set\n",
    "probs_tr = pipe.predict_proba(X_train)\n",
    "print (probs_tr)\n",
    "\n",
    "auc_score_tr = metrics.roc_auc_score(y_train, probs_tr[:, 1])\n",
    "fpr_tr, tpr_tr, thres_tr = metrics.roc_curve(y_train, probs_tr[:,1])\n",
    "\n",
    "#Plot of a ROC curve for a specific class\n",
    "plt.figure()\n",
    "lw = 2\n",
    "plt.plot(fpr_tr, tpr_tr, color='navy',\n",
    "         lw=lw, label='AUC = %0.2f' % auc_score_tr)\n",
    "plt.plot([0, 1], [0, 1], color='darkorange', lw=lw, linestyle='--')\n",
    "plt.xlim([0.0, 1.0])\n",
    "plt.ylim([0.0, 1.05])\n",
    "plt.xlabel('False Positive Rate')\n",
    "plt.ylabel('True Positive Rate')\n",
    "plt.title('Receiver operating characteristic curve, training set')\n",
    "plt.legend(loc=\"lower right\")\n",
    "plt.show()\n"
   ]
  },
  {
   "cell_type": "code",
   "execution_count": 7,
   "metadata": {
    "collapsed": false
   },
   "outputs": [
    {
     "name": "stdout",
     "output_type": "stream",
     "text": [
      "[[25117 30089]\n",
      " [  416   645]]\n",
      "             precision    recall  f1-score   support\n",
      "\n",
      "        0.0       0.98      0.45      0.62     55206\n",
      "        1.0       0.02      0.61      0.04      1061\n",
      "\n",
      "avg / total       0.97      0.46      0.61     56267\n",
      "\n",
      "             precision    recall  f1-score   support\n",
      "\n",
      "        0.0       0.98      0.46      0.62    220914\n",
      "        1.0       0.02      0.63      0.04      4150\n",
      "\n",
      "avg / total       0.97      0.46      0.61    225064\n",
      "\n"
     ]
    }
   ],
   "source": [
    "print( metrics.confusion_matrix(y_test, predicted))\n",
    "print( metrics.classification_report(y_test, predicted))\n",
    "predicted_train = pipe.predict(X_train)\n",
    "print( metrics.classification_report(y_train, predicted_train))"
   ]
  },
  {
   "cell_type": "markdown",
   "metadata": {},
   "source": [
    "### Evaluate the model using 10-fold cross-validation\n"
   ]
  },
  {
   "cell_type": "code",
   "execution_count": 161,
   "metadata": {
    "collapsed": false
   },
   "outputs": [
    {
     "name": "stdout",
     "output_type": "stream",
     "text": [
      "[ 0.59003831  0.61612284  0.61804223  0.68714012  0.62955854  0.60076775\n",
      "  0.61420345  0.57005758  0.59884837  0.61036468]\n",
      "0.61351438804\n",
      "0.0292113885642\n"
     ]
    }
   ],
   "source": [
    "# scores = cross_val_score(pipe, X, y, scoring='accuracy', cv=10)\n",
    "recall = cross_val_score(pipe, X, y, cv=10, scoring='recall')\n",
    "\n",
    "print (recall)\n",
    "print (recall.mean())\n",
    "print (recall.std())\n",
    "\n",
    "# [ 0.59003831  0.61612284  0.61804223  0.68714012  0.62955854  0.60076775\n",
    "#   0.61420345  0.57005758  0.59884837  0.61036468]\n",
    "# 0.61351438804\n",
    "# 0.0292113885642\n",
    "\n",
    "# WITH ONLY LOGISTIC REGRESSION (NO Z-SCORE PREPROCESSING)\n",
    "# [ 0.59195402  0.61612284  0.61804223  0.68714012  0.62955854  0.60076775\n",
    "#   0.61420345  0.57005758  0.59884837  0.61036468]\n",
    "# 0.613705958921\n",
    "# 0.0290627055203"
   ]
  },
  {
   "cell_type": "markdown",
   "metadata": {},
   "source": [
    "10-fold cross-validation gives consistent results (0.61 ± 0.03 highlight recall)"
   ]
  },
  {
   "cell_type": "code",
   "execution_count": 162,
   "metadata": {
    "collapsed": false
   },
   "outputs": [
    {
     "data": {
      "image/png": "[encoded data removed]",
      "text/plain": [
       "<matplotlib.figure.Figure at 0x11d4346d8>"
      ]
     },
     "metadata": {},
     "output_type": "display_data"
    }
   ],
   "source": [
    "plt.matshow(confusion_matrix(y_test, predicted), cmap=plt.cm.binary, interpolation='nearest')\n",
    "plt.title('confusion matrix')\n",
    "plt.colorbar()\n",
    "plt.ylabel('expected label')\n",
    "plt.xlabel('predicted label')\n",
    "plt.show()"
   ]
  },
  {
   "cell_type": "code",
   "execution_count": 169,
   "metadata": {
    "collapsed": false
   },
   "outputs": [
    {
     "name": "stdout",
     "output_type": "stream",
     "text": [
      "[[25117 30089]\n",
      " [  416   645]]\n",
      "[[ 0.45496866  0.54503134]\n",
      " [ 0.39208294  0.60791706]]\n"
     ]
    }
   ],
   "source": [
    "# normalized confusion matrix values\n",
    "cm = metrics.confusion_matrix(y_test, predicted)\n",
    "print(cm)\n",
    "cm = cm.astype('float') / cm.sum(axis=1)[:, np.newaxis]\n",
    "\n",
    "print(cm)"
   ]
  },
  {
   "cell_type": "code",
   "execution_count": 103,
   "metadata": {
    "collapsed": false
   },
   "outputs": [
    {
     "name": "stdout",
     "output_type": "stream",
     "text": [
      "Pipeline(steps=[('standardscaler', StandardScaler(copy=True, with_mean=True, with_std=True)), ('logisticregression', LogisticRegression(C=1.0, class_weight='balanced', dual=False,\n",
      "          fit_intercept=True, intercept_scaling=1, max_iter=100,\n",
      "          multi_class='ovr', n_jobs=1, penalty='l2', random_state=None,\n",
      "          solver='liblinear', tol=0.0001, verbose=0, warm_start=False))])\n"
     ]
    }
   ],
   "source": [
    "print(pipe)"
   ]
  },
  {
   "cell_type": "code",
   "execution_count": 104,
   "metadata": {
    "collapsed": false
   },
   "outputs": [
    {
     "name": "stdout",
     "output_type": "stream",
     "text": [
      "[ 1.  0.  1. ...,  1.  0.  1.]\n"
     ]
    }
   ],
   "source": [
    "# predict class labels for the test set\n",
    "predicted = pipe.predict(X_test)\n",
    "print(predicted)\n",
    "\n",
    "# plt.matshow(confusion_matrix(X_test, predicted), cmap=plt.cm.binary, interpolation='nearest')\n",
    "# plt.title('confusion matrix')\n",
    "# plt.colorbar()\n",
    "# plt.ylabel('expected label')\n",
    "# plt.xlabel('predicted label')\n",
    "# plt.show()"
   ]
  },
  {
   "cell_type": "markdown",
   "metadata": {},
   "source": [
    "### Inspect distribution of class probabilities\n",
    "\n"
   ]
  },
  {
   "cell_type": "code",
   "execution_count": 6,
   "metadata": {
    "collapsed": false
   },
   "outputs": [
    {
     "name": "stdout",
     "output_type": "stream",
     "text": [
      "152825\n",
      "37248\n"
     ]
    },
    {
     "data": {
      "image/png": "[encoded data removed]",
      "text/plain": [
       "<matplotlib.figure.Figure at 0x11d6b5e10>"
      ]
     },
     "metadata": {},
     "output_type": "display_data"
    },
    {
     "data": {
      "image/png": "[encoded data removed]",
      "text/plain": [
       "<matplotlib.figure.Figure at 0x11d6b5e80>"
      ]
     },
     "metadata": {},
     "output_type": "display_data"
    }
   ],
   "source": [
    "decfxn_tr = pipe.decision_function(X_train)\n",
    "decfxn_ts = pipe.decision_function(X_test)\n",
    "# print(decfxn_tr)\n",
    "# print(decfxn_ts)\n",
    "# print(min(decfxn_tr))\n",
    "# print(min(decfxn_ts))\n",
    "# print(max(decfxn_tr))\n",
    "# print(max(decfxn_ts))\n",
    "\n",
    "print(decfxn_tr.argmax())\n",
    "print(decfxn_ts.argmax())\n",
    "\n",
    "\n",
    "plt.hist(decfxn_tr, bins=50, range=(-1,1))#, normed=1)\n",
    "plt.title(\"Training set\")\n",
    "plt.xlabel(\"Decision Fxn (confidence value)\")\n",
    "plt.ylabel(\"Frequency\")\n",
    "plt.show()\n",
    "\n",
    "plt.hist(decfxn_ts, bins=50, range=(-1,1))#, normed=1)\n",
    "plt.title(\"Test set\")\n",
    "plt.xlabel(\"Decision Fxn (confidence value)\")\n",
    "plt.ylabel(\"Frequency\")\n",
    "plt.show()\n",
    "\n"
   ]
  },
  {
   "cell_type": "markdown",
   "metadata": {},
   "source": [
    "### Construct validation plots -- roc type curve for decision function value (confidence score)\n",
    "\n",
    "Before computing the ROC curves shown above, I created a separate cumulative density function (CDF) plot by sorting the confidence scores of every sentence in the dataset by rank, then plotting the cumulative highlight recovery going down the ranks. This gave a similar result to the ROC curves, since moving along the x-axis of this CDF plot is similar to adjusting the confidence score threshold."
   ]
  },
  {
   "cell_type": "code",
   "execution_count": 221,
   "metadata": {
    "collapsed": false
   },
   "outputs": [
    {
     "name": "stdout",
     "output_type": "stream",
     "text": [
      "1061\n",
      "[   71   102   110 ..., 56118 56203 56247]\n",
      "4150\n",
      "[    64    100    137 ..., 224889 224943 224996]\n",
      "225064\n",
      "4150.0\n",
      "4150.0\n",
      "[  1.00000000e+00   1.01843484e+00   1.03686968e+00 ...,   4.14996313e+03\n",
      "   4.14998157e+03   4.15000000e+03]\n"
     ]
    },
    {
     "data": {
      "image/png": "[encoded data removed]",
      "text/plain": [
       "<matplotlib.figure.Figure at 0x13769e8d0>"
      ]
     },
     "metadata": {},
     "output_type": "display_data"
    },
    {
     "data": {
      "image/png": "[encoded data removed]",
      "text/plain": [
       "<matplotlib.figure.Figure at 0x1283d89e8>"
      ]
     },
     "metadata": {},
     "output_type": "display_data"
    }
   ],
   "source": [
    "# sort common dataset by cosine similarity score\n",
    "# plot cumulative density of highlights relative to cos similarity score\n",
    "# if curve above 1:1 diagonal, means highlight prediction better than chance\n",
    "\n",
    "# print(dataset_submit.head(10))\n",
    "# print(dataset_submit.sort_values('LDAdist').head(10))\n",
    "# print(dataset_submit.sort_values('LDAdist').tail(10))\n",
    "# print(dataset_submit.sort_values('LDAdist').head(2000))\n",
    "\n",
    "\n",
    "\n",
    "from scipy.interpolate import interp1d\n",
    "# \n",
    "decfxn_tr\n",
    "print(len(np.nonzero(y_test)[0]))\n",
    "print(np.nonzero(y_test)[0])\n",
    "\n",
    "print(len(np.nonzero(y_train)[0]))\n",
    "print(np.nonzero(y_train)[0])\n",
    "\n",
    "cumul = pd.DataFrame({'confidencescore':decfxn_tr, 'highlightornot':y_train})\n",
    "cumul_sort = cumul.sort_values('confidencescore', ascending=False)\n",
    "# print(cumul_sort)\n",
    "total = 0\n",
    "array = []\n",
    "for i in cumul_sort['highlightornot']:\n",
    "    total = total + i\n",
    "    array.append(total)\n",
    "# print(min(decfxn_tr))\n",
    "print(len(array))\n",
    "print(total)\n",
    "print(array[-1])\n",
    "\n",
    "# rangex = np.arange(1,4150)\n",
    "line = np.linspace(1, 4150, 225064)\n",
    "print(line)\n",
    "\n",
    "# plot CDF curve and chance line\n",
    "plt.plot(range(1,225065), array, range(1,225065), line)\n",
    "plt.show()\n",
    "\n",
    "# plot CDF curve and chance line, normalized\n",
    "plt.plot(range(1,225065), array/max(array), range(1,225065), line/max(line))\n",
    "plt.show()\n",
    "\n"
   ]
  },
  {
   "cell_type": "code",
   "execution_count": null,
   "metadata": {
    "collapsed": true
   },
   "outputs": [],
   "source": []
  },
  {
   "cell_type": "markdown",
   "metadata": {
    "collapsed": true
   },
   "source": [
    "### Define a function to draw CDF plots"
   ]
  },
  {
   "cell_type": "code",
   "execution_count": 14,
   "metadata": {
    "collapsed": true
   },
   "outputs": [],
   "source": [
    "def plot_cdf(decfxn, ytrain):\n",
    "    cumul = pd.DataFrame({'confidencescore':decfxn, 'highlightornot':ytrain})\n",
    "    cumul_sort = cumul.sort_values('confidencescore', ascending=False)\n",
    "    # print(cumul_sort)\n",
    "    total = 0\n",
    "    array = []\n",
    "    for i in cumul_sort['highlightornot']:\n",
    "        array.append(total)\n",
    "        total = total + i\n",
    "    # print(min(decfxn_tr))\n",
    "    print(len(array))\n",
    "    print(total)\n",
    "    print(array[-1])\n",
    "\n",
    "    line = np.linspace(1, max(array), len(array))\n",
    "#     print(line)\n",
    "\n",
    "    # plot CDF curve and chance line\n",
    "    plt.plot(range(1,len(array)+1), array, range(1,len(array)+1), line)\n",
    "    plt.show()\n",
    "\n",
    "    # plot CDF curve and chance line, normalized\n",
    "    plt.plot(range(1,len(array)+1), array/max(array), range(1,len(array)+1), line/max(line))\n",
    "    plt.show()\n",
    "    \n",
    "    normarray = array/max(array)\n",
    "    \n",
    "    print(sum(normarray)/(1*len(array)))"
   ]
  },
  {
   "cell_type": "code",
   "execution_count": 9,
   "metadata": {
    "collapsed": false
   },
   "outputs": [
    {
     "name": "stdout",
     "output_type": "stream",
     "text": [
      "56267\n",
      "1061.0\n",
      "1061.0\n"
     ]
    },
    {
     "data": {
      "image/png": "[encoded data removed]",
      "text/plain": [
       "<matplotlib.figure.Figure at 0x12223b978>"
      ]
     },
     "metadata": {},
     "output_type": "display_data"
    },
    {
     "data": {
      "image/png": "[encoded data removed]",
      "text/plain": [
       "<matplotlib.figure.Figure at 0x1221d5160>"
      ]
     },
     "metadata": {},
     "output_type": "display_data"
    },
    {
     "name": "stdout",
     "output_type": "stream",
     "text": [
      "0.551621663421\n"
     ]
    }
   ],
   "source": [
    "plot_cdf(decfxn_ts, y_test)"
   ]
  },
  {
   "cell_type": "code",
   "execution_count": null,
   "metadata": {
    "collapsed": true
   },
   "outputs": [],
   "source": []
  },
  {
   "cell_type": "markdown",
   "metadata": {
    "collapsed": true
   },
   "source": [
    "## Test undersampling from imblearn for balancing class weights\n",
    "\n"
   ]
  },
  {
   "cell_type": "code",
   "execution_count": 113,
   "metadata": {
    "collapsed": false
   },
   "outputs": [
    {
     "name": "stdout",
     "output_type": "stream",
     "text": [
      "Original dataset shape Counter({0.0: 276120, 1.0: 5211})\n",
      "Resampled dataset shape Counter({1.0: 5211, 0.0: 5211})\n"
     ]
    }
   ],
   "source": [
    "# print original shape of y from above:\n",
    "print('Original dataset shape {}'.format(Counter(y)))\n",
    "undersample = RandomUnderSampler()\n",
    "X_undersmp, y_undersmp = undersample.fit_sample(X, y)\n",
    "print('Resampled dataset shape {}'.format(Counter(y_undersmp)))"
   ]
  },
  {
   "cell_type": "code",
   "execution_count": 117,
   "metadata": {
    "collapsed": false
   },
   "outputs": [
    {
     "name": "stdout",
     "output_type": "stream",
     "text": [
      "Resampled dataset shape Counter({1.0: 4203, 0.0: 4134})\n",
      "Resampled dataset shape Counter({0.0: 1077, 1.0: 1008})\n"
     ]
    }
   ],
   "source": [
    "# Split into train and test sets\n",
    "X_undersmp_train, X_undersmp_test, y_undersmp_train, y_undersmp_test = \\\n",
    "train_test_split(X_undersmp, y_undersmp, test_size=0.2, random_state=0)\n",
    "\n",
    "print('Resampled dataset shape {}'.format(Counter(y_undersmp_train)))\n",
    "print('Resampled dataset shape {}'.format(Counter(y_undersmp_test)))"
   ]
  },
  {
   "cell_type": "code",
   "execution_count": 119,
   "metadata": {
    "collapsed": false
   },
   "outputs": [
    {
     "name": "stdout",
     "output_type": "stream",
     "text": [
      "8337\n",
      "2085\n",
      "8337\n",
      "2085\n"
     ]
    }
   ],
   "source": [
    "# Include data preprocessing to scale all features! (i.e. calculate z-scores)\n",
    "pipe_undersmp = make_pipeline(StandardScaler(), LogisticRegression(class_weight='balanced', penalty='l2'))\n",
    "\n",
    "# ## fit\n",
    "# pipe.fit(X, y)\n",
    "# ## predict\n",
    "# pipe.predict_proba(X)\n",
    "# ## to get back mean/std\n",
    "# scaler = pipe.steps[0][1]\n",
    "# scaler.mean_\n",
    "# # Out[12]: array([ 0.0313, -0.0334,  0.0145, ..., -0.0247,  0.0191,  0.0439])\n",
    "# scaler.std_\n",
    "# # Out[13]: array([ 1.    ,  1.0553,  0.9805, ...,  1.0033,  1.0097,  0.9884])\n",
    "    \n",
    "    \n",
    "# model = LogisticRegression(class_weight='balanced', penalty='l2')\n",
    "pipe_undersmp.fit(X_undersmp_train, y_undersmp_train)\n",
    "# print(X_train)\n",
    "print(len(y_undersmp_train))\n",
    "print(len(y_undersmp_test))\n",
    "print(len(X_undersmp_train))\n",
    "print(len(X_undersmp_test))\n",
    "\n"
   ]
  },
  {
   "cell_type": "code",
   "execution_count": 121,
   "metadata": {
    "collapsed": false
   },
   "outputs": [
    {
     "name": "stdout",
     "output_type": "stream",
     "text": [
      "0.548158810124\n",
      "0.520383693046\n"
     ]
    }
   ],
   "source": [
    "# # save model\n",
    "# fpipe_undersmp = open('/Users/clarencecheng/Dropbox/~Insight/skimr/datasets/model_undersmp_len_lda_wpos_wpos_readmets','wb')\n",
    "# pickle.dump(pipe_undersmp, fpipe_undersmp)\n",
    "\n",
    "# load model\n",
    "pipe_undersmp = pd.read_pickle('/Users/clarencecheng/Dropbox/~Insight/skimr/datasets/model_undersmp_len_lda_wpos_wpos_readmets')\n",
    "\n",
    "# check the accuracy on the training set\n",
    "print(pipe_undersmp.score(X_undersmp_train, y_undersmp_train))\n",
    "\n",
    "# check the accuracy on the test set\n",
    "print(pipe_undersmp.score(X_undersmp_test, y_undersmp_test))\n",
    "\n"
   ]
  },
  {
   "cell_type": "code",
   "execution_count": 124,
   "metadata": {
    "collapsed": false
   },
   "outputs": [
    {
     "name": "stdout",
     "output_type": "stream",
     "text": [
      "[ 1.  1.  1. ...,  0.  1.  0.]\n",
      "1230\n",
      "2085\n",
      "[[ 0.        ]\n",
      " [-0.47851308]\n",
      " [-0.03087635]\n",
      " [ 0.0814741 ]\n",
      " [-0.03316393]\n",
      " [-0.01878615]\n",
      " [ 0.77610961]\n",
      " [ 1.01257391]\n",
      " [ 0.00578266]\n",
      " [ 0.12901553]\n",
      " [ 0.18632183]\n",
      " [ 0.07639077]\n",
      " [-0.37497635]]\n",
      "Index(['Intercept', 'length', 'LDAdist', 'wordPos', 'sentPos', 'ARI', 'FRE',\n",
      "       'FKG', 'GFI', 'SMG', 'CLI', 'LIX', 'RIX'],\n",
      "      dtype='object')\n",
      "[[ 0.4614495   0.5385505 ]\n",
      " [ 0.47152145  0.52847855]\n",
      " [ 0.4895365   0.5104635 ]\n",
      " ..., \n",
      " [ 0.50380637  0.49619363]\n",
      " [ 0.47050047  0.52949953]\n",
      " [ 0.51401674  0.48598326]]\n",
      "0.520383693046\n",
      "0.540210350621\n",
      "[[466 611]\n",
      " [389 619]]\n",
      "             precision    recall  f1-score   support\n",
      "\n",
      "        0.0       0.55      0.43      0.48      1077\n",
      "        1.0       0.50      0.61      0.55      1008\n",
      "\n",
      "avg / total       0.52      0.52      0.52      2085\n",
      "\n",
      "[ 0.59003831  0.61612284  0.61804223  0.68714012  0.62955854  0.60076775\n",
      "  0.61420345  0.57005758  0.59884837  0.61036468]\n",
      "0.61351438804\n",
      "0.0292113885642\n"
     ]
    }
   ],
   "source": [
    "# predict class labels for the test set\n",
    "predicted_undersmp = pipe_undersmp.predict(X_undersmp_test)\n",
    "print(predicted_undersmp)\n",
    "test = np.nonzero(predicted_undersmp)\n",
    "print(len(test[0]))\n",
    "print(len(predicted_undersmp))\n",
    "\n",
    "# examine the coefficients\n",
    "print(np.transpose(pipe_undersmp.steps[1][1].coef_))\n",
    "print(X_test.columns)\n",
    "\n",
    "# generate class probabilities\n",
    "probs_undersmp = pipe_undersmp.predict_proba(X_undersmp_test)\n",
    "print (probs_undersmp)\n",
    "\n",
    "# generate evaluation metrics\n",
    "print( metrics.accuracy_score(y_undersmp_test, predicted_undersmp))\n",
    "print( metrics.roc_auc_score(y_undersmp_test, probs_undersmp[:, 1]))\n",
    "\n",
    "print( metrics.confusion_matrix(y_undersmp_test, predicted_undersmp))\n",
    "print( metrics.classification_report(y_undersmp_test, predicted_undersmp))\n",
    "\n",
    "# evaluate the model using 10-fold cross-validation\n",
    "# scores = cross_val_score(pipe, X, y, scoring='accuracy', cv=10)\n",
    "recall_undersmp = cross_val_score(pipe_undersmp, X, y, cv=10, scoring='recall')\n",
    "\n",
    "print (recall_undersmp)\n",
    "print (recall_undersmp.mean())\n",
    "print (recall_undersmp.std())"
   ]
  },
  {
   "cell_type": "code",
   "execution_count": 127,
   "metadata": {
    "collapsed": false
   },
   "outputs": [
    {
     "name": "stdout",
     "output_type": "stream",
     "text": [
      "[1.0, 0.6197041566997715, 0.9695954588907783, 1.0848851166868112, 0.9673799663533975, 0.981389206243711, 2.1730019841225814, 2.7526770590391414, 1.005799416639851, 1.137707793240735, 1.204809937231406, 1.0793842843468693, 0.687305531057032]\n",
      "[0.5, 0.3826033008166441, 0.49228152639873957, 0.5203572647738275, 0.4917097779268677, 0.49530359969216464, 0.6848410416999703, 0.7335235661722391, 0.5014456621613655, 0.5322092181345262, 0.5464461661236404, 0.5190884111572007, 0.4073391086595096]\n",
      "Index(['Intercept', 'length', 'LDAdist', 'wordPos', 'sentPos', 'ARI', 'FRE',\n",
      "       'FKG', 'GFI', 'SMG', 'CLI', 'LIX', 'RIX'],\n",
      "      dtype='object')\n"
     ]
    }
   ],
   "source": [
    "# convert coefficients to probabilities\n",
    "coeffs = np.transpose(pipe_undersmp.steps[1][1].coef_)\n",
    "coeff_odds = []\n",
    "coeff_probs = []\n",
    "for i in coeffs:\n",
    "    coeff_odds.append(math.exp(i))\n",
    "    coeff_probs.append(math.exp(i)/(1+math.exp(i)))\n",
    "    \n",
    "print(coeff_odds)\n",
    "print(coeff_probs)\n",
    "print(X_test.columns)\n"
   ]
  },
  {
   "cell_type": "code",
   "execution_count": 228,
   "metadata": {
    "collapsed": false
   },
   "outputs": [
    {
     "name": "stdout",
     "output_type": "stream",
     "text": [
      "[[466 611]\n",
      " [389 619]]\n",
      "[[ 0.43268338  0.56731662]\n",
      " [ 0.3859127   0.6140873 ]]\n"
     ]
    }
   ],
   "source": [
    "# normalized confusion matrix values\n",
    "cm_undersmp = metrics.confusion_matrix(y_undersmp_test, predicted_undersmp)\n",
    "print(cm_undersmp)\n",
    "cm_undersmp = cm_undersmp.astype('float') / cm_undersmp.sum(axis=1)[:, np.newaxis]\n",
    "\n",
    "print(cm_undersmp)"
   ]
  },
  {
   "cell_type": "markdown",
   "metadata": {},
   "source": [
    "#### Generate CDF plots (see \"Construct validation plots\" section above)\n"
   ]
  },
  {
   "cell_type": "code",
   "execution_count": 226,
   "metadata": {
    "collapsed": false
   },
   "outputs": [
    {
     "name": "stdout",
     "output_type": "stream",
     "text": [
      "8337\n",
      "4203.0\n",
      "4203.0\n"
     ]
    },
    {
     "data": {
      "image/png": "[encoded data removed]",
      "text/plain": [
       "<matplotlib.figure.Figure at 0x1289a9828>"
      ]
     },
     "metadata": {},
     "output_type": "display_data"
    },
    {
     "data": {
      "image/png": "[encoded data removed]",
      "text/plain": [
       "<matplotlib.figure.Figure at 0x1283d8f98>"
      ]
     },
     "metadata": {},
     "output_type": "display_data"
    },
    {
     "name": "stdout",
     "output_type": "stream",
     "text": [
      "2085\n",
      "1008.0\n",
      "1008.0\n"
     ]
    },
    {
     "data": {
      "image/png": "[encoded data removed]",
      "text/plain": [
       "<matplotlib.figure.Figure at 0x13b5a12b0>"
      ]
     },
     "metadata": {},
     "output_type": "display_data"
    },
    {
     "data": {
      "image/png": "[encoded data removed]",
      "text/plain": [
       "<matplotlib.figure.Figure at 0x139e3e160>"
      ]
     },
     "metadata": {},
     "output_type": "display_data"
    }
   ],
   "source": [
    "decfxn_tr_undersmp = pipe_undersmp.decision_function(X_undersmp_train)\n",
    "decfxn_ts_undersmp = pipe_undersmp.decision_function(X_undersmp_test)\n",
    "\n",
    "plot_cdf(decfxn_tr_undersmp, y_undersmp_train)\n",
    "plot_cdf(decfxn_ts_undersmp, y_undersmp_test)"
   ]
  },
  {
   "cell_type": "code",
   "execution_count": null,
   "metadata": {
    "collapsed": true
   },
   "outputs": [],
   "source": []
  },
  {
   "cell_type": "markdown",
   "metadata": {
    "collapsed": true
   },
   "source": [
    "## Test SMOTE (synthetic oversampling) from imblearn for balancing class weights\n",
    "\n"
   ]
  },
  {
   "cell_type": "code",
   "execution_count": 4,
   "metadata": {
    "collapsed": false
   },
   "outputs": [
    {
     "name": "stdout",
     "output_type": "stream",
     "text": [
      "Original dataset shape Counter({0.0: 276120, 1.0: 5211})\n",
      "Resampled dataset shape Counter({1.0: 276120, 0.0: 276120})\n"
     ]
    }
   ],
   "source": [
    "# print original shape of y from above:\n",
    "print('Original dataset shape {}'.format(Counter(y)))\n",
    "smote = SMOTE()\n",
    "X_smote, y_smote = smote.fit_sample(X, y)\n",
    "print('Resampled dataset shape {}'.format(Counter(y_smote)))\n",
    "\n"
   ]
  },
  {
   "cell_type": "code",
   "execution_count": 5,
   "metadata": {
    "collapsed": false
   },
   "outputs": [
    {
     "name": "stdout",
     "output_type": "stream",
     "text": [
      "Resampled dataset shape Counter({0.0: 220917, 1.0: 220875})\n",
      "Resampled dataset shape Counter({1.0: 55245, 0.0: 55203})\n"
     ]
    }
   ],
   "source": [
    "# Split into train and test sets\n",
    "X_smote_train, X_smote_test, y_smote_train, y_smote_test = \\\n",
    "train_test_split(X_smote, y_smote, test_size=0.2, random_state=0)\n",
    "\n",
    "print('Resampled dataset shape {}'.format(Counter(y_smote_train)))\n",
    "print('Resampled dataset shape {}'.format(Counter(y_smote_test)))\n",
    "\n"
   ]
  },
  {
   "cell_type": "code",
   "execution_count": 6,
   "metadata": {
    "collapsed": false
   },
   "outputs": [
    {
     "name": "stdout",
     "output_type": "stream",
     "text": [
      "441792\n",
      "110448\n",
      "441792\n",
      "110448\n"
     ]
    }
   ],
   "source": [
    "# Include data preprocessing to scale all features! (i.e. calculate z-scores)\n",
    "pipe_smote = make_pipeline(StandardScaler(), LogisticRegression(class_weight='balanced', penalty='l2'))\n",
    "    \n",
    "pipe_smote.fit(X_smote_train, y_smote_train)\n",
    "# print(X_train)\n",
    "print(len(y_smote_train))\n",
    "print(len(y_smote_test))\n",
    "print(len(X_smote_train))\n",
    "print(len(X_smote_test))\n",
    "\n"
   ]
  },
  {
   "cell_type": "code",
   "execution_count": 8,
   "metadata": {
    "collapsed": false
   },
   "outputs": [
    {
     "name": "stdout",
     "output_type": "stream",
     "text": [
      "0.539926028538\n",
      "0.538561132841\n"
     ]
    }
   ],
   "source": [
    "# save model\n",
    "fpipe_smote = open('/Users/clarencecheng/Dropbox/~Insight/skimr/datasets/model_smote_len_lda_wpos_wpos_readmets','wb')\n",
    "pickle.dump(pipe_smote, fpipe_smote)\n",
    "\n",
    "# check the accuracy on the training set\n",
    "print(pipe_smote.score(X_smote_train, y_smote_train))\n",
    "\n",
    "# check the accuracy on the test set\n",
    "print(pipe_smote.score(X_smote_test, y_smote_test))\n",
    "\n"
   ]
  },
  {
   "cell_type": "code",
   "execution_count": 11,
   "metadata": {
    "collapsed": false
   },
   "outputs": [
    {
     "name": "stdout",
     "output_type": "stream",
     "text": [
      "[ 0.  1.  1. ...,  1.  1.  1.]\n",
      "63802\n",
      "110448\n",
      "[[ 0.        ]\n",
      " [-0.54720871]\n",
      " [ 0.00265248]\n",
      " [-0.07867989]\n",
      " [ 0.1102044 ]\n",
      " [-0.0438532 ]\n",
      " [ 0.59799881]\n",
      " [ 0.92154695]\n",
      " [-0.06256826]\n",
      " [ 0.1332407 ]\n",
      " [ 0.09715447]\n",
      " [ 0.17088002]\n",
      " [-0.58975695]]\n",
      "[[ 0.52961794  0.47038206]\n",
      " [ 0.4179719   0.5820281 ]\n",
      " [ 0.49659791  0.50340209]\n",
      " ..., \n",
      " [ 0.47521229  0.52478771]\n",
      " [ 0.4465655   0.5534345 ]\n",
      " [ 0.44269922  0.55730078]]\n",
      "0.538561132841\n",
      "0.556674374615\n",
      "[[25442 29761]\n",
      " [21204 34041]]\n",
      "             precision    recall  f1-score   support\n",
      "\n",
      "        0.0       0.55      0.46      0.50     55203\n",
      "        1.0       0.53      0.62      0.57     55245\n",
      "\n",
      "avg / total       0.54      0.54      0.54    110448\n",
      "\n",
      "[ 0.59003831  0.61612284  0.61804223  0.68714012  0.62955854  0.60076775\n",
      "  0.61420345  0.57005758  0.59884837  0.61036468]\n",
      "0.61351438804\n",
      "0.0292113885642\n"
     ]
    }
   ],
   "source": [
    "# predict class labels for the test set\n",
    "predicted_smote = pipe_smote.predict(X_smote_test)\n",
    "print(predicted_smote)\n",
    "test = np.nonzero(predicted_smote)\n",
    "print(len(test[0]))\n",
    "print(len(predicted_smote))\n",
    "\n",
    "# examine the coefficients\n",
    "print(np.transpose(pipe_smote.steps[1][1].coef_))\n",
    "# print(X_smote_test.columns)\n",
    "\n",
    "# generate class probabilities\n",
    "probs_smote = pipe_smote.predict_proba(X_smote_test)\n",
    "print (probs_smote)\n",
    "\n",
    "# generate evaluation metrics\n",
    "print( metrics.accuracy_score(y_smote_test, predicted_smote))\n",
    "print( metrics.roc_auc_score(y_smote_test, probs_smote[:, 1]))\n",
    "\n",
    "print( metrics.confusion_matrix(y_smote_test, predicted_smote))\n",
    "print( metrics.classification_report(y_smote_test, predicted_smote))\n",
    "\n",
    "# evaluate the model using 10-fold cross-validation\n",
    "# scores = cross_val_score(pipe, X, y, scoring='accuracy', cv=10)\n",
    "recall_smote = cross_val_score(pipe_smote, X, y, cv=10, scoring='recall')\n",
    "\n",
    "print (recall_smote)\n",
    "print (recall_smote.mean())\n",
    "print (recall_smote.std())"
   ]
  },
  {
   "cell_type": "code",
   "execution_count": 12,
   "metadata": {
    "collapsed": false
   },
   "outputs": [
    {
     "name": "stdout",
     "output_type": "stream",
     "text": [
      "[[25442 29761]\n",
      " [21204 34041]]\n",
      "[[ 0.46088075  0.53911925]\n",
      " [ 0.38381754  0.61618246]]\n"
     ]
    }
   ],
   "source": [
    "# normalized confusion matrix values\n",
    "cm_smote = metrics.confusion_matrix(y_smote_test, predicted_smote)\n",
    "print(cm_smote)\n",
    "cm_smote = cm_smote.astype('float') / cm_smote.sum(axis=1)[:, np.newaxis]\n",
    "\n",
    "print(cm_smote)"
   ]
  },
  {
   "cell_type": "markdown",
   "metadata": {},
   "source": [
    "#### Generate CDF plots (see \"Construct validation plots\" section above)\n"
   ]
  },
  {
   "cell_type": "code",
   "execution_count": 15,
   "metadata": {
    "collapsed": false
   },
   "outputs": [
    {
     "name": "stdout",
     "output_type": "stream",
     "text": [
      "441792\n",
      "220875.0\n",
      "220875.0\n"
     ]
    },
    {
     "data": {
      "image/png": "[encoded data removed]",
      "text/plain": [
       "<matplotlib.figure.Figure at 0x111863be0>"
      ]
     },
     "metadata": {},
     "output_type": "display_data"
    },
    {
     "data": {
      "image/png": "[encoded data removed]",
      "text/plain": [
       "<matplotlib.figure.Figure at 0x116eab8d0>"
      ]
     },
     "metadata": {},
     "output_type": "display_data"
    },
    {
     "name": "stdout",
     "output_type": "stream",
     "text": [
      "0.528512983291\n",
      "110448\n",
      "55245.0\n",
      "55245.0\n"
     ]
    },
    {
     "data": {
      "image/png": "[encoded data removed]",
      "text/plain": [
       "<matplotlib.figure.Figure at 0x11b2ef780>"
      ]
     },
     "metadata": {},
     "output_type": "display_data"
    },
    {
     "data": {
      "image/png": "[encoded data removed]",
      "text/plain": [
       "<matplotlib.figure.Figure at 0x11af71e80>"
      ]
     },
     "metadata": {},
     "output_type": "display_data"
    },
    {
     "name": "stdout",
     "output_type": "stream",
     "text": [
      "0.528321884524\n"
     ]
    }
   ],
   "source": [
    "decfxn_tr_smote = pipe_smote.decision_function(X_smote_train)\n",
    "decfxn_ts_smote = pipe_smote.decision_function(X_smote_test)\n",
    "\n",
    "plot_cdf(decfxn_tr_smote, y_smote_train)\n",
    "plot_cdf(decfxn_ts_smote, y_smote_test)"
   ]
  },
  {
   "cell_type": "markdown",
   "metadata": {
    "collapsed": true
   },
   "source": [
    "### Conclusion from imblearn tests\n",
    "\n",
    "I tested applying undersampling and synthetic oversampling (through the imblearn library) to the logistic regression and found that these methods achieved similar highlight recall (sensitivity, TP/(TP+FN)) but with more balanced precision and f1-scores between the highlighted and non-highlighted classes."
   ]
  },
  {
   "cell_type": "code",
   "execution_count": null,
   "metadata": {
    "collapsed": true
   },
   "outputs": [],
   "source": []
  },
  {
   "cell_type": "markdown",
   "metadata": {
    "collapsed": true
   },
   "source": [
    "### TRY RANDOM FOREST with current features\n",
    "\n",
    "I wanted to see whether a random forest model would be better than the logistic regression at classifying highlights. This was not my preferred method, since random forest models are generally less interpretable than logistic regression.\n",
    "\n",
    "Here, I found that a random forest model attains a deceptively high overall accuracy, because it predicts almost all sentences to be non-highlighted, allowing the much bigger non-highlighted portion of the samples to overwhelm the prediction. Thus, I decided to stick with the logistic regression model."
   ]
  },
  {
   "cell_type": "code",
   "execution_count": 170,
   "metadata": {
    "collapsed": false
   },
   "outputs": [
    {
     "name": "stdout",
     "output_type": "stream",
     "text": [
      "225064\n",
      "56267\n",
      "225064\n",
      "56267\n"
     ]
    }
   ],
   "source": [
    "from sklearn.ensemble import RandomForestClassifier\n",
    "\n",
    "# # evaluate the model by splitting into train and test sets\n",
    "# X_train, X_test, y_train, y_test = train_test_split(X, y, test_size=0.2, random_state=0)\n",
    "modelRF = RandomForestClassifier(class_weight='balanced')\n",
    "modelRF.fit(X_train, y_train)\n",
    "# print(X_train)\n",
    "print(len(y_train))\n",
    "print(len(y_test))\n",
    "print(len(X_train))\n",
    "print(len(X_test))"
   ]
  },
  {
   "cell_type": "code",
   "execution_count": 171,
   "metadata": {
    "collapsed": false
   },
   "outputs": [
    {
     "name": "stdout",
     "output_type": "stream",
     "text": [
      "RandomForestClassifier(bootstrap=True, class_weight='balanced',\n",
      "            criterion='gini', max_depth=None, max_features='auto',\n",
      "            max_leaf_nodes=None, min_impurity_split=1e-07,\n",
      "            min_samples_leaf=1, min_samples_split=2,\n",
      "            min_weight_fraction_leaf=0.0, n_estimators=10, n_jobs=1,\n",
      "            oob_score=False, random_state=None, verbose=0,\n",
      "            warm_start=False)\n"
     ]
    }
   ],
   "source": [
    "print(modelRF)"
   ]
  },
  {
   "cell_type": "code",
   "execution_count": 172,
   "metadata": {
    "collapsed": true
   },
   "outputs": [],
   "source": [
    "# save model\n",
    "fmodelRF = open('/Users/clarencecheng/Dropbox/~Insight/skimr/datasets/modelRF_len_lda_wpos_wpos_readmets','wb')\n",
    "pickle.dump(modelRF, fmodelRF)\n",
    "\n"
   ]
  },
  {
   "cell_type": "code",
   "execution_count": 173,
   "metadata": {
    "collapsed": false
   },
   "outputs": [
    {
     "name": "stdout",
     "output_type": "stream",
     "text": [
      "0.994885899122\n"
     ]
    }
   ],
   "source": [
    "# check the accuracy on the training set\n",
    "print(modelRF.score(X_train, y_train))\n",
    "\n"
   ]
  },
  {
   "cell_type": "code",
   "execution_count": 174,
   "metadata": {
    "collapsed": false
   },
   "outputs": [
    {
     "name": "stdout",
     "output_type": "stream",
     "text": [
      "0.981143476638\n"
     ]
    }
   ],
   "source": [
    "# check the accuracy on the test set\n",
    "print(modelRF.score(X_test, y_test))\n",
    "\n"
   ]
  },
  {
   "cell_type": "code",
   "execution_count": 175,
   "metadata": {
    "collapsed": false
   },
   "outputs": [
    {
     "name": "stdout",
     "output_type": "stream",
     "text": [
      "[ 0.  0.  0. ...,  0.  0.  0.]\n",
      "16\n",
      "56267\n"
     ]
    }
   ],
   "source": [
    "# predict class labels for the test set\n",
    "predictedRF = modelRF.predict(X_test)\n",
    "print(predictedRF)\n",
    "\n",
    "test = np.nonzero(predictedRF)\n",
    "print(len(test[0]))\n",
    "print(len(predictedRF))\n",
    "\n"
   ]
  },
  {
   "cell_type": "code",
   "execution_count": 176,
   "metadata": {
    "collapsed": false
   },
   "outputs": [
    {
     "name": "stdout",
     "output_type": "stream",
     "text": [
      "[[ 1.  0.]\n",
      " [ 1.  0.]\n",
      " [ 1.  0.]\n",
      " ..., \n",
      " [ 1.  0.]\n",
      " [ 1.  0.]\n",
      " [ 1.  0.]]\n"
     ]
    }
   ],
   "source": [
    "# generate class probabilities\n",
    "probsRF = modelRF.predict_proba(X_test)\n",
    "print (probsRF)\n",
    "\n"
   ]
  },
  {
   "cell_type": "code",
   "execution_count": 177,
   "metadata": {
    "collapsed": false
   },
   "outputs": [
    {
     "name": "stdout",
     "output_type": "stream",
     "text": [
      "0.981143476638\n",
      "0.519190098482\n",
      "[[55198     8]\n",
      " [ 1053     8]]\n",
      "             precision    recall  f1-score   support\n",
      "\n",
      "        0.0       0.98      1.00      0.99     55206\n",
      "        1.0       0.50      0.01      0.01      1061\n",
      "\n",
      "avg / total       0.97      0.98      0.97     56267\n",
      "\n"
     ]
    }
   ],
   "source": [
    "# generate evaluation metrics\n",
    "print( metrics.accuracy_score(y_test, predictedRF))\n",
    "print( metrics.roc_auc_score(y_test, probsRF[:, 1]))\n",
    "\n",
    "print( metrics.confusion_matrix(y_test, predictedRF))\n",
    "print( metrics.classification_report(y_test, predictedRF))\n",
    "\n"
   ]
  },
  {
   "cell_type": "code",
   "execution_count": 178,
   "metadata": {
    "collapsed": false
   },
   "outputs": [
    {
     "name": "stdout",
     "output_type": "stream",
     "text": [
      "[ 0.00383142  0.00191939  0.00767754  0.00191939  0.00575816  0.00959693\n",
      "  0.00575816  0.00575816  0.00383877  0.00575816]\n",
      "0.00518160625381\n",
      "0.00227957890199\n"
     ]
    }
   ],
   "source": [
    "# evaluate the model using 10-fold cross-validation\n",
    "recallRF = cross_val_score(modelRF, X, y, scoring='recall', cv=10)\n",
    "print (recallRF)\n",
    "print (recallRF.mean())\n",
    "print (recallRF.std())\n",
    "\n",
    "# Terrible highlight recall!\n",
    "# [ 0.00383142  0.00191939  0.00767754  0.00191939  0.00575816  0.00959693\n",
    "#   0.00575816  0.00575816  0.00383877  0.00575816]\n",
    "# 0.00518160625381\n",
    "# 0.00227957890199"
   ]
  },
  {
   "cell_type": "code",
   "execution_count": 110,
   "metadata": {
    "collapsed": false
   },
   "outputs": [
    {
     "data": {
      "image/png": "[encoded data removed]",
      "text/plain": [
       "<matplotlib.figure.Figure at 0x11d716b70>"
      ]
     },
     "metadata": {},
     "output_type": "display_data"
    }
   ],
   "source": [
    "plt.matshow(confusion_matrix(y_test, predictedRF), cmap=plt.cm.binary, interpolation='nearest')\n",
    "plt.title('confusion matrix')\n",
    "plt.colorbar()\n",
    "plt.ylabel('expected label')\n",
    "plt.xlabel('predicted label')\n",
    "plt.show()"
   ]
  }
 ],
 "metadata": {
  "kernelspec": {
   "display_name": "Python 3",
   "language": "python",
   "name": "python3"
  },
  "language_info": {
   "codemirror_mode": {
    "name": "ipython",
    "version": 3
   },
   "file_extension": ".py",
   "mimetype": "text/x-python",
   "name": "python",
   "nbconvert_exporter": "python",
   "pygments_lexer": "ipython3",
   "version": "3.6.0"
  }
 },
 "nbformat": 4,
 "nbformat_minor": 2
}
