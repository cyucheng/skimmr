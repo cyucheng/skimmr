{
 "cells": [
  {
   "cell_type": "markdown",
   "metadata": {},
   "source": [
    "## Train bag-of-words classifier\n",
    "\n",
    "Train a bag-of-words classifier (Multinomial Naive Bayes), as for spam/ham filters, as first pass at distinguishing between highlighted and non-highlighted sentences.\n",
    "\n",
    "This is unlikely to be very accurate, since highlighted sentences seem to be more similar in writing style to the sentences around them than spam e-mail text is to normal e-mail text."
   ]
  },
  {
   "cell_type": "code",
   "execution_count": 2,
   "metadata": {
    "collapsed": false
   },
   "outputs": [],
   "source": [
    "import matplotlib.pyplot as plt\n",
    "import csv\n",
    "from textblob import TextBlob, Word\n",
    "import pandas as pd\n",
    "import sklearn\n",
    "import pickle\n",
    "import numpy as np\n",
    "import nltk.data\n",
    "from sklearn.feature_extraction.text import CountVectorizer, TfidfTransformer\n",
    "from sklearn.naive_bayes import MultinomialNB\n",
    "from sklearn.svm import SVC, LinearSVC\n",
    "from sklearn.metrics import classification_report, f1_score, accuracy_score, confusion_matrix\n",
    "from sklearn.pipeline import Pipeline\n",
    "from sklearn.tree import DecisionTreeClassifier \n",
    "from sklearn.model_selection import learning_curve, GridSearchCV, StratifiedKFold, cross_val_score, train_test_split \n",
    "tokenizer = nltk.data.load('tokenizers/punkt/english.pickle')"
   ]
  },
  {
   "cell_type": "markdown",
   "metadata": {},
   "source": [
    "### Retrieve dict_all with pickle\n"
   ]
  },
  {
   "cell_type": "code",
   "execution_count": 3,
   "metadata": {
    "collapsed": true
   },
   "outputs": [],
   "source": [
    "dict_all = pickle.load(open('/Users/clarencecheng/Dropbox/~Insight/skimr/datasets/dict_all','rb'))\n",
    "data = pickle.load(open('/Users/clarencecheng/Dropbox/~Insight/skimr/datasets/data_pd','rb'))\n",
    "sent_all = pickle.load(open('/Users/clarencecheng/Dropbox/~Insight/skimr/datasets/sent_all','rb'))"
   ]
  },
  {
   "cell_type": "code",
   "execution_count": 4,
   "metadata": {
    "collapsed": false
   },
   "outputs": [
    {
     "name": "stdout",
     "output_type": "stream",
     "text": [
      "238462\n"
     ]
    }
   ],
   "source": [
    "print(len(sent_all))"
   ]
  },
  {
   "cell_type": "code",
   "execution_count": 6,
   "metadata": {
    "collapsed": false
   },
   "outputs": [
    {
     "name": "stdout",
     "output_type": "stream",
     "text": [
      "5211\n",
      "5211\n",
      "['2', 'Until you appreciate what you currently have, more won’t make your life better.', 'hl']\n"
     ]
    }
   ],
   "source": [
    "# Tokenize highlights into sentences\n",
    "n = 0\n",
    "high_all = []\n",
    "high_mat = []\n",
    "for i in data['ids']:\n",
    "    high = tokenizer.tokenize(data['highlights'][n])\n",
    "    for j in high: \n",
    "        high_all.append(j)    # collect all sentences from all highlights into one list\n",
    "        high_mat.append([i, j, 'hl'])\n",
    "    n += 1\n",
    "print(len(high_all))\n",
    "print(len(high_mat))\n",
    "print(high_mat[0])\n"
   ]
  },
  {
   "cell_type": "code",
   "execution_count": 7,
   "metadata": {
    "collapsed": false
   },
   "outputs": [
    {
     "name": "stdout",
     "output_type": "stream",
     "text": [
      "238412\n",
      "238412\n",
      "['2', 'When you have five minutes of down-time, how do you spend that time?', 'no']\n"
     ]
    },
    {
     "data": {
      "text/plain": [
       "False"
      ]
     },
     "execution_count": 7,
     "metadata": {},
     "output_type": "execute_result"
    }
   ],
   "source": [
    "n = 0\n",
    "sent_tmp = []\n",
    "sent_mat = []\n",
    "for i in data['ids']:\n",
    "    full = str(' '.join(data['text'][n]))\n",
    "    high = data['highlights'][n]\n",
    "    fnoh = full.replace(high,' ')\n",
    "\n",
    "    sent = tokenizer.tokenize(fnoh)\n",
    "    for j in sent: \n",
    "        sent_tmp.append(j)    # collect all sentences from all full texts into one list\n",
    "        sent_mat.append([i, j, 'no'])\n",
    "    n+=1\n",
    "\n",
    "print(len(sent_tmp))\n",
    "print(len(sent_mat))\n",
    "print(sent_mat[0])\n",
    "sent_tmp == sent_all\n"
   ]
  },
  {
   "cell_type": "markdown",
   "metadata": {},
   "source": [
    "### Put highlight sentences and fulltext sentences in one pandas dataframe with label, HL or NO\n",
    "\n"
   ]
  },
  {
   "cell_type": "code",
   "execution_count": 8,
   "metadata": {
    "collapsed": false
   },
   "outputs": [
    {
     "data": {
      "text/html": [
       "<div>\n",
       "<table border=\"1\" class=\"dataframe\">\n",
       "  <thead>\n",
       "    <tr style=\"text-align: right;\">\n",
       "      <th></th>\n",
       "      <th></th>\n",
       "      <th>ids</th>\n",
       "      <th>sentence</th>\n",
       "    </tr>\n",
       "    <tr>\n",
       "      <th>tag</th>\n",
       "      <th></th>\n",
       "      <th></th>\n",
       "      <th></th>\n",
       "    </tr>\n",
       "  </thead>\n",
       "  <tbody>\n",
       "    <tr>\n",
       "      <th rowspan=\"4\" valign=\"top\">hl</th>\n",
       "      <th>count</th>\n",
       "      <td>5211</td>\n",
       "      <td>5211</td>\n",
       "    </tr>\n",
       "    <tr>\n",
       "      <th>unique</th>\n",
       "      <td>3201</td>\n",
       "      <td>5174</td>\n",
       "    </tr>\n",
       "    <tr>\n",
       "      <th>top</th>\n",
       "      <td>2874</td>\n",
       "      <td>.</td>\n",
       "    </tr>\n",
       "    <tr>\n",
       "      <th>freq</th>\n",
       "      <td>16</td>\n",
       "      <td>7</td>\n",
       "    </tr>\n",
       "    <tr>\n",
       "      <th rowspan=\"4\" valign=\"top\">no</th>\n",
       "      <th>count</th>\n",
       "      <td>238412</td>\n",
       "      <td>238412</td>\n",
       "    </tr>\n",
       "    <tr>\n",
       "      <th>unique</th>\n",
       "      <td>3186</td>\n",
       "      <td>227818</td>\n",
       "    </tr>\n",
       "    <tr>\n",
       "      <th>top</th>\n",
       "      <td>2005</td>\n",
       "      <td>.</td>\n",
       "    </tr>\n",
       "    <tr>\n",
       "      <th>freq</th>\n",
       "      <td>707</td>\n",
       "      <td>211</td>\n",
       "    </tr>\n",
       "  </tbody>\n",
       "</table>\n",
       "</div>"
      ],
      "text/plain": [
       "               ids sentence\n",
       "tag                        \n",
       "hl  count     5211     5211\n",
       "    unique    3201     5174\n",
       "    top       2874        .\n",
       "    freq        16        7\n",
       "no  count   238412   238412\n",
       "    unique    3186   227818\n",
       "    top       2005        .\n",
       "    freq       707      211"
      ]
     },
     "execution_count": 8,
     "metadata": {},
     "output_type": "execute_result"
    }
   ],
   "source": [
    "allbag = high_mat + sent_mat\n",
    "# print(allbag[6002:6005])\n",
    "\n",
    "d_allbag = pd.DataFrame({'ids':[i[0] for i in allbag], 'sentence':[i[1] for i in allbag], 'tag':[i[2] for i in allbag]})\n",
    "d_allbag.groupby('tag').describe()\n",
    "\n",
    "# NOTE: what's up with non-unique sentences within tags? are there really ~40 sentences the same between all\n",
    "#       highlights among all articles? Look into this?\n"
   ]
  },
  {
   "cell_type": "markdown",
   "metadata": {},
   "source": [
    "### CHECK FOR DUPLICATES in sentences\n",
    "\n"
   ]
  },
  {
   "cell_type": "code",
   "execution_count": 32,
   "metadata": {
    "collapsed": false
   },
   "outputs": [
    {
     "name": "stdout",
     "output_type": "stream",
     "text": [
      "40\n",
      "We are all apprentices in a craft where no one ever becomes a master.\n",
      "5173\n",
      "5173\n"
     ]
    }
   ],
   "source": [
    "seen = set()\n",
    "seen_add = seen.add\n",
    "\n",
    "text_unq = []\n",
    "id_unq = []    # store ids of first unique highlights\n",
    "id_non = []    # store ids of non-unique highlights\n",
    "idnum = 0\n",
    "\n",
    "for x in d_allbag['sentence']:    # get unique highlights, preserving order\n",
    "    if x in seen:\n",
    "        id_non.append(d_allbag['ids'][idnum])\n",
    "        idnum += 1\n",
    "        continue\n",
    "    seen_add(x)\n",
    "    text_unq.append(x)\n",
    "    id_unq.append(d_allbag['ids'][idnum])\n",
    "    idnum += 1\n",
    "    if idnum == 5210:\n",
    "        break\n",
    "\n",
    "print(id_unq[49])    # check that id_hl_uniq matches htext_uniq -- it does!!\n",
    "print(text_unq[49])\n",
    "print(len(id_unq))\n",
    "print(len(text_unq))"
   ]
  },
  {
   "cell_type": "markdown",
   "metadata": {},
   "source": [
    "### Calculate lengths\n",
    "\n"
   ]
  },
  {
   "cell_type": "code",
   "execution_count": null,
   "metadata": {
    "collapsed": true
   },
   "outputs": [],
   "source": [
    "d_allbag['length'] = d_allbag['sentence'].map(lambda text: len(text))\n",
    "print(d_allbag.head())\n"
   ]
  },
  {
   "cell_type": "markdown",
   "metadata": {},
   "source": [
    "### Visualize distribution of lengths\n",
    "\n"
   ]
  },
  {
   "cell_type": "code",
   "execution_count": 10,
   "metadata": {
    "collapsed": false
   },
   "outputs": [
    {
     "data": {
      "image/png": "[encoded data removed]",
      "text/plain": [
       "<matplotlib.figure.Figure at 0x11ac55128>"
      ]
     },
     "metadata": {},
     "output_type": "display_data"
    }
   ],
   "source": [
    "plot = d_allbag.hist(column='length', by='tag', bins=50)#, xlim=[0, 800], ylim=[0,800])\n",
    "# plt.set_xlim((0,800))\n",
    "# plot[0][1].set_xlim((0,800))\n",
    "plt.show()"
   ]
  },
  {
   "cell_type": "markdown",
   "metadata": {},
   "source": [
    "### Tokenize into words\n",
    "\n"
   ]
  },
  {
   "cell_type": "code",
   "execution_count": 11,
   "metadata": {
    "collapsed": false
   },
   "outputs": [
    {
     "name": "stdout",
     "output_type": "stream",
     "text": [
      "0    [until, you, appreciate, what, you, currently,...\n",
      "1    [and, let, ’, s, not, feel, terrified, but, fu...\n",
      "2    [hard, work, is, doing, the, work, other, peop...\n",
      "3    [he, ’, d, made, up, his, mind, to, skip, the,...\n",
      "4    [realizing, that, our, action, feeling, and, b...\n",
      "Name: sentence, dtype: object\n"
     ]
    },
    {
     "data": {
      "text/plain": [
       "0         [until, you, appreciate, what, you, currently,...\n",
       "1         [and, let, ’, s, not, feel, terrified, but, fu...\n",
       "2         [hard, work, is, doing, the, work, other, peop...\n",
       "3         [he, ’, d, made, up, his, mind, to, skip, the,...\n",
       "4         [realizing, that, our, action, feeling, and, b...\n",
       "5         [so, the, advice, i, have, is, to, find, what,...\n",
       "6                    [what, your, financial, ambition, are]\n",
       "7                        [what, your, life, challenge, are]\n",
       "8         [the, problem, that, you, want, to, try, and, ...\n",
       "9         [the, mountain, that, you, want, to, climb, wh...\n",
       "10               [you, can, ’, t, listen, to, anyone, else]\n",
       "11        [you, need, to, listen, to, yourself, and, do,...\n",
       "12        [cryptoeconomic, approach, combine, cryptograp...\n",
       "13        [you, can, feel, however, you, want, about, du...\n",
       "14        [he, very, well, might, win, four, consecutive...\n",
       "15        [but, there, ’, s, no, denying, the, pure, spl...\n",
       "16        [a, good, principle, should, be, a, tradeoff, ...\n",
       "17        [but, do, i, think, there, are, going, to, be,...\n",
       "18                                             [absolutely]\n",
       "19        [angry, unhappy, people, demand, bad, leader, ...\n",
       "20                [happy, healthy, sane, people, don, ’, t]\n",
       "21        [thus, we, must, produce, better, follower, to...\n",
       "22                [what, doe, “, better, follower, ”, mean]\n",
       "23        [it, mean, people, who, aren, ’, t, ready, to,...\n",
       "24        [who, can, think, beyond, hyperrational, narro...\n",
       "25        [you, can, hardly, blame, people, with, life, ...\n",
       "26        [for, clarity, we, remove, technical, term, an...\n",
       "27        [the, fact, that, something, take, longer, and...\n",
       "28        [what, matter, is, that, we, ’, re, trying, to...\n",
       "29        [prioritize, placing, button, at, the, bottom,...\n",
       "                                ...                        \n",
       "243593    [“, is, that, why, you, made, ani, the, way, s...\n",
       "243594    [take, your, pick, from, the, long, and, vicio...\n",
       "243595    [what, we, don, ’, t, have, are, many, that, a...\n",
       "243596    [men, who, are, power-hungry, who, grapple, wi...\n",
       "243597    [only, ani, ’, s, struggle, are, not, all, tha...\n",
       "243598    [both, character, came, from, humble, beginnin...\n",
       "243599    [a, an, adult, the, terrain, of, her, everest,...\n",
       "243600    [like, don, ani, ha, undergone, a, name, chang...\n",
       "243601    [ani, ’, s, real, name, is, tifani, fanelli, —...\n",
       "243602    [she, will, be, ani, harrison, a, completely, ...\n",
       "243603    [ani, ’, s, struggle, to, say, the, right, thi...\n",
       "243604    [but, their, yield, is, invaluable, to, someon...\n",
       "243605                            [they, offer, protection]\n",
       "243606    [when, you, first, meet, her, she, ’, s, regis...\n",
       "243607    [she, ’, s, the, picture, of, instagram, perfe...\n",
       "243608    [ani, like, so, many, of, the, unlikeable, qua...\n",
       "243609    [remember, tony, ’, s, duck, in, the, very, fi...\n",
       "243610    [here, is, the, formidable, bos, of, a, violen...\n",
       "243611    [it, ’, s, a, small, but, pivotal, moment, tha...\n",
       "243612                       [loretta, is, ani, ’, s, duck]\n",
       "243613    [ani, meet, requirement, number, two, for, the...\n",
       "243614    [a, an, adult, she, ’, s, managed, to, get, on...\n",
       "243615    [she, observes, people, determines, what, they...\n",
       "243616    [she, ’, s, a, babe, too, —, a, tastefully, dr...\n",
       "243617    [the, mad, men, finale, wa, indeed, a, thing, ...\n",
       "243618    [don, draper, is, a, brilliantly, drawn, flawe...\n",
       "243619       [but, i, don, ’, t, need, to, tell, you, this]\n",
       "243620    [i, don, ’, t, need, to, write, you, a, letter...\n",
       "243621    [but, if, the, zeitgeist, ’, s, history, of, c...\n",
       "243622    [give, ani, —, and, other, woman, like, her, —...\n",
       "Name: sentence, dtype: object"
      ]
     },
     "execution_count": 11,
     "metadata": {},
     "output_type": "execute_result"
    }
   ],
   "source": [
    "def tokenize_words(txt):\n",
    "    txt = txt.lower()  # convert bytes into proper unicode\n",
    "    return TextBlob(txt).words\n",
    "\n",
    "def split_into_lemmas(sent):\n",
    "    sent = sent.lower()\n",
    "    words = TextBlob(sent).words\n",
    "    # for each word, take its \"base form\" = lemma \n",
    "    return [word.lemma for word in words]\n",
    "\n",
    "\n",
    "# d_allbag2 = d_allbag.copy()\n",
    "# print(d_allbag.head())\n",
    "\n",
    "print(d_allbag.sentence.head().apply(split_into_lemmas))\n",
    "# print(d_allbag.sentence.head().apply(tokenize_words))\n",
    "d_allbag.sentence.apply(split_into_lemmas)\n",
    "\n"
   ]
  },
  {
   "cell_type": "markdown",
   "metadata": {},
   "source": [
    "### Save\n",
    "\n"
   ]
  },
  {
   "cell_type": "code",
   "execution_count": 12,
   "metadata": {
    "collapsed": true
   },
   "outputs": [],
   "source": [
    "# f_allbag = open('/Users/clarencecheng/Dropbox/~Insight/skimr/datasets/d_allbag','wb')\n",
    "# pickle.dump(d_allbag, f_allbag)\n"
   ]
  },
  {
   "cell_type": "markdown",
   "metadata": {},
   "source": [
    "### Vectorize"
   ]
  },
  {
   "cell_type": "code",
   "execution_count": 13,
   "metadata": {
    "collapsed": false
   },
   "outputs": [
    {
     "name": "stdout",
     "output_type": "stream",
     "text": [
      "test\n",
      "82918\n"
     ]
    }
   ],
   "source": [
    "print('test')\n",
    "bow_transformer = CountVectorizer(analyzer=split_into_lemmas).fit(d_allbag['sentence'])\n",
    "# count vectorizer performed on lemmas, fit to all sentences\n",
    "print(len(bow_transformer.vocabulary_))\n"
   ]
  },
  {
   "cell_type": "markdown",
   "metadata": {},
   "source": [
    "### Explore vectorized data"
   ]
  },
  {
   "cell_type": "code",
   "execution_count": 22,
   "metadata": {
    "collapsed": false
   },
   "outputs": [
    {
     "name": "stdout",
     "output_type": "stream",
     "text": [
      "The mountains that you want to climb while you’re here.\n",
      "  (0, 15493)\t1\n",
      "  (0, 34330)\t1\n",
      "  (0, 47630)\t1\n",
      "  (0, 59335)\t1\n",
      "  (0, 72144)\t1\n",
      "  (0, 72166)\t1\n",
      "  (0, 73095)\t1\n",
      "  (0, 78283)\t1\n",
      "  (0, 79137)\t1\n",
      "  (0, 80731)\t2\n",
      "  (0, 82553)\t1\n",
      "(1, 82918)\n",
      "you\n",
      "sparse matrix shape: (243623, 82918)\n",
      "number of non-zeros: 3824033\n",
      "sparsity: 0.02%\n"
     ]
    }
   ],
   "source": [
    "test10 = d_allbag['sentence'][9]\n",
    "print(test10)\n",
    "\n",
    "bow10 = bow_transformer.transform([test10])  \n",
    "print(bow10)\n",
    "print(bow10.shape)\n",
    "\n",
    "print( bow_transformer.get_feature_names()[80731] ) # what appears twice?\n",
    "\n",
    "sents_bow = bow_transformer.transform(d_allbag['sentence'])\n",
    "print( 'sparse matrix shape:', sents_bow.shape)\n",
    "print( 'number of non-zeros:', sents_bow.nnz)\n",
    "print( 'sparsity: %.2f%%' % (100.0 * sents_bow.nnz / (sents_bow.shape[0] * sents_bow.shape[1])))"
   ]
  },
  {
   "cell_type": "markdown",
   "metadata": {},
   "source": [
    "# Apply TF-IDF transformation\n",
    "\n"
   ]
  },
  {
   "cell_type": "code",
   "execution_count": 25,
   "metadata": {
    "collapsed": false
   },
   "outputs": [
    {
     "name": "stdout",
     "output_type": "stream",
     "text": [
      "  (0, 82553)\t0.125820036863\n",
      "  (0, 80731)\t0.308799103692\n",
      "  (0, 79137)\t0.306853179723\n",
      "  (0, 78283)\t0.267032289544\n",
      "  (0, 73095)\t0.116899882943\n",
      "  (0, 72166)\t0.107247239777\n",
      "  (0, 72144)\t0.151781857868\n",
      "  (0, 59335)\t0.249793466847\n",
      "  (0, 47630)\t0.49475037811\n",
      "  (0, 34330)\t0.286645393836\n",
      "  (0, 15493)\t0.534604278266\n",
      "4.90700328043\n",
      "7.07902236975\n",
      "2.63191132802\n"
     ]
    }
   ],
   "source": [
    "tfidf_transformer = TfidfTransformer().fit(sents_bow)\n",
    "tfidf10 = tfidf_transformer.transform(bow10)\n",
    "print(tfidf10)\n",
    "\n",
    "print( tfidf_transformer.idf_[bow_transformer.vocabulary_['u']])\n",
    "print( tfidf_transformer.idf_[bow_transformer.vocabulary_['university']])\n",
    "print( tfidf_transformer.idf_[bow_transformer.vocabulary_['you']])"
   ]
  },
  {
   "cell_type": "code",
   "execution_count": 27,
   "metadata": {
    "collapsed": false
   },
   "outputs": [
    {
     "name": "stdout",
     "output_type": "stream",
     "text": [
      "(243623, 82918)\n"
     ]
    }
   ],
   "source": [
    "sents_tfidf = tfidf_transformer.transform(sents_bow)\n",
    "print( sents_tfidf.shape)"
   ]
  },
  {
   "cell_type": "markdown",
   "metadata": {},
   "source": [
    "### TRY OUT TRAINING MODEL\n",
    "Just train model on the full dataset for now, split into test/train/validation sets later\n"
   ]
  },
  {
   "cell_type": "code",
   "execution_count": 44,
   "metadata": {
    "collapsed": false
   },
   "outputs": [
    {
     "name": "stdout",
     "output_type": "stream",
     "text": [
      "CPU times: user 757 ms, sys: 31.6 ms, total: 789 ms\n",
      "Wall time: 806 ms\n"
     ]
    }
   ],
   "source": [
    "%time highlighter = MultinomialNB().fit(sents_tfidf, d_allbag['tag'])"
   ]
  },
  {
   "cell_type": "code",
   "execution_count": 50,
   "metadata": {
    "collapsed": false
   },
   "outputs": [
    {
     "name": "stdout",
     "output_type": "stream",
     "text": [
      "predicted: no\n",
      "expected: hl\n",
      "['no' 'no' 'no' ..., 'no' 'no' 'no']\n",
      "accuracy 0.977272260829\n",
      "confusion matrix\n",
      " [[     4   5207]\n",
      " [   330 238082]]\n",
      "(row=expected, col=predicted)\n"
     ]
    },
    {
     "data": {
      "image/png": "[encoded data removed]",
      "text/plain": [
       "<matplotlib.figure.Figure at 0x10a174f98>"
      ]
     },
     "metadata": {},
     "output_type": "display_data"
    },
    {
     "data": {
      "image/png": "[encoded data removed]",
      "text/plain": [
       "<matplotlib.figure.Figure at 0x122bd3780>"
      ]
     },
     "metadata": {},
     "output_type": "display_data"
    }
   ],
   "source": [
    "print( 'predicted:', highlighter.predict(tfidf10)[0])\n",
    "print( 'expected:', d_allbag.tag[9])\n",
    "\n",
    "all_predictions = highlighter.predict(sents_tfidf)\n",
    "print( all_predictions)\n",
    "\n",
    "print( 'accuracy', accuracy_score(d_allbag['tag'], all_predictions))\n",
    "print( 'confusion matrix\\n', confusion_matrix(d_allbag['tag'], all_predictions))\n",
    "print( '(row=expected, col=predicted)')\n",
    "\n",
    "plt.matshow(confusion_matrix(d_allbag['tag'], all_predictions), cmap=plt.cm.binary, interpolation='nearest')\n",
    "plt.title('confusion matrix')\n",
    "plt.colorbar()\n",
    "plt.ylabel('expected label')\n",
    "plt.xlabel('predicted label')\n",
    "plt.show()"
   ]
  },
  {
   "cell_type": "code",
   "execution_count": 52,
   "metadata": {
    "collapsed": false
   },
   "outputs": [
    {
     "name": "stdout",
     "output_type": "stream",
     "text": [
      "             precision    recall  f1-score   support\n",
      "\n",
      "         hl       0.01      0.00      0.00      5211\n",
      "         no       0.98      1.00      0.99    238412\n",
      "\n",
      "avg / total       0.96      0.98      0.97    243623\n",
      "\n"
     ]
    }
   ],
   "source": [
    "print( classification_report(d_allbag['tag'], all_predictions))\n"
   ]
  },
  {
   "cell_type": "markdown",
   "metadata": {},
   "source": [
    "### SPLIT INTO TRAINING, TEST, HOLDOUT SETS\n"
   ]
  },
  {
   "cell_type": "code",
   "execution_count": 35,
   "metadata": {
    "collapsed": false
   },
   "outputs": [
    {
     "name": "stdout",
     "output_type": "stream",
     "text": [
      "194898 48725 243623\n"
     ]
    }
   ],
   "source": [
    "sent_train, sent_test, tag_train, tag_test = \\\n",
    "    train_test_split(d_allbag['sentence'], d_allbag['tag'], test_size=0.2)\n",
    "\n",
    "print( len(sent_train), len(sent_test), len(sent_train) + len(sent_test))"
   ]
  },
  {
   "cell_type": "code",
   "execution_count": 43,
   "metadata": {
    "collapsed": false
   },
   "outputs": [
    {
     "name": "stdout",
     "output_type": "stream",
     "text": [
      "132650    no\n",
      "158030    no\n",
      "81619     no\n",
      "143376    no\n",
      "63394     no\n",
      "Name: tag, dtype: object\n",
      "132650    I got really good at rebuilding my identity fr...\n",
      "158030    If you only followed FOX, NPR, CNBC, or Reuter...\n",
      "81619     There is too much focus in Silicon Valley on t...\n",
      "143376    Rayovac eventually brought out something almos...\n",
      "63394                                      How can this be?\n",
      "Name: sentence, dtype: object\n"
     ]
    },
    {
     "ename": "AttributeError",
     "evalue": "'Series' object has no attribute 'tag'",
     "output_type": "error",
     "traceback": [
      "\u001b[0;31m---------------------------------------------------------------------------\u001b[0m",
      "\u001b[0;31mAttributeError\u001b[0m                            Traceback (most recent call last)",
      "\u001b[0;32m<ipython-input-43-1383809cf55e>\u001b[0m in \u001b[0;36m<module>\u001b[0;34m()\u001b[0m\n\u001b[1;32m      1\u001b[0m \u001b[0mprint\u001b[0m\u001b[0;34m(\u001b[0m\u001b[0mtag_test\u001b[0m\u001b[0;34m.\u001b[0m\u001b[0mhead\u001b[0m\u001b[0;34m(\u001b[0m\u001b[0;34m)\u001b[0m\u001b[0;34m)\u001b[0m\u001b[0;34m\u001b[0m\u001b[0m\n\u001b[1;32m      2\u001b[0m \u001b[0mprint\u001b[0m\u001b[0;34m(\u001b[0m\u001b[0msent_test\u001b[0m\u001b[0;34m.\u001b[0m\u001b[0mhead\u001b[0m\u001b[0;34m(\u001b[0m\u001b[0;34m)\u001b[0m\u001b[0;34m)\u001b[0m\u001b[0;34m\u001b[0m\u001b[0m\n\u001b[0;32m----> 3\u001b[0;31m \u001b[0mlen\u001b[0m\u001b[0;34m(\u001b[0m\u001b[0mtag_test\u001b[0m\u001b[0;34m.\u001b[0m\u001b[0mtag\u001b[0m\u001b[0;34m[\u001b[0m\u001b[0;36m0\u001b[0m\u001b[0;34m]\u001b[0m\u001b[0;34m)\u001b[0m\u001b[0;34m\u001b[0m\u001b[0m\n\u001b[0m\u001b[1;32m      4\u001b[0m \u001b[0;31m# print(tag_test.count('hl'))\u001b[0m\u001b[0;34m\u001b[0m\u001b[0;34m\u001b[0m\u001b[0m\n\u001b[1;32m      5\u001b[0m \u001b[0;31m# print(tag_train.count('hl'))\u001b[0m\u001b[0;34m\u001b[0m\u001b[0;34m\u001b[0m\u001b[0m\n",
      "\u001b[0;32m/Users/clarencecheng/anaconda/envs/myprojects_py36/lib/python3.6/site-packages/pandas/core/generic.py\u001b[0m in \u001b[0;36m__getattr__\u001b[0;34m(self, name)\u001b[0m\n\u001b[1;32m   2742\u001b[0m             \u001b[0;32mif\u001b[0m \u001b[0mname\u001b[0m \u001b[0;32min\u001b[0m \u001b[0mself\u001b[0m\u001b[0;34m.\u001b[0m\u001b[0m_info_axis\u001b[0m\u001b[0;34m:\u001b[0m\u001b[0;34m\u001b[0m\u001b[0m\n\u001b[1;32m   2743\u001b[0m                 \u001b[0;32mreturn\u001b[0m \u001b[0mself\u001b[0m\u001b[0;34m[\u001b[0m\u001b[0mname\u001b[0m\u001b[0;34m]\u001b[0m\u001b[0;34m\u001b[0m\u001b[0m\n\u001b[0;32m-> 2744\u001b[0;31m             \u001b[0;32mreturn\u001b[0m \u001b[0mobject\u001b[0m\u001b[0;34m.\u001b[0m\u001b[0m__getattribute__\u001b[0m\u001b[0;34m(\u001b[0m\u001b[0mself\u001b[0m\u001b[0;34m,\u001b[0m \u001b[0mname\u001b[0m\u001b[0;34m)\u001b[0m\u001b[0;34m\u001b[0m\u001b[0m\n\u001b[0m\u001b[1;32m   2745\u001b[0m \u001b[0;34m\u001b[0m\u001b[0m\n\u001b[1;32m   2746\u001b[0m     \u001b[0;32mdef\u001b[0m \u001b[0m__setattr__\u001b[0m\u001b[0;34m(\u001b[0m\u001b[0mself\u001b[0m\u001b[0;34m,\u001b[0m \u001b[0mname\u001b[0m\u001b[0;34m,\u001b[0m \u001b[0mvalue\u001b[0m\u001b[0;34m)\u001b[0m\u001b[0;34m:\u001b[0m\u001b[0;34m\u001b[0m\u001b[0m\n",
      "\u001b[0;31mAttributeError\u001b[0m: 'Series' object has no attribute 'tag'"
     ]
    }
   ],
   "source": [
    "print(tag_test.head())\n",
    "print(sent_test.head())\n",
    "len(tag_test.tag[0])\n",
    "# print(tag_test.count('hl'))\n",
    "# print(tag_train.count('hl'))\n",
    "# print(tag_test.count('no'))\n",
    "# print(tag_train.count('no'))\n"
   ]
  },
  {
   "cell_type": "code",
   "execution_count": null,
   "metadata": {
    "collapsed": true
   },
   "outputs": [],
   "source": []
  }
 ],
 "metadata": {
  "kernelspec": {
   "display_name": "Python 3",
   "language": "python",
   "name": "python3"
  },
  "language_info": {
   "codemirror_mode": {
    "name": "ipython",
    "version": 3
   },
   "file_extension": ".py",
   "mimetype": "text/x-python",
   "name": "python",
   "nbconvert_exporter": "python",
   "pygments_lexer": "ipython3",
   "version": "3.6.0"
  }
 },
 "nbformat": 4,
 "nbformat_minor": 2
}
